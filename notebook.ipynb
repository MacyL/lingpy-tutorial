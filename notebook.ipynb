{
 "cells": [
  {
   "cell_type": "markdown",
   "metadata": {},
   "source": [
    "# Sequence Comparison with LingPy\n",
    "\n",
    "This tutorial will run you through the major steps needed in order to infer cognates automatically with [LingPy](http://lingpy.org) ([List and Forkel 2016](:ref:List2016e)) from linguistic word list data and to export the data into various formats so that you can either inspect them using tools like the [EDICTOR](http://edictor.digling.org) ([List 2017](:ref:List2017d)), or further analyse them, using software like [SplitsTree](http://splitstree.org) ([Huson 1998](:ref:Huson1998)) or [BEAST](http://www.beast2.org) ([Bouckaert et al. 2014](:ref:Bouckaert2014)).\n",
    "\n",
    "Basically, this tutorial assumes that you have at least an undergraduate level understanding of historical linguistics (particularly the comparative method), requiring only working knowledge of Python and command line operation. Commands will be provided in addition to the pure Python examples in form of a Python script which can be triggered by calling it via the command line and passing certain keywords:\n",
    "\n",
    "```bash\n",
    "$ python3 autocogs.py help\n",
    "```\n",
    "\n",
    "It is required that you have installed both LingPy in the version [2.5.1](https://github.com/lingpy/lingpy/releases/tag/v2.5.1) for Python3 (as this tutorial will assume that you use Python3) available on [GitHub](https://github.com/lingpy/lingpy), and (as a plus) the [python-igraph](http://igraph.org) package ([Csárdi and Nepusz 2006](:ref:Csardi2006)). Furthermore, in order to follow all examples given in this tutorial, it is useful to work with the [ipython](http://ipython.org) suite, which is very convenient for testing code pieces directly against the Python interpreter.\n",
    "\n",
    "*Tiago - I agree that this document should focus on LingPy's usage, but it is essential to give a detailed guide for installing LingPy. Even if the pip version (including cddlutils) is up to date, running `pip install lingpy` is not something so trivial to someone with the expected knowledge of programming/Python/system administration, especially considering the differences between operating systems. Perhaps even a step-by-step instruction or a virtual machine with everything in place could be considered (I used this years ago, when I taught NLTK). I also believe it is important to state the level of Python knowledge that this tutorial assumes, even if it can be followed by most people without a deep understanding of things such as classes, list comprehensions, etc.*\n",
    "\n",
    "The tutorial is divided into different blocks, during which different aspects of sequence comparison will be illustrated from the concrete perspective of LingPy. In order to understand fully all that is going on, however, this tutorial won't be sufficient, and it is recommended that those who are interested in the algorithmic and conceptual details of LingPy's major algorithms for sequence comparison have a closer look at the book [Sequence Comparison in Historical Linguistics](https://sequencecomparison.github.io) ([List 2014](:ref:List2014d) in which the most comprehensive state of the art is reflected. More recent papers might occasionally be mentioned in order to account for those aspects of sequence comparison which have been changed since then, but the book on sequence comparison (which is also freely available for download) is still the best starting point.\n",
    "\n",
    "The tutorial is divided into the following parts:\n",
    "\n",
    "1. Hands on the Data: Preparing, Loading, and Testing Word List Data\n",
    "2. Phonetic Alignment\n",
    "3. Automatic Cognate Detection\n",
    "4. Further Use: Inspection, Evaluation, and Export\n",
    "\n",
    "\n",
    "## Hands on the Data\n",
    "\n",
    "### The Testset\n",
    "\n",
    "Linguists are often skeptical when they hear that LingPy requires explicit phonetic transcriptions, and often, they are even reluctant to interpret their data along the lines of the International Phonetic Alphabet. But in order to give the algorithms a fair chance to interpret the data in the same way in which they would be interpreted by linguists, a general practice for phonetic transcriptions is indispensable. \n",
    "\n",
    "*Tiago - maybe a reference to such skepticism could be given here.*\n",
    "\n",
    "For our test, we will use a dataset consisting of 31 Polynesian languages taken from the [ABVD](http://language.psy.auckland.ac.nz/austronesian/) ([Greenhill et al. 2008](:ref:Greenhill2008)). This dataset was intensively revised and cleaned in collaboration with Mary Walworth, who corrected many problematic entries and provided detailed information on how to convert the data into standardized phonetic transcriptions. The testset, along with our basic script containing also this tutorial, is available in the [lingpy](+++) folder of the [QMSS-2017](https://github.com/shh-dlce/qmss-2017) repository. In the following, we will assume that you opened the terminal in this folder so that in case you list all files using the `ls` command, you will see files like:\n",
    "\n",
    "* `autocogs.py`\n",
    "* `polynesian.tsv`\n",
    "\n",
    "Let us start by quickly examining the file `polynesian.tsv` which we prepared for this occasion. This file is a tab-separated text file with the first row indicating the header, and the very first column is reserved for numeric identifiers. If you open this file in a spreadsheet editor (and make sure to select \"tab\" as a delimiter, and NO characters to delimit a cell), will see that it is a very straightforward spreadsheet, in which the first row is a header indicating the names of the columns, and the first cell is reserved for an identifier, which should be numeric (but order does not matter).\n",
    "\n",
    "ID | DOCULECT | CONCEPT | GLOTTOCODE | CONCEPTICON_ID | VALUE | FORM | TOKENS | VARIANTS | SOURCE | COGID | LOAN\n",
    "--- | --- | --- | --- | --- | --- | --- | --- | --- | --- | --- | ---\n",
    "188 | Emae_1030 | Eight | emae1237 | 1705 | βaru | βaru | β a r u |  | 52375 | 750 | False\n",
    "447 | RennellBellona_206 | Eight | renn1242 | 1705 | baŋgu | baŋgu | b a ŋ g u |  | POLLEX | 750 | False\n",
    "703 | Tuvalu_753 | Eight | tuva1244 | 1705 | valu | valu | v a l u |  | 29903 | 750 | False\n",
    "927 | Sikaiana_243 | Eight | sika1261 | 1705 | valu | valu | v a l u |  | POLLEX | 750 | False\n",
    "1135 | Penrhyn_235 | Eight | penr1237 | 1705 | varu | varu | v a r u |  | POLLEX | 750 | False\n",
    "6114 | Kapingamarangi_217 | Eight | kapi1249 | 1705 | waru | waru | w a r u | walu | POLLEX | 750 | False\n",
    "\n",
    "You may even prepare your data in a spreadsheet to then analyze it in LingPy. You just need to make sure to export it properly to the TSV format (which you can easily do by just copy-pasting it into an empty text-file). What you need to know about the format, however, is the following:\n",
    "\n",
    "1. contrary to most linguists' intuition, the columns do **not** indicate languages: each row indicates one word and, as a result, language names need to be redundantly repeated\n",
    "2. certain columns are **required** by LingPy, and their number can vary, depending on the task you want to carry out: for the purpose of cognate detection, you need at least the columns `doculect`, `concept`, and either a plain transcription (the default column name is `ipa`) or a more advanced and less ambiguous transcription in segmented form (the default column name is `tokens`).\n",
    "3. in order to increase readability, column headers are upper-case when LingPy writes them to file, but this is not required (internally all columns are represented as lowercase when loaded into LingPy's objects)\n",
    "4. depending on the names of the columns, values will be interpreted by default: if you have a column called `cogid`, this will be converted to an integer, and `tokens` usually assumes that you have a string separated by spaces. As a result, LingPy may throw an error if your columns do not follow these required formats. To check how columns are interpreted, you can check the file [wordlist.rc](https://github.com/lingpy/lingpy/blob/master/lingpy/data/conf/wordlist.rc) where you will find a full account of currently supported values.\n",
    "\n",
    "Not all of the columns in the table above are fully \"standardized\". The `DOCULECT` one, for example, so far only requires that distinct languages are given distinct names, no matter what those names contain (as long it has no tabulation stops). But for the purpose of exporting the data to other formats afterward, it is useful to restrict to alphanumeric names here, and to exclude all brackets or spaces from the language names, as we have been doing in this test set. This becomes especially important when inferring trees or using trees in further LingPy analyses: as trees are represented in the [Newick](https://en.wikipedia.org/wiki/Newick_format) format, where brackets play an important role, brackets in the names for the doculects will confuse the algorithm and raise an error.\n",
    "\n",
    "*Tiago - Considering that the paragraph below explains where the GLOTTOCODE and CONCEPTICON_ID come from, it might be worth explaining where the DOCULECT ids for this example come from, too.*\n",
    "\n",
    "As the last point, note that we list `GLOTTOCODE` and `CONCEPTICON_ID`, which follows two major requirements for word list data we try to establish for the [Cross-Linguistic Data Formats (CLDF)](http://cldf.clld.org) initiative. As the linguistic sign has three major dimensions, the *language*, the *meaning*, and the *word form*, `GLOTTOCODE`, the language identifier provided by the [Glottolog project](http://glottolog.org) ([Hammarström, Forkel and Haspelmath 2017](:ref:Hammarstroem2017)) and `CONCEPTICON_ID`, the meaning identifier provided by the [Concepticon project](http://concepticon.clld.org) ([List, Cysouw, and Forkel 2016](:ref:List2016a) cover two of these aspects, while the third aspect, the consistency of the form, is currently covered by LingPy (more on this below).\n",
    "\n",
    "### Segmentation of Phonetic Entries\n",
    "\n",
    "In addition to the \"normal\" requirement of the data to be written in IPA, LingPy offers to provide the explicit segmentation of the data into sound segments. Segmentation is represented as a space-separated string in the input data, as you can see when looking at the table above, right in the cells of the `TOKENS` column. While segmentation looks unspectacular in these cases where each sound is represented by only one symbol, it may become problematic when dealing with affricates, pre-aspirated sounds, and complex vowels. The problem is usually that IPA transcriptions are inherently ambiguous, and this ambiguity is then passed on to the algorithms which cannot handle it. For example, a word like German `[`apfəl`]` \"apple\" could be either segmented as `[` a p f ə l `]`, or, and historically more consistently, as `[` a pf ə l `]`. But if the latter reading is intended (and this is usually language-family-specific), the only way to handle this consistently in IPA would be to put the bar over it: `[`ap͡fəl`]`. This practice, however, would still render the detection of pre-aspiration and other cases impossible. Although LingPy deals rather well with explicit IPA, we recommend all users to segment the data themselves and indicate this by placing one column in their input word list, in which the phonetic entries are explicitly segmented by a space (with the underscore being used to mark original spaces, i.e., word breaks).\n",
    "\n",
    "LingPy's `sequence`-package offers many functions to handle phonetic sequences and to segment them automatically. As an example, consider the following code-pieces and try to find out what they are actually doing (or trigger ```$ python3 autocog.py segments``` in the command line):"
   ]
  },
  {
   "cell_type": "code",
   "execution_count": 1,
   "metadata": {},
   "outputs": [
    {
     "name": "stdout",
     "output_type": "stream",
     "text": [
      "th o x t a \t->\t th\to\tx\tt\ta\n",
      "thoxta   \t->\t t\th\to\tx\tt\ta\n",
      "thoxta   \t->\t th\to\tx\tt\ta\n",
      "apfəl   \t->\t a\tp\tf\tə\tl\n",
      "apfəl   \t->\t a\tpf\tə\tl\n",
      "tʰoxtɐ   \t->\t tʰ\to\tx\tt\tɐ\n",
      "dɔːtər   \t->\t d\tɔː\tt\tə\tr\n"
     ]
    }
   ],
   "source": [
    "from __future__ import unicode_literals, print_function, division\n",
    "from lingpy import *\n",
    "\n",
    "seq1, seq2, seq3, seq4, seq5 = \"th o x t a\", \"thoxta\", \"apfəl\", \"tʰoxtɐ\", \"dɔːtər\"\n",
    "\n",
    "print(seq1, \"\\t->\\t\", '\\t'.join(ipa2tokens(seq1)))\n",
    "print(seq2, \"  \\t->\\t\", '\\t'.join(ipa2tokens(seq2)))\n",
    "print(seq2, \"  \\t->\\t\", '\\t'.join(ipa2tokens(seq2, semi_diacritics=\"h\")))\n",
    "print(seq3, \"  \\t->\\t\", '\\t'.join(ipa2tokens(seq3)))\n",
    "print(seq3, \"  \\t->\\t\", '\\t'.join(ipa2tokens(seq3, semi_diacritics=\"f\")))\n",
    "print(seq4, \"  \\t->\\t\", '\\t'.join(ipa2tokens(seq4)))\n",
    "print(seq5, \"  \\t->\\t\", '\\t'.join(ipa2tokens(seq5)))"
   ]
  },
  {
   "cell_type": "markdown",
   "metadata": {},
   "source": [
    "You can see from these examples that LingPy's `ipa2tokens` function automatically identifies diacritics and the like, but that you can also tweak it to some extent. If the sequence contains white spaces, as in the first example, `ipa2tokens` will split by white space and assume that the data is *already* segmented. We won't go into the details of this and other functions here, but you should consider giving the documentation a proper read before you start spending time on segmenting your data manually. At the same time, when trusting LingPy's default algorithm for segmentation, you should always make sure after using it that the segmentations make sense. If they are largely wrong or problematic, you should refine them before running any automatic cognate detection method.\n",
    "\n",
    "An alternative is to use the `segments` package by Steven Moran, whose main idea is more comprehensively described in [Moran and Cysouw (2017)](:ref:Moran2017). We have in fact been using it for our working example in order to segment the ABVD data on Polynesian languages properly, but it would require more time to introduce you to all the details at this point. Just keep in mind that segmentation is **crucial** for automatic cognate detection and that it is your responsibility to make sure that the algorithms \"understand\" the data you give them to analyze.\n",
    "\n",
    "Above, I wrote that LingPy takes care of the *word form* as one of the units of the linguistic sign in the classical \"Saussurean\" model. But how can we know whether LingPy recognizes a symbol or not? For this, we need to understand what LingPy does internally with word forms. Here, LingPy follows [Dolgopolsky's (1964)](:ref:Dolgopolsky1964) idea of \"sound classes\", namely the idea that we can break down the complexity inherent in phonetic transcription to some major classes of sounds so that those sounds represent some kind of a coherent unit. Dolgopolsky was thinking of sounds which often occur in correspondence relation to each other, assuming that there is a certain sound-correspondence probability inherent in all sounds (see also [Brown, Holman, and Wichmann 2013](:ref:Brown2013)). In my experience so far, this is definitely one important aspect, but even more important is the role of reducing variation which is unnecessary for historical comparison while at the same time maintaining a sufficient degree of distinctiveness. For this reason, I expanded Dolgopolsky's original system of only 10 sound classes to as many as 25 sound classes, and LingPy further offers the alphabet which was used for the [ASJP project](http://asjp.org) ([Wichmann, Holman, and Brown 2014](Wichmann2014)), which consists of 40 symbols in a slightly modified version. The following image illustrates the differences between these sound class alphabets and also shows how they represent the Greek word for \"daughter\".\n",
    "\n",
    "![image](soundclasses.jpg)\n",
    "\n",
    "How can we represent sound classes in LingPy? There is one main function that converts a segmented sound sequence into sound classes. This function `tokens2class` takes as input a list or a tuple of segments, that is, the output which you would also get when calling `ipa2tokens`, and a valid sound class model. You can theoretically create models yourself, and pass them as an instance of a specific `Model` class in LingPy, but for the moment, we will only use the ones which are there and denote them with strings, i.e., `dolgo` for Dolgopolsky's model, `sca` for my expanded model of Dolgopolsky, and `asjp` for the ASJP model). Let's just take these three and another specific model, called `art` (for \"articulation\") which gives numbers to indicate the prosody of sounds, and convert the word Greek `[`θiɣatɛra`]` into the different sound class systems (you can also trigger this by typing ```$ python3 autocogs.py classes``` in the command line).\n"
   ]
  },
  {
   "cell_type": "code",
   "execution_count": 2,
   "metadata": {},
   "outputs": [
    {
     "name": "stdout",
     "output_type": "stream",
     "text": [
      "θiɣatɛra  ->  TVKVTVRV (dolgo)\n",
      "θiɣatɛra  ->  DIGATERA (sca)\n",
      "θiɣatɛra  ->  8ixatEra (asjp)\n",
      "θiɣatɛra  ->  37371757 (art)\n"
     ]
    }
   ],
   "source": [
    "word = \"θiɣatɛra\"\n",
    "segs = ipa2tokens(word)\n",
    "\n",
    "# iterate over sound class models and write them in converted version \n",
    "for model in ['dolgo', 'sca', 'asjp', 'art']:\n",
    "    print(word, ' -> ', ''.join(tokens2class(segs, model)), '({0})'.format(model))"
   ]
  },
  {
   "cell_type": "markdown",
   "metadata": {},
   "source": [
    "Note that the conversion to sound classes is the major check whether LingPy has \"understood\" your input. If LingPy does not find a class symbol corresponding to a given segment, it will use the default character \"0\" to indicate this failure of converting a given sound sequence. This zero will be treated as an uninvited guest in most comparisons. It won't be aligned with other elements and will score negatively in the automatic cognate detection routines. You should thus try to avoid this by making sure that your sequences do not contain any errors. When carrying out cognate the detection analysis, we have a specific keyword `check` which you can set to `True` to make sure that all sequences with zeros in sound classes are excluded before the analysis is carried out. But you can easily write a Python function to check yourself in only a few lines (write ```$ python3 autocogs.py errors``` in command line):"
   ]
  },
  {
   "cell_type": "code",
   "execution_count": 3,
   "metadata": {},
   "outputs": [
    {
     "name": "stdout",
     "output_type": "stream",
     "text": [
      "The symbol <E> occurs 1 times and is not recognized.\n"
     ]
    }
   ],
   "source": [
    "from collections import defaultdict\n",
    "\n",
    "def check_sequence(seq):\n",
    "    \"\"\"Takes a segmented string as input and returns erroneously converted segments.\"\"\"\n",
    "    cls = tokens2class(seq, 'dolgo') # doesn't matter which model to take, all cover the same character range\n",
    "    errors = defaultdict(int)\n",
    "    for t, c in zip(seq, cls):\n",
    "        if c == '0':\n",
    "            errors[t] += 1\n",
    "    return errors\n",
    "\n",
    "word = \"θiɣatEra\"\n",
    "seq = ipa2tokens(word)\n",
    "for error, count in check_sequence(seq).items():\n",
    "    print(\"The symbol <{0}> occurs {1} times and is not recognized.\".format(error, count))"
   ]
  },
  {
   "cell_type": "markdown",
   "metadata": {},
   "source": [
    "### Loading the Data into a `Wordlist` Object\n",
    "\n",
    "Loading the data into LingPy is straightforward. LingPy has a couple of classes which are specifically designed to handle word list data, and these classes provide all similar basic functions, plus additional ones for specific purposes:\n",
    "\n",
    "* `Wordlist`: Basic class with core functionality, allows to read, modify, and write word list data, also allows  calculating distance matrices from cognate sets as well as rudimentary tree reconstruction functions (UPGMA, [Sokal and Michener 1958](:ref:Sokal1958), Neighbor-joining, [Saitou and Nei 1987](:ref:Saitou1987)).\n",
    "* `Alignments`: Class allows to align all cognate sets in a word list. Requires one column which stores the cognate sets as well as a column for `doculect`, `concept`, and transcription (default: `ipa`) or user-defined *segmented transcription* (default: `tokens`). Alignments can be carried out in different ways, the algorithms follow the ones first described in [List (2012a)](:ref:List2012b).\n",
    "* `LexStat`: Core class for automatic cognate detection, following the algorithm first described in [List (2012b)](:ref:List2012a) and later expanded in [List (2014)](:ref:List2014d), and [List, Greenhill, and Gray (2017)](List2017c). \n",
    "* `Partial`: Recent algorithm proposed in [List, Lopez, and Bapteste (2016)](:ref:List2016g), allows -- provided data is morpheme-segmented -- to search for partial cognates in the data.\n",
    "\n",
    "We will start with the basic `Wordlist` object to illustrate some core facilities below (command line: ```$ python3 autocogs.py wordlist1```)."
   ]
  },
  {
   "cell_type": "code",
   "execution_count": 4,
   "metadata": {},
   "outputs": [
    {
     "name": "stdout",
     "output_type": "stream",
     "text": [
      "Wordlist has 31 languages and 210 concepts across 7551 rows.\n"
     ]
    }
   ],
   "source": [
    "# load the wordlist\n",
    "wl = Wordlist('polynesian.tsv')\n",
    "\n",
    "# count number of languages, number of rows, number of concepts\n",
    "print(\"Wordlist has {0} languages and {1} concepts across {2} rows.\".format(wl.width, wl.height, len(wl)))"
   ]
  },
  {
   "cell_type": "markdown",
   "metadata": {},
   "source": [
    "By accessing the attributes `width` we retrieve the number of languages and with `height` we retrieve the number of concepts. This follows the logic inherent in the traditional format in which linguists prepare their spreadsheets, namely by placing concepts in the first column and languages in the rest of the columns. Traditional linguistic databases would thus represent the data from the table above as follows:\n",
    "\n",
    "CONCEPT | Emae_1030 | RennellBellona_206 | Tuvalu_753 | Sikaiana_243 | Penrhyn_235 | Kapingamarangi_217 \n",
    "--- | --- | --- | --- | --- | --- | ---\n",
    "one | tasi| tahi | tahi | tasi | tahi | dahi\n",
    "five | rima | gima | lima | lima | rima | lima\n",
    "eight | βaru | baŋu | valu | valu | varu | waru\n",
    "... | ... | ... | ... | ... | ... | ...\n",
    "\n",
    "The disadvantage of this annotation is, however, that we can only store one value in each cell, and we will create inconsistencies if we try to mix information per cell. For that reason, we maintain the strict tabular representation where each word is placed in one row, but internally, LingPy represents the data in multidimensional tables in which languages are thought to be placed in the columns and concepts in the rows. \n",
    "\n",
    "There are multiple ways in LingPy to inspect and manipulate data using the `Wordlist` class, but it would go too far to mention them all here, so we will restrict it to one example, by which we retrieve the values from the six languages above for the entry \"Eight\", using the `wordlist.get_dict()` function, and refer the users to a longer tutorial which is [online](http://lingpy.org/tutorial/lingpy.basic.wordlist.html).\n"
   ]
  },
  {
   "cell_type": "code",
   "execution_count": 5,
   "metadata": {},
   "outputs": [
    {
     "name": "stdout",
     "output_type": "stream",
     "text": [
      "Emae_1030              \t βaru\n",
      "RennellBellona_206     \t baŋgu\n",
      "Tuvalu_753             \t valu\n",
      "Sikaiana_243           \t valu\n",
      "Penrhyn_235            \t varu\n",
      "Kapingamarangi_217     \t walu\n"
     ]
    }
   ],
   "source": [
    "# get all indices for concept \"eight\", `row` refers to the concepts here, while `col` refers to languages\n",
    "eight = wl.get_dict(row='Eight', entry='value')\n",
    "for taxon in ['Emae_1030', 'RennellBellona_206', 'Tuvalu_753', 'Sikaiana_243', 'Penrhyn_235',  'Kapingamarangi_217']:\n",
    "    print('{0:20}'.format(taxon), '  \\t', ', '.join(eight[taxon]))"
   ]
  },
  {
   "cell_type": "markdown",
   "metadata": {},
   "source": [
    "\n",
    "### Checking Coverage\n",
    "\n",
    "For cognate detection, it is not only important to have good phonetic transcriptions (ideally segmented in such a form that they were checked by an experienced linguist), but also to make sure that there are **enough words** in your data. If the data is too sparse, even human linguists would not be able to find any signal based on regular sound correspondences, provided they see the languages the first time and don't know their history (which is the situation for every algorithm). Following an earlier study by [List (2014b)](:ref:List2014c), we know now that at least 100 word pairs for languages as disparate as English and French are needed to provide a solid basis for automatic cognate detection. But when dealing with a large dataset of different languages, which necessarily contains a number of gaps (not all concepts can be elicited in the sources, field work has not provided enough details, etc.), it can be deleterious if the *mutual coverage* between the languages is low. \n",
    "\n",
    "By mutual coverage, I mean the number of comparable word pairs (with the same concept) for each language pair in a given dataset. We can compare different aspects of mutual coverage, such as the *average mutual coverage*, where we average the number of available word pairs, or the *minimal mutual coverage*, which provides the smallest mutual coverage of any pair of languages. In addition, one can also ask for the subset fulfilling a minimal mutual coverage for all language pairs, and this task would return the subset of languages in a `Wordlist` which all have at least the mutual coverage specified by the user. LingPy offers now (in version 2.5.1) solutions for all these problems, but since the last problem is considerably hard and computationally intensive, we won't discuss it here, but will instead simply check the minimal mutual coverage which holds for all languages in our sample. So we try to find the lower bound of concept pairs which all languages have in common (type ```$ python3 autocogs.py coverage1``` in command line)."
   ]
  },
  {
   "cell_type": "code",
   "execution_count": 6,
   "metadata": {},
   "outputs": [
    {
     "name": "stdout",
     "output_type": "stream",
     "text": [
      "Minimal mutual coverage is at 162 concept pairs.\n"
     ]
    }
   ],
   "source": [
    "from lingpy.compare.util import mutual_coverage_check, mutual_coverage_subset\n",
    "for i in range(210, 0, -1):\n",
    "    if mutual_coverage_check(wl, i):\n",
    "        print(\"Minimal mutual coverage is at {0} concept pairs.\".format(i))\n",
    "        break"
   ]
  },
  {
   "cell_type": "markdown",
   "metadata": {},
   "source": [
    "This value is definitely good enough for our purpose, given the rule of thumb which says that below a minimal mutual coverage of 100 one should not do language-specific cognate detection analyses. If the coverage is lower, this does not mean you need to give up automatic cognate detection, but it means you should not use the language-specific `LexStat` method but rather a language-independent method, which does not require the information on potential sound correspondences (but will also tend to identify more false positives).\n",
    "\n",
    "Although, as I just said, the value is good enough, we should further reduce the data a bit to make sure we can inspect them better later on (otherwise, the analyses may also take a lot of time if you run them on computers with insufficient power). So what we will do right now is testing the `mutual_coverage_subset` method which returns a subset of languages for which a given minimal mutual coverage holds. We will then export our `Wordlist` object to file by specifying these languages as our subset (type ```$ python3 autocogs.py coverage2``` in command line):"
   ]
  },
  {
   "cell_type": "code",
   "execution_count": 7,
   "metadata": {},
   "outputs": [
    {
     "name": "stderr",
     "output_type": "stream",
     "text": [
      "2017-09-04 15:04:28,530 [INFO] Data has been written to file <polynesian-small.tsv>.\n"
     ]
    },
    {
     "name": "stdout",
     "output_type": "stream",
     "text": [
      "Found 14 languages with an average mutual coverage of 207.\n",
      "The new word list has 14 languages and 210 concepts across 3671 words.\n"
     ]
    }
   ],
   "source": [
    "count, results = mutual_coverage_subset(wl, 200)\n",
    "coverage, languages = results[0]\n",
    "print('Found {0} languages with an average mutual coverage of {1}.'.format(count, coverage))\n",
    "\n",
    "# write word list to file\n",
    "wl.output(\"tsv\", filename=\"polynesian-small\", subset=True, rows=dict(doculect = \"in \"+str(languages)))\n",
    "\n",
    "# load the smaller word list\n",
    "wl = Wordlist('polynesian-small.tsv')\n",
    "\n",
    "# print basic characteristics\n",
    "print(\"The new word list has {0} languages and {1} concepts across {2} words.\".format(\n",
    "    wl.width, wl.height, len(wl)))"
   ]
  },
  {
   "cell_type": "markdown",
   "metadata": {},
   "source": [
    "We could not further work with this selection of languages with a very high coverage, and it is always recommended to do so when working on diverse languages samples. For our further tests, however, we will restrict our selection of languages to another subset, namely the East Polynesian languages. Let us now extract those languages from the data (based on their language names) and then see how good the coverage is for this subset."
   ]
  },
  {
   "cell_type": "code",
   "execution_count": 8,
   "metadata": {},
   "outputs": [
    {
     "name": "stderr",
     "output_type": "stream",
     "text": [
      "2017-09-04 15:04:30,027 [INFO] Data has been written to file <east-polynesian.tsv>.\n"
     ]
    },
    {
     "name": "stdout",
     "output_type": "stream",
     "text": [
      "East Polynesian data covers 210 concepts and 10 languages.\n"
     ]
    }
   ],
   "source": [
    "eastern = ['NorthMarquesan_38', 'Austral_128', 'Austral_1213', \n",
    "            'Tahitian_173', 'Sikaiana_243', 'Maori_85', 'Hawaiian_52',\n",
    "            'Mangareva_239', 'Tuamotuan_246', 'Rapanui_264'] \n",
    "wl = Wordlist('polynesian.tsv')\n",
    "wl.output('tsv', filename='east-polynesian', subset=True,\n",
    "            rows=dict(doculect = 'in '+str(eastern)))\n",
    "\n",
    "wl = Wordlist('east-polynesian.tsv')\n",
    "print(\"East Polynesian data covers {0} concepts and {1} languages.\".format(wl.height, wl.width))"
   ]
  },
  {
   "cell_type": "markdown",
   "metadata": {},
   "source": [
    "Let us now repeat the coverage experiment from above, but this time with the Eastern Polynesian language data."
   ]
  },
  {
   "cell_type": "code",
   "execution_count": 9,
   "metadata": {},
   "outputs": [
    {
     "name": "stdout",
     "output_type": "stream",
     "text": [
      "Minimal mutual coverage is at 179 concept pairs.\n"
     ]
    }
   ],
   "source": [
    "for i in range(210, 0, -1):\n",
    "    if mutual_coverage_check(wl, i):\n",
    "        print(\"Minimal mutual coverage is at {0} concept pairs.\".format(i))\n",
    "        break"
   ]
  },
  {
   "cell_type": "markdown",
   "metadata": {},
   "source": [
    "Note that this coverage is much less than the coverage we encountered above. Nevertheless, for our purpose it will be good enough, and the rule of thumb for closely related languages, which says, that we need more than 150 concepts mutually shared between each language pair holds."
   ]
  },
  {
   "cell_type": "markdown",
   "metadata": {},
   "source": [
    "## Phonetic Alignment\n",
    "\n",
    "Phonetic alignment is *per se* independent of the existence of any word list data. Instead, it is a way to align phonetic sequences (words in phonetic transcription) in various ways. Phonetic alignment is an important pre-requisite in order to identify regular sound correspondences. Regular sound correspondences again are important to identify cognates (at least in the classical framework of the comparative method). In addition, alignment analyses are useful in presenting one's analyses in a transparent way, since, unfortunately, scholar often think that their cognate judgments are self-evident, ignoring that a linguist with another language family as their specialty will barely be able to follow the idiosyncratic discourse on language-family-specific sound change patterns and the like. \n",
    "\n",
    "In order to carry out alignment analyses in LingPy, you have a range of different possibilities, and there won't be the time to cover all of them here. Instead, I will illustrate how you can make a quick multiple alignment using the `Multiple` class of LingPy. This class is automatically imported when importing LingPy, and it requires a list of sequences as input. Here again, LingPy will automatically try to split your input sequences if they are not already segmentized, but we advise you to segmentize them properly before. Let's just use the six words for \"Eight\" which we tested before, to align the words accordingly. We type them in by pre-segmenting them, following the space-segmented annotation principle, which is used in all sequence representations of LingPy. We start with the simplest method, the *progressive alignment*, which first makes a little tree of the input sequences and then aligns them by going the tree from the leaves to the root, every time aligning two more until all are aligned (```$ python3 autocogs.py alignments1``` in command line):"
   ]
  },
  {
   "cell_type": "code",
   "execution_count": 10,
   "metadata": {},
   "outputs": [
    {
     "name": "stdout",
     "output_type": "stream",
     "text": [
      "β\ta\t-\tr\tu\n",
      "v\ta\tŋ\tg\tu\n",
      "v\ta\t-\tl\tu\n",
      "v\ta\t-\tl\tu\n",
      "v\ta\t-\tr\tu\n",
      "w\ta\t-\tl\tu\n"
     ]
    }
   ],
   "source": [
    "msa = Multiple(['β a r u', 'v a ŋ g u', 'v a l u', 'v a l u', 'v a r u', 'w a l u'])\n",
    "print(msa.align('progressive'))"
   ]
  },
  {
   "cell_type": "markdown",
   "metadata": {},
   "source": [
    "There are more complicated algorithms available, for example, library-based alignment, following the T-Coffee algorithm ([Notredame et al. 2000](:ref:Notredame2000), based on a so-called \"library\" which is created before the tree is built. This algorithm, you can use like this (```$ python3 autocogs.py alignments2``` in command line):"
   ]
  },
  {
   "cell_type": "code",
   "execution_count": 11,
   "metadata": {},
   "outputs": [
    {
     "name": "stdout",
     "output_type": "stream",
     "text": [
      "β\ta\t-\tr\tu\n",
      "v\ta\tŋ\tg\tu\n",
      "v\ta\t-\tl\tu\n",
      "v\ta\t-\tl\tu\n",
      "v\ta\t-\tr\tu\n",
      "w\ta\t-\tl\tu\n"
     ]
    }
   ],
   "source": [
    "print(msa.align('library'))"
   ]
  },
  {
   "cell_type": "markdown",
   "metadata": {},
   "source": [
    "The results are still the same, but it was shown in [List (2014)](:ref:List2014d) that this algorithm largely enhances more complex alignments.\n",
    "\n",
    "Last not least, let us quickly check a feature that checks for metathesis in multiple alignments. While metathesis in pairwise alignments has long since been handled, but not in multiple alignments. For this, we need a different set of words, and we take some Slavic words for \"apple\", where we know that metathesis occurred (```$ python3 autocogs.py alignments3``` in command line):"
   ]
  },
  {
   "cell_type": "code",
   "execution_count": 12,
   "metadata": {},
   "outputs": [
    {
     "name": "stdout",
     "output_type": "stream",
     "text": [
      "j\ta\tb\t-\tl\to\tk\to\n",
      "j\ta\tb\tə\tl\t-\tk\to\n",
      "j\ta\tb\t-\tl\t-\tk\to\n",
      "j\ta\tp\t-\t-\t-\tk\to\n",
      "There is a swap in the alignment.\n"
     ]
    }
   ],
   "source": [
    "words = ['j a b l o k o', 'j a b ə l k o', 'j a b l k o', 'j a p k o']\n",
    "msa = Multiple(words)\n",
    "print(msa.align('progressive'))\n",
    "print('There is {0} swap in the alignment.'.format('no' if not msa.swap_check(swap_penalty=-1) else 'a'))"
   ]
  },
  {
   "cell_type": "markdown",
   "metadata": {},
   "source": [
    "Unfortunately, we do not have enough time to go into all the details of alignment analyses, and especially more complex aspects of different alignment modes (*global*, *local*, *semi-global*, etc.), different basic algorithms (extended algorithm for *secondary alignments*), but also how sound classes, the internal representation format in LingPy are integrated into the algorithms, cannot be treated here in full. I can only refer the interested users to both the extensive online documentation at [lingpy.org](http://lingpy.org), as well as my aforementioned [book on sequence comparison](http://sequencecomparison.github.io).\n",
    "\n",
    "\n"
   ]
  },
  {
   "cell_type": "markdown",
   "metadata": {},
   "source": [
    "## Cognate Detection\n",
    "\n",
    "### Checking the Data\n",
    "\n",
    "I assume that you have thoroughly checked your data manually before running cognate detection analyses. I also assume that you do not have any of the following problems in your data:\n",
    "\n",
    "* an extensive number of synonyms in one language\n",
    "* multiple variant forms for the same word form\n",
    "* data merged from different sources without adjusting the phonetic transcription\n",
    "* mutual coverage below 100 words per language pair\n",
    "\n",
    "Before running the cognate detection analysis, you may, however, still want to check whether LingPy recognizes all your data correctly. Here, a very simple way to achieve this is to load the `LexStat` class with the specific keyword `check` set to `True`:"
   ]
  },
  {
   "cell_type": "code",
   "execution_count": 13,
   "metadata": {},
   "outputs": [
    {
     "name": "stderr",
     "output_type": "stream",
     "text": [
      "2017-09-04 15:04:31,010 [INFO] No obvious errors found in the data.\n"
     ]
    }
   ],
   "source": [
    "lex = LexStat('east-polynesian.tsv', check=True, segments='tokens')"
   ]
  },
  {
   "cell_type": "markdown",
   "metadata": {
    "collapsed": true
   },
   "source": [
    "If you have problems in your data encoding, you will be asked if you want to exclude the sequences automatically. As a result, a logfile, called `errors.log` will be created and point you to all erroneous sequences which contain segments which LingPy does not recognize. Let us quickly introduce some bad sequences by just converting randomly all `[`e`]` sounds to the letter A (capitals are never accepted in the normal sound class models of LingPy) and see what we get then. For this, we even do not need to re-write the data, we just add another row where we change the content, give it a random name (we call it \"tokens\", as this also signals LingPy that the input should be treated as a sequence and not as a string), and specify this for the `LexStat` instance method as the column in the file where the `segments` are. We first load the data as `Wordlist` and then pass that data directly to `LexStat` (```$ python3 autocogs.py trigger-errors``` in command line):"
   ]
  },
  {
   "cell_type": "code",
   "execution_count": 14,
   "metadata": {},
   "outputs": [
    {
     "name": "stderr",
     "output_type": "stream",
     "text": [
      "2017-09-04 15:04:31,553 [INFO] Data has been written to file <errors.log>.\n"
     ]
    },
    {
     "name": "stdout",
     "output_type": "stream",
     "text": [
      "There were errors in the input data - exclude them? [y/N] \n"
     ]
    }
   ],
   "source": [
    "wl = Wordlist('east-polynesian.tsv')\n",
    "\n",
    "# add new column \"segments\" and replace data from column \"tokens\"\n",
    "wl.add_entries('segments', 'tokens', lambda x: ['A' if y == 'e' else y for y in x])\n",
    "\n",
    "lex = LexStat(wl, segments='segments', check=True)"
   ]
  },
  {
   "cell_type": "markdown",
   "metadata": {},
   "source": [
    "If you now check the file `errors.log`, you will find a long file with the following first ten lines:\n",
    "\n",
    "```text\n",
    "ID\tTokens\tError-Type\n",
    "1572\t<bad character in tokens at «A»>\tg a t o a A l i m a\n",
    "3320\t<bad character in tokens at «A»>\tp a A _ ʔ a ʔ u r u\n",
    "5145\t<bad character in tokens at «A»>\tl i m a s A f u l u\n",
    "5696\t<bad character in tokens at «A»>\tr i m a _ t A k a u\n",
    "12\t<bad character in tokens at «A»>\tp a A\n",
    "3327\t<bad character in tokens at «A»>\tp a A\n",
    "5153\t<bad character in tokens at «A»>\tA _ f aː\n",
    "```\n",
    "\n",
    "Each row starts with the ID of the word which is contaminated (and this links to the row-ID of your input file), it is followed by a description of the error-type, and then by a segmented form of the word form. LingPy then also creates a file called `lingpy-DATE-cleaned.tsv` (`DATE` meaning the date of the day you run LingPy), in which all contaminated words have been excluded, and this file is read in again, if you pressed \"y\", and will be the one to run the analysis. \n",
    "\n",
    "LingPy thus tries to make the enterprise of cognate detection quite convenient for you as a user, but you should be warned not to use files containing errors for publications, but only for personal test purposes, in order to improve your data. If LingPy does not recognize characters, you should not globally exclude them as a reaction, but should instead try to improve your data until it is publication-ready. Otherwise, the results will much likely be disappointing anyway."
   ]
  },
  {
   "cell_type": "markdown",
   "metadata": {},
   "source": [
    "\n",
    "### Overview on Algorithms\n",
    "\n",
    "LingPy comes along with four pre-defined cognate detection algorithms. These algorithms are all contained in the `LexStat` class which often confuses users, as one of the algorithms provided by `LexStat` is also called `lexstat`. Internally, however, it makes sense, as all algorithms were created at the same time, when I published the LexStat algorithm ([List 2012b](:ref:List2012a)), so I would write it into one class which I called \"LexStat\" and for the paper, I then also decided to call the algorithm \"LexStat\" since I could not think of a better name.\n",
    "\n",
    "*Tiago - I must admit that the fact the both the class and the algorithm are called `lexstat` confused me once, too. There is a lot of compatibility in place, but maybe there should be a wrapper or an alias to one of them? Your surname might not be the best alternative (`list`), but an alias as `jmlist` should be enough. You could also base the name in a description of its difference, such as in the pairwise comparisons, permutations, or in the difference between attested and expected frequencies.*\n",
    "\n",
    "Anyway, when carrying out cognate detection algorithms, it is important to keep in mind what these algorithms are based on. We can distinguish the following three major types:\n",
    "\n",
    "1. consonant-class-matching (CCM), following Dolgopolky's (1964) early idea to assume that words with two matching consonant classes would likely be cognate,\n",
    "2. phenotypic sequence similarity partitioning (PSSP), follows the general idea also applied in homology detection in biology, by which sequences are clustered into sets of homologs based on a partitioning algorithm which is applied to a distance or a similarity matrix representing the overall sequence similarity,\n",
    "3. language-specific sequence similarity partitioning (LSSP), follows the core idea of the LexStat algorithm by which sequence similarity is calculated on a language-specific basis for each language pair in the data, based on permutation statistics which give hints regarding the most likely candidates for regular sound correspondences.\n"
   ]
  },
  {
   "cell_type": "markdown",
   "metadata": {},
   "source": [
    "In LingPy, the methods which you can use to carry out these analyses have specific names, as well as the default output, a cluster decision represented as an integer identifier that assigns words to clusters. They are given in the table below:\n",
    "\n",
    "Class | Alignments? | Sound Classes? | Sound Correspondences? | Threshold?| LingPy-Name | LingPy-Output | Note\n",
    "--- | --- | --- | --- | --- | ---\n",
    "CCM | no | yes | no | no | \"turchin\" | \"turchinid\" | Consonant-class matching method close to the description in [Turchin et al. (2010)](:ref:Turchin2010))\n",
    "PSSP | yes | no | no | yes | \"edit-dist\" | \"editid\" | Vanilla edit-distance ([Levenshtein 1965](:ref:Levenshtein1965)), normalized by dividing with the longer string.\n",
    "PSSP | yes | yes | no | yes | \"sca\" | \"scaid\" | Distance score derived from SCA alignments ([List 2012a](:ref:List2012b)) by applying [Downey et al.'s (2008)](:ref:Downey2008) formula\n",
    "LSSP | yes | yes | yes | yes | \"lexstat\" | \"lexstatid\" | The core \"LexStat\" algorithm described in List ([2012b](:ref:List2012a) and [2014](:ref:List2014d))\n",
    "\n",
    "As a general rule, you should keep the following in mind (see also our experience with these methods in [List, Greenhill, and Gray (2017)](:ref:List2017c):\n",
    "\n",
    "1. if you want a fast first analysis and speed counts, take \"turchin\" (Dolgopolsky method), since it has a low amount of false positives, but it will also miss many cognates\n",
    "2. if speed does not matter and you have enough concepts (> 100) in your data, and you want to have the most reliable analysis, take \"lexstat\"\n",
    "3. if you have less than 100 concepts, and speed does not really matter, take \"sca\", as it yields consistently better results as the \"turchin\" method\n",
    "\n",
    "### Running the Analysis\n",
    "\n",
    "Let us now, before we sink too much into the details, just start and do all four analyses on our `mikronesian.tsv` test data. Note that due to the permutation approach used by the \"lexstat\" method, we will need to write two commands here, while we need only one command for the other three methods. We start by loading the data into the `LexStat` class and will then run the \"turchin\" analyses for the start, and we then print out the results for the item \"Eight\" (```$ python3 autocogs.py cognates-turchin``` in command line):"
   ]
  },
  {
   "cell_type": "code",
   "execution_count": 15,
   "metadata": {},
   "outputs": [
    {
     "name": "stderr",
     "output_type": "stream",
     "text": [
      "2017-09-04 15:05:23,020 [INFO] No obvious errors found in the data.\n",
      "SEQUENCE CLUSTERING:   0%|          | 0/210 [00:00<?, ?it/s]2017-09-04 15:05:23,408 [INFO] Analyzing words for concept <Eight>.\n",
      "2017-09-04 15:05:23,413 [INFO] Analyzing words for concept <Fifty>.\n",
      "2017-09-04 15:05:23,415 [INFO] Analyzing words for concept <Five>.\n",
      "2017-09-04 15:05:23,418 [INFO] Analyzing words for concept <Four>.\n",
      "2017-09-04 15:05:23,421 [INFO] Analyzing words for concept <I>.\n",
      "2017-09-04 15:05:23,428 [INFO] Analyzing words for concept <Nine>.\n",
      "2017-09-04 15:05:23,432 [INFO] Analyzing words for concept <One>.\n",
      "2017-09-04 15:05:23,437 [INFO] Analyzing words for concept <One Hundred>.\n",
      "2017-09-04 15:05:23,442 [INFO] Analyzing words for concept <One Thousand>.\n",
      "2017-09-04 15:05:23,447 [INFO] Analyzing words for concept <Seven>.\n",
      "2017-09-04 15:05:23,451 [INFO] Analyzing words for concept <Six>.\n",
      "2017-09-04 15:05:23,455 [INFO] Analyzing words for concept <Ten>.\n",
      "2017-09-04 15:05:23,462 [INFO] Analyzing words for concept <Three>.\n",
      "2017-09-04 15:05:23,466 [INFO] Analyzing words for concept <Twenty>.\n",
      "2017-09-04 15:05:23,470 [INFO] Analyzing words for concept <Two>.\n",
      "2017-09-04 15:05:23,474 [INFO] Analyzing words for concept <above>.\n",
      "2017-09-04 15:05:23,482 [INFO] Analyzing words for concept <all>.\n",
      "2017-09-04 15:05:23,484 [INFO] Analyzing words for concept <and>.\n",
      "2017-09-04 15:05:23,490 [INFO] Analyzing words for concept <ash>.\n",
      "2017-09-04 15:05:23,495 [INFO] Analyzing words for concept <at>.\n",
      "2017-09-04 15:05:23,499 [INFO] Analyzing words for concept <back>.\n",
      "2017-09-04 15:05:23,504 [INFO] Analyzing words for concept <bad, evil>.\n",
      "2017-09-04 15:05:23,507 [INFO] Analyzing words for concept <belly>.\n",
      "SEQUENCE CLUSTERING:  11%|█         | 23/210 [00:00<00:00, 218.04it/s]2017-09-04 15:05:23,516 [INFO] Analyzing words for concept <below>.\n",
      "2017-09-04 15:05:23,520 [INFO] Analyzing words for concept <big>.\n",
      "2017-09-04 15:05:23,526 [INFO] Analyzing words for concept <bird>.\n",
      "2017-09-04 15:05:23,530 [INFO] Analyzing words for concept <black>.\n",
      "2017-09-04 15:05:23,535 [INFO] Analyzing words for concept <blood>.\n",
      "2017-09-04 15:05:23,537 [INFO] Analyzing words for concept <bone>.\n",
      "2017-09-04 15:05:23,540 [INFO] Analyzing words for concept <branch>.\n",
      "2017-09-04 15:05:23,543 [INFO] Analyzing words for concept <breast>.\n",
      "2017-09-04 15:05:23,547 [INFO] Analyzing words for concept <child>.\n",
      "2017-09-04 15:05:23,551 [INFO] Analyzing words for concept <cloud>.\n",
      "2017-09-04 15:05:23,555 [INFO] Analyzing words for concept <cold>.\n",
      "2017-09-04 15:05:23,562 [INFO] Analyzing words for concept <correct, true>.\n",
      "2017-09-04 15:05:23,568 [INFO] Analyzing words for concept <day>.\n",
      "2017-09-04 15:05:23,574 [INFO] Analyzing words for concept <dirty>.\n",
      "2017-09-04 15:05:23,579 [INFO] Analyzing words for concept <dog>.\n",
      "2017-09-04 15:05:23,583 [INFO] Analyzing words for concept <dry>.\n",
      "2017-09-04 15:05:23,586 [INFO] Analyzing words for concept <dull, blunt>.\n",
      "2017-09-04 15:05:23,590 [INFO] Analyzing words for concept <dust>.\n",
      "2017-09-04 15:05:23,595 [INFO] Analyzing words for concept <ear>.\n",
      "2017-09-04 15:05:23,598 [INFO] Analyzing words for concept <earth/soil>.\n",
      "2017-09-04 15:05:23,603 [INFO] Analyzing words for concept <egg>.\n",
      "2017-09-04 15:05:23,607 [INFO] Analyzing words for concept <eye>.\n",
      "2017-09-04 15:05:23,610 [INFO] Analyzing words for concept <far>.\n",
      "2017-09-04 15:05:23,613 [INFO] Analyzing words for concept <fat/grease>.\n",
      "SEQUENCE CLUSTERING:  22%|██▏       | 47/210 [00:00<00:00, 222.61it/s]2017-09-04 15:05:23,617 [INFO] Analyzing words for concept <father>.\n",
      "2017-09-04 15:05:23,623 [INFO] Analyzing words for concept <feather>.\n",
      "2017-09-04 15:05:23,626 [INFO] Analyzing words for concept <fire>.\n",
      "2017-09-04 15:05:23,629 [INFO] Analyzing words for concept <fish>.\n",
      "2017-09-04 15:05:23,633 [INFO] Analyzing words for concept <flower>.\n",
      "2017-09-04 15:05:23,636 [INFO] Analyzing words for concept <fog>.\n",
      "2017-09-04 15:05:23,640 [INFO] Analyzing words for concept <fruit>.\n",
      "2017-09-04 15:05:23,647 [INFO] Analyzing words for concept <good>.\n",
      "2017-09-04 15:05:23,653 [INFO] Analyzing words for concept <grass>.\n",
      "2017-09-04 15:05:23,655 [INFO] Analyzing words for concept <green>.\n",
      "2017-09-04 15:05:23,659 [INFO] Analyzing words for concept <hair>.\n",
      "2017-09-04 15:05:23,665 [INFO] Analyzing words for concept <hand>.\n",
      "2017-09-04 15:05:23,672 [INFO] Analyzing words for concept <he/she>.\n",
      "2017-09-04 15:05:23,676 [INFO] Analyzing words for concept <head>.\n",
      "2017-09-04 15:05:23,682 [INFO] Analyzing words for concept <heavy>.\n",
      "2017-09-04 15:05:23,686 [INFO] Analyzing words for concept <house>.\n",
      "2017-09-04 15:05:23,689 [INFO] Analyzing words for concept <how?>.\n",
      "2017-09-04 15:05:23,692 [INFO] Analyzing words for concept <husband>.\n",
      "2017-09-04 15:05:23,695 [INFO] Analyzing words for concept <if>.\n",
      "2017-09-04 15:05:23,697 [INFO] Analyzing words for concept <in, inside>.\n",
      "2017-09-04 15:05:23,701 [INFO] Analyzing words for concept <intestines>.\n",
      "2017-09-04 15:05:23,704 [INFO] Analyzing words for concept <lake>.\n",
      "2017-09-04 15:05:23,706 [INFO] Analyzing words for concept <leaf>.\n",
      "2017-09-04 15:05:23,709 [INFO] Analyzing words for concept <left>.\n",
      "2017-09-04 15:05:23,711 [INFO] Analyzing words for concept <leg/foot>.\n",
      "2017-09-04 15:05:23,715 [INFO] Analyzing words for concept <lightning>.\n",
      "SEQUENCE CLUSTERING:  35%|███▍      | 73/210 [00:00<00:00, 232.00it/s]2017-09-04 15:05:23,718 [INFO] Analyzing words for concept <liver>.\n",
      "2017-09-04 15:05:23,722 [INFO] Analyzing words for concept <long>.\n",
      "2017-09-04 15:05:23,725 [INFO] Analyzing words for concept <louse>.\n",
      "2017-09-04 15:05:23,728 [INFO] Analyzing words for concept <man/male>.\n",
      "2017-09-04 15:05:23,736 [INFO] Analyzing words for concept <meat/flesh>.\n",
      "2017-09-04 15:05:23,740 [INFO] Analyzing words for concept <moon>.\n",
      "2017-09-04 15:05:23,743 [INFO] Analyzing words for concept <mosquito>.\n",
      "2017-09-04 15:05:23,748 [INFO] Analyzing words for concept <mother>.\n",
      "2017-09-04 15:05:23,752 [INFO] Analyzing words for concept <mouth>.\n",
      "2017-09-04 15:05:23,756 [INFO] Analyzing words for concept <name>.\n",
      "2017-09-04 15:05:23,759 [INFO] Analyzing words for concept <narrow>.\n",
      "2017-09-04 15:05:23,763 [INFO] Analyzing words for concept <near>.\n",
      "2017-09-04 15:05:23,766 [INFO] Analyzing words for concept <neck>.\n",
      "2017-09-04 15:05:23,769 [INFO] Analyzing words for concept <needle>.\n",
      "2017-09-04 15:05:23,772 [INFO] Analyzing words for concept <new>.\n",
      "2017-09-04 15:05:23,776 [INFO] Analyzing words for concept <night>.\n",
      "2017-09-04 15:05:23,779 [INFO] Analyzing words for concept <no, not>.\n",
      "2017-09-04 15:05:23,783 [INFO] Analyzing words for concept <nose>.\n",
      "2017-09-04 15:05:23,786 [INFO] Analyzing words for concept <old>.\n",
      "2017-09-04 15:05:23,791 [INFO] Analyzing words for concept <other>.\n",
      "2017-09-04 15:05:23,792 [INFO] Analyzing words for concept <painful, sick>.\n",
      "2017-09-04 15:05:23,798 [INFO] Analyzing words for concept <person/human being>.\n",
      "2017-09-04 15:05:23,802 [INFO] Analyzing words for concept <rain>.\n",
      "2017-09-04 15:05:23,804 [INFO] Analyzing words for concept <rat>.\n",
      "2017-09-04 15:05:23,808 [INFO] Analyzing words for concept <red>.\n",
      "2017-09-04 15:05:23,812 [INFO] Analyzing words for concept <right>.\n",
      "2017-09-04 15:05:23,816 [INFO] Analyzing words for concept <road/path>.\n",
      "SEQUENCE CLUSTERING:  48%|████▊     | 100/210 [00:00<00:00, 240.90it/s]2017-09-04 15:05:23,821 [INFO] Analyzing words for concept <root>.\n",
      "2017-09-04 15:05:23,824 [INFO] Analyzing words for concept <rope>.\n",
      "2017-09-04 15:05:23,827 [INFO] Analyzing words for concept <rotten>.\n",
      "2017-09-04 15:05:23,833 [INFO] Analyzing words for concept <salt>.\n",
      "2017-09-04 15:05:23,837 [INFO] Analyzing words for concept <sand>.\n",
      "2017-09-04 15:05:23,840 [INFO] Analyzing words for concept <sea>.\n",
      "2017-09-04 15:05:23,848 [INFO] Analyzing words for concept <sharp>.\n",
      "2017-09-04 15:05:23,852 [INFO] Analyzing words for concept <short>.\n",
      "2017-09-04 15:05:23,856 [INFO] Analyzing words for concept <shoulder>.\n",
      "2017-09-04 15:05:23,858 [INFO] Analyzing words for concept <shy, ashamed>.\n",
      "2017-09-04 15:05:23,860 [INFO] Analyzing words for concept <skin>.\n",
      "2017-09-04 15:05:23,866 [INFO] Analyzing words for concept <sky>.\n",
      "2017-09-04 15:05:23,869 [INFO] Analyzing words for concept <small>.\n",
      "2017-09-04 15:05:23,876 [INFO] Analyzing words for concept <smoke>.\n"
     ]
    },
    {
     "name": "stderr",
     "output_type": "stream",
     "text": [
      "2017-09-04 15:05:23,879 [INFO] Analyzing words for concept <snake>.\n",
      "2017-09-04 15:05:23,880 [INFO] Analyzing words for concept <spider>.\n",
      "2017-09-04 15:05:23,883 [INFO] Analyzing words for concept <star>.\n",
      "2017-09-04 15:05:23,886 [INFO] Analyzing words for concept <stick/wood>.\n",
      "2017-09-04 15:05:23,889 [INFO] Analyzing words for concept <stone>.\n",
      "2017-09-04 15:05:23,894 [INFO] Analyzing words for concept <tail>.\n",
      "2017-09-04 15:05:23,900 [INFO] Analyzing words for concept <that>.\n",
      "2017-09-04 15:05:23,903 [INFO] Analyzing words for concept <thatch/roof>.\n",
      "2017-09-04 15:05:23,907 [INFO] Analyzing words for concept <they>.\n",
      "2017-09-04 15:05:23,914 [INFO] Analyzing words for concept <thick>.\n",
      "2017-09-04 15:05:23,918 [INFO] Analyzing words for concept <thin>.\n",
      "SEQUENCE CLUSTERING:  60%|█████▉    | 125/210 [00:00<00:00, 242.04it/s]2017-09-04 15:05:23,922 [INFO] Analyzing words for concept <this>.\n",
      "2017-09-04 15:05:23,925 [INFO] Analyzing words for concept <thou>.\n",
      "2017-09-04 15:05:23,928 [INFO] Analyzing words for concept <thunder>.\n",
      "2017-09-04 15:05:23,931 [INFO] Analyzing words for concept <to bite>.\n",
      "2017-09-04 15:05:23,934 [INFO] Analyzing words for concept <to blow>.\n",
      "2017-09-04 15:05:23,943 [INFO] Analyzing words for concept <to breathe>.\n",
      "2017-09-04 15:05:23,947 [INFO] Analyzing words for concept <to burn>.\n",
      "2017-09-04 15:05:23,954 [INFO] Analyzing words for concept <to buy>.\n",
      "2017-09-04 15:05:23,957 [INFO] Analyzing words for concept <to chew>.\n",
      "2017-09-04 15:05:23,960 [INFO] Analyzing words for concept <to choose>.\n",
      "2017-09-04 15:05:23,963 [INFO] Analyzing words for concept <to climb>.\n",
      "2017-09-04 15:05:23,965 [INFO] Analyzing words for concept <to come>.\n",
      "2017-09-04 15:05:23,969 [INFO] Analyzing words for concept <to cook>.\n",
      "2017-09-04 15:05:23,974 [INFO] Analyzing words for concept <to count>.\n",
      "2017-09-04 15:05:23,976 [INFO] Analyzing words for concept <to cry>.\n",
      "2017-09-04 15:05:23,981 [INFO] Analyzing words for concept <to cut, hack>.\n",
      "2017-09-04 15:05:23,989 [INFO] Analyzing words for concept <to die, be dead>.\n",
      "2017-09-04 15:05:23,993 [INFO] Analyzing words for concept <to dig>.\n",
      "2017-09-04 15:05:23,997 [INFO] Analyzing words for concept <to dream>.\n",
      "2017-09-04 15:05:24,001 [INFO] Analyzing words for concept <to drink>.\n",
      "2017-09-04 15:05:24,005 [INFO] Analyzing words for concept <to eat>.\n",
      "2017-09-04 15:05:24,008 [INFO] Analyzing words for concept <to fall>.\n",
      "2017-09-04 15:05:24,021 [INFO] Analyzing words for concept <to fear>.\n",
      "SEQUENCE CLUSTERING:  70%|███████   | 148/210 [00:00<00:00, 235.79it/s]2017-09-04 15:05:24,026 [INFO] Analyzing words for concept <to flow>.\n",
      "2017-09-04 15:05:24,029 [INFO] Analyzing words for concept <to fly>.\n",
      "2017-09-04 15:05:24,033 [INFO] Analyzing words for concept <to grow>.\n",
      "2017-09-04 15:05:24,039 [INFO] Analyzing words for concept <to hear>.\n",
      "2017-09-04 15:05:24,043 [INFO] Analyzing words for concept <to hide>.\n",
      "2017-09-04 15:05:24,046 [INFO] Analyzing words for concept <to hit>.\n",
      "2017-09-04 15:05:24,058 [INFO] Analyzing words for concept <to hold>.\n",
      "2017-09-04 15:05:24,062 [INFO] Analyzing words for concept <to hunt>.\n",
      "2017-09-04 15:05:24,065 [INFO] Analyzing words for concept <to kill>.\n",
      "2017-09-04 15:05:24,071 [INFO] Analyzing words for concept <to know, be knowledgeable>.\n",
      "2017-09-04 15:05:24,076 [INFO] Analyzing words for concept <to laugh>.\n",
      "2017-09-04 15:05:24,079 [INFO] Analyzing words for concept <to lie down>.\n",
      "2017-09-04 15:05:24,083 [INFO] Analyzing words for concept <to live, be alive>.\n",
      "2017-09-04 15:05:24,086 [INFO] Analyzing words for concept <to open, uncover>.\n",
      "2017-09-04 15:05:24,090 [INFO] Analyzing words for concept <to plant>.\n",
      "2017-09-04 15:05:24,093 [INFO] Analyzing words for concept <to pound, beat>.\n",
      "2017-09-04 15:05:24,096 [INFO] Analyzing words for concept <to say>.\n",
      "2017-09-04 15:05:24,099 [INFO] Analyzing words for concept <to scratch>.\n",
      "2017-09-04 15:05:24,102 [INFO] Analyzing words for concept <to see>.\n",
      "2017-09-04 15:05:24,105 [INFO] Analyzing words for concept <to sew>.\n",
      "2017-09-04 15:05:24,109 [INFO] Analyzing words for concept <to shoot>.\n",
      "2017-09-04 15:05:24,111 [INFO] Analyzing words for concept <to sit>.\n",
      "2017-09-04 15:05:24,116 [INFO] Analyzing words for concept <to sleep>.\n",
      "2017-09-04 15:05:24,120 [INFO] Analyzing words for concept <to sniff, smell>.\n",
      "2017-09-04 15:05:24,124 [INFO] Analyzing words for concept <to spit>.\n",
      "SEQUENCE CLUSTERING:  82%|████████▏ | 173/210 [00:00<00:00, 236.87it/s]2017-09-04 15:05:24,132 [INFO] Analyzing words for concept <to split>.\n",
      "2017-09-04 15:05:24,140 [INFO] Analyzing words for concept <to squeeze>.\n",
      "2017-09-04 15:05:24,144 [INFO] Analyzing words for concept <to stab, pierce>.\n",
      "2017-09-04 15:05:24,150 [INFO] Analyzing words for concept <to stand>.\n",
      "2017-09-04 15:05:24,154 [INFO] Analyzing words for concept <to steal>.\n",
      "2017-09-04 15:05:24,157 [INFO] Analyzing words for concept <to suck>.\n",
      "2017-09-04 15:05:24,162 [INFO] Analyzing words for concept <to swell>.\n",
      "2017-09-04 15:05:24,165 [INFO] Analyzing words for concept <to swim>.\n",
      "2017-09-04 15:05:24,168 [INFO] Analyzing words for concept <to think>.\n",
      "2017-09-04 15:05:24,171 [INFO] Analyzing words for concept <to throw>.\n",
      "2017-09-04 15:05:24,176 [INFO] Analyzing words for concept <to tie up, fasten>.\n",
      "2017-09-04 15:05:24,182 [INFO] Analyzing words for concept <to turn>.\n",
      "2017-09-04 15:05:24,186 [INFO] Analyzing words for concept <to vomit>.\n",
      "2017-09-04 15:05:24,190 [INFO] Analyzing words for concept <to walk>.\n",
      "2017-09-04 15:05:24,197 [INFO] Analyzing words for concept <to work>.\n",
      "2017-09-04 15:05:24,201 [INFO] Analyzing words for concept <to yawn>.\n",
      "2017-09-04 15:05:24,205 [INFO] Analyzing words for concept <tongue>.\n",
      "2017-09-04 15:05:24,209 [INFO] Analyzing words for concept <tooth>.\n",
      "2017-09-04 15:05:24,213 [INFO] Analyzing words for concept <warm>.\n",
      "2017-09-04 15:05:24,219 [INFO] Analyzing words for concept <water>.\n",
      "2017-09-04 15:05:24,223 [INFO] Analyzing words for concept <we>.\n",
      "2017-09-04 15:05:24,259 [INFO] Analyzing words for concept <wet>.\n",
      "SEQUENCE CLUSTERING:  93%|█████████▎| 195/210 [00:00<00:00, 208.02it/s]2017-09-04 15:05:24,268 [INFO] Analyzing words for concept <what?>.\n",
      "2017-09-04 15:05:24,272 [INFO] Analyzing words for concept <when?>.\n",
      "2017-09-04 15:05:24,276 [INFO] Analyzing words for concept <where?>.\n",
      "2017-09-04 15:05:24,279 [INFO] Analyzing words for concept <white>.\n",
      "2017-09-04 15:05:24,285 [INFO] Analyzing words for concept <who?>.\n",
      "2017-09-04 15:05:24,289 [INFO] Analyzing words for concept <wide>.\n",
      "2017-09-04 15:05:24,293 [INFO] Analyzing words for concept <wife>.\n",
      "2017-09-04 15:05:24,297 [INFO] Analyzing words for concept <wind>.\n",
      "2017-09-04 15:05:24,303 [INFO] Analyzing words for concept <wing>.\n",
      "2017-09-04 15:05:24,307 [INFO] Analyzing words for concept <woman/female>.\n",
      "2017-09-04 15:05:24,315 [INFO] Analyzing words for concept <woods/forest>.\n",
      "2017-09-04 15:05:24,319 [INFO] Analyzing words for concept <worm (earthworm)>.\n",
      "2017-09-04 15:05:24,322 [INFO] Analyzing words for concept <year>.\n",
      "2017-09-04 15:05:24,328 [INFO] Analyzing words for concept <yellow>.\n",
      "2017-09-04 15:05:24,332 [INFO] Analyzing words for concept <you>.\n",
      "                                                                       \r"
     ]
    },
    {
     "name": "stdout",
     "output_type": "stream",
     "text": [
      "Maori_85             \t waru \t3\n",
      "Austral_128          \t vaʔu \t2\n",
      "Mangareva_239        \t varu \t3\n",
      "Austral_1213         \t vaGu \t1\n",
      "Hawaiian_52          \t walu \t3\n",
      "NorthMarquesan_38    \t va'u \t2\n",
      "Tuamotuan_246        \t varu \t3\n",
      "Rapanui_264          \t va'u \t2\n",
      "Sikaiana_243         \t valu \t3\n",
      "Tahitian_173         \t va'u \t2\n"
     ]
    }
   ],
   "source": [
    "lex = LexStat('east-polynesian.tsv', segments='tokens', check=True)\n",
    "\n",
    "# run the dolgopolsky (turchin) analysis, which is threshold-free\n",
    "lex.cluster(method='turchin')\n",
    "\n",
    "# show the cognate sets, stored in \"turchinid\" for the words for \"Eight\"\n",
    "eight = lex.get_dict(row='Eight') # get a dictionary with language as key for concept \"eight\"\n",
    "for k, v in eight.items():\n",
    "    idx = v[0] # index of the word, it gives us access to all data\n",
    "    print(\"{0:20} \\t {1} \\t{2}\".format(lex[idx, 'doculect'], lex[idx, 'value'], lex[idx, 'turchinid']))"
   ]
  },
  {
   "cell_type": "markdown",
   "metadata": {},
   "source": [
    "We now do the same for the \"sca\" method, but since this method is not threshold free, we will need to define a threshold. We follow the default value we know from experience, which is 0.45. We then print out the same data, but this time including the cognate judgments by all three methods (```$ python3 autocogs.py cognates-sca``` in command line):"
   ]
  },
  {
   "cell_type": "code",
   "execution_count": 16,
   "metadata": {},
   "outputs": [
    {
     "name": "stderr",
     "output_type": "stream",
     "text": [
      "SEQUENCE CLUSTERING:   0%|          | 0/210 [00:00<?, ?it/s]2017-09-04 15:05:24,357 [INFO] Analyzing words for concept <Eight>.\n",
      "2017-09-04 15:05:24,363 [INFO] Analyzing words for concept <Fifty>.\n",
      "2017-09-04 15:05:24,368 [INFO] Analyzing words for concept <Five>.\n",
      "2017-09-04 15:05:24,376 [INFO] Analyzing words for concept <Four>.\n",
      "2017-09-04 15:05:24,381 [INFO] Analyzing words for concept <I>.\n",
      "2017-09-04 15:05:24,389 [INFO] Analyzing words for concept <Nine>.\n",
      "2017-09-04 15:05:24,395 [INFO] Analyzing words for concept <One>.\n",
      "2017-09-04 15:05:24,404 [INFO] Analyzing words for concept <One Hundred>.\n",
      "2017-09-04 15:05:24,411 [INFO] Analyzing words for concept <One Thousand>.\n",
      "2017-09-04 15:05:24,423 [INFO] Analyzing words for concept <Seven>.\n",
      "2017-09-04 15:05:24,429 [INFO] Analyzing words for concept <Six>.\n",
      "2017-09-04 15:05:24,435 [INFO] Analyzing words for concept <Ten>.\n",
      "2017-09-04 15:05:24,453 [INFO] Analyzing words for concept <Three>.\n",
      "SEQUENCE CLUSTERING:   6%|▌         | 13/210 [00:00<00:01, 126.80it/s]2017-09-04 15:05:24,461 [INFO] Analyzing words for concept <Twenty>.\n",
      "2017-09-04 15:05:24,471 [INFO] Analyzing words for concept <Two>.\n",
      "2017-09-04 15:05:24,478 [INFO] Analyzing words for concept <above>.\n",
      "2017-09-04 15:05:24,484 [INFO] Analyzing words for concept <all>.\n",
      "2017-09-04 15:05:24,492 [INFO] Analyzing words for concept <and>.\n",
      "2017-09-04 15:05:24,500 [INFO] Analyzing words for concept <ash>.\n",
      "2017-09-04 15:05:24,509 [INFO] Analyzing words for concept <at>.\n",
      "2017-09-04 15:05:24,515 [INFO] Analyzing words for concept <back>.\n",
      "2017-09-04 15:05:24,522 [INFO] Analyzing words for concept <bad, evil>.\n",
      "2017-09-04 15:05:24,534 [INFO] Analyzing words for concept <belly>.\n",
      "2017-09-04 15:05:24,551 [INFO] Analyzing words for concept <below>.\n",
      "2017-09-04 15:05:24,557 [INFO] Analyzing words for concept <big>.\n",
      "SEQUENCE CLUSTERING:  12%|█▏        | 25/210 [00:00<00:01, 122.28it/s]2017-09-04 15:05:24,568 [INFO] Analyzing words for concept <bird>.\n",
      "2017-09-04 15:05:24,574 [INFO] Analyzing words for concept <black>.\n",
      "2017-09-04 15:05:24,589 [INFO] Analyzing words for concept <blood>.\n",
      "2017-09-04 15:05:24,595 [INFO] Analyzing words for concept <bone>.\n",
      "2017-09-04 15:05:24,600 [INFO] Analyzing words for concept <branch>.\n",
      "2017-09-04 15:05:24,608 [INFO] Analyzing words for concept <breast>.\n",
      "2017-09-04 15:05:24,616 [INFO] Analyzing words for concept <child>.\n",
      "2017-09-04 15:05:24,631 [INFO] Analyzing words for concept <cloud>.\n",
      "2017-09-04 15:05:24,639 [INFO] Analyzing words for concept <cold>.\n",
      "2017-09-04 15:05:24,660 [INFO] Analyzing words for concept <correct, true>.\n",
      "SEQUENCE CLUSTERING:  17%|█▋        | 35/210 [00:00<00:01, 110.35it/s]2017-09-04 15:05:24,679 [INFO] Analyzing words for concept <day>.\n",
      "2017-09-04 15:05:24,689 [INFO] Analyzing words for concept <dirty>.\n",
      "2017-09-04 15:05:24,700 [INFO] Analyzing words for concept <dog>.\n",
      "2017-09-04 15:05:24,710 [INFO] Analyzing words for concept <dry>.\n",
      "2017-09-04 15:05:24,719 [INFO] Analyzing words for concept <dull, blunt>.\n",
      "2017-09-04 15:05:24,729 [INFO] Analyzing words for concept <dust>.\n",
      "2017-09-04 15:05:24,745 [INFO] Analyzing words for concept <ear>.\n",
      "2017-09-04 15:05:24,754 [INFO] Analyzing words for concept <earth/soil>.\n",
      "2017-09-04 15:05:24,767 [INFO] Analyzing words for concept <egg>.\n",
      "SEQUENCE CLUSTERING:  21%|██        | 44/210 [00:00<00:01, 102.94it/s]2017-09-04 15:05:24,781 [INFO] Analyzing words for concept <eye>.\n",
      "2017-09-04 15:05:24,790 [INFO] Analyzing words for concept <far>.\n",
      "2017-09-04 15:05:24,798 [INFO] Analyzing words for concept <fat/grease>.\n",
      "2017-09-04 15:05:24,811 [INFO] Analyzing words for concept <father>.\n",
      "2017-09-04 15:05:24,832 [INFO] Analyzing words for concept <feather>.\n",
      "2017-09-04 15:05:24,846 [INFO] Analyzing words for concept <fire>.\n",
      "2017-09-04 15:05:24,853 [INFO] Analyzing words for concept <fish>.\n",
      "2017-09-04 15:05:24,863 [INFO] Analyzing words for concept <flower>.\n",
      "2017-09-04 15:05:24,870 [INFO] Analyzing words for concept <fog>.\n",
      "SEQUENCE CLUSTERING:  25%|██▌       | 53/210 [00:00<00:01, 98.25it/s] 2017-09-04 15:05:24,882 [INFO] Analyzing words for concept <fruit>.\n",
      "2017-09-04 15:05:24,888 [INFO] Analyzing words for concept <good>.\n",
      "2017-09-04 15:05:24,910 [INFO] Analyzing words for concept <grass>.\n",
      "2017-09-04 15:05:24,917 [INFO] Analyzing words for concept <green>.\n",
      "2017-09-04 15:05:24,929 [INFO] Analyzing words for concept <hair>.\n",
      "2017-09-04 15:05:24,945 [INFO] Analyzing words for concept <hand>.\n",
      "2017-09-04 15:05:24,954 [INFO] Analyzing words for concept <he/she>.\n",
      "2017-09-04 15:05:24,962 [INFO] Analyzing words for concept <head>.\n",
      "2017-09-04 15:05:24,976 [INFO] Analyzing words for concept <heavy>.\n",
      "SEQUENCE CLUSTERING:  30%|██▉       | 62/210 [00:00<00:01, 92.35it/s]2017-09-04 15:05:24,992 [INFO] Analyzing words for concept <house>.\n",
      "2017-09-04 15:05:25,001 [INFO] Analyzing words for concept <how?>.\n",
      "2017-09-04 15:05:25,009 [INFO] Analyzing words for concept <husband>.\n",
      "2017-09-04 15:05:25,017 [INFO] Analyzing words for concept <if>.\n",
      "2017-09-04 15:05:25,024 [INFO] Analyzing words for concept <in, inside>.\n",
      "2017-09-04 15:05:25,035 [INFO] Analyzing words for concept <intestines>.\n",
      "2017-09-04 15:05:25,045 [INFO] Analyzing words for concept <lake>.\n",
      "2017-09-04 15:05:25,052 [INFO] Analyzing words for concept <leaf>.\n",
      "2017-09-04 15:05:25,060 [INFO] Analyzing words for concept <left>.\n",
      "2017-09-04 15:05:25,069 [INFO] Analyzing words for concept <leg/foot>.\n",
      "2017-09-04 15:05:25,079 [INFO] Analyzing words for concept <lightning>.\n",
      "2017-09-04 15:05:25,088 [INFO] Analyzing words for concept <liver>.\n",
      "SEQUENCE CLUSTERING:  35%|███▌      | 74/210 [00:00<00:01, 97.70it/s]2017-09-04 15:05:25,100 [INFO] Analyzing words for concept <long>.\n",
      "2017-09-04 15:05:25,106 [INFO] Analyzing words for concept <louse>.\n",
      "2017-09-04 15:05:25,116 [INFO] Analyzing words for concept <man/male>.\n",
      "2017-09-04 15:05:25,136 [INFO] Analyzing words for concept <meat/flesh>.\n",
      "2017-09-04 15:05:25,146 [INFO] Analyzing words for concept <moon>.\n",
      "2017-09-04 15:05:25,158 [INFO] Analyzing words for concept <mosquito>.\n",
      "2017-09-04 15:05:25,169 [INFO] Analyzing words for concept <mother>.\n",
      "2017-09-04 15:05:25,188 [INFO] Analyzing words for concept <mouth>.\n",
      "2017-09-04 15:05:25,200 [INFO] Analyzing words for concept <name>.\n",
      "SEQUENCE CLUSTERING:  40%|███▉      | 83/210 [00:00<00:01, 92.17it/s]2017-09-04 15:05:25,210 [INFO] Analyzing words for concept <narrow>.\n",
      "2017-09-04 15:05:25,222 [INFO] Analyzing words for concept <near>.\n",
      "2017-09-04 15:05:25,232 [INFO] Analyzing words for concept <neck>.\n",
      "2017-09-04 15:05:25,240 [INFO] Analyzing words for concept <needle>.\n",
      "2017-09-04 15:05:25,250 [INFO] Analyzing words for concept <new>.\n",
      "2017-09-04 15:05:25,257 [INFO] Analyzing words for concept <night>.\n",
      "2017-09-04 15:05:25,263 [INFO] Analyzing words for concept <no, not>.\n",
      "2017-09-04 15:05:25,275 [INFO] Analyzing words for concept <nose>.\n",
      "2017-09-04 15:05:25,282 [INFO] Analyzing words for concept <old>.\n",
      "2017-09-04 15:05:25,299 [INFO] Analyzing words for concept <other>.\n",
      "2017-09-04 15:05:25,303 [INFO] Analyzing words for concept <painful, sick>.\n",
      "SEQUENCE CLUSTERING:  45%|████▍     | 94/210 [00:00<00:01, 94.86it/s]2017-09-04 15:05:25,318 [INFO] Analyzing words for concept <person/human being>.\n",
      "2017-09-04 15:05:25,330 [INFO] Analyzing words for concept <rain>.\n",
      "2017-09-04 15:05:25,335 [INFO] Analyzing words for concept <rat>.\n",
      "2017-09-04 15:05:25,346 [INFO] Analyzing words for concept <red>.\n",
      "2017-09-04 15:05:25,359 [INFO] Analyzing words for concept <right>.\n",
      "2017-09-04 15:05:25,369 [INFO] Analyzing words for concept <road/path>.\n",
      "2017-09-04 15:05:25,381 [INFO] Analyzing words for concept <root>.\n",
      "2017-09-04 15:05:25,387 [INFO] Analyzing words for concept <rope>.\n",
      "2017-09-04 15:05:25,398 [INFO] Analyzing words for concept <rotten>.\n",
      "2017-09-04 15:05:25,411 [INFO] Analyzing words for concept <salt>.\n",
      "SEQUENCE CLUSTERING:  50%|████▉     | 104/210 [00:01<00:01, 95.01it/s]2017-09-04 15:05:25,422 [INFO] Analyzing words for concept <sand>.\n",
      "2017-09-04 15:05:25,427 [INFO] Analyzing words for concept <sea>.\n",
      "2017-09-04 15:05:25,450 [INFO] Analyzing words for concept <sharp>.\n",
      "2017-09-04 15:05:25,458 [INFO] Analyzing words for concept <short>.\n",
      "2017-09-04 15:05:25,468 [INFO] Analyzing words for concept <shoulder>.\n"
     ]
    },
    {
     "name": "stderr",
     "output_type": "stream",
     "text": [
      "2017-09-04 15:05:25,479 [INFO] Analyzing words for concept <shy, ashamed>.\n",
      "2017-09-04 15:05:25,486 [INFO] Analyzing words for concept <skin>.\n",
      "2017-09-04 15:05:25,493 [INFO] Analyzing words for concept <sky>.\n",
      "2017-09-04 15:05:25,502 [INFO] Analyzing words for concept <small>.\n",
      "2017-09-04 15:05:25,520 [INFO] Analyzing words for concept <smoke>.\n",
      "SEQUENCE CLUSTERING:  54%|█████▍    | 114/210 [00:01<00:01, 94.55it/s]2017-09-04 15:05:25,528 [INFO] Analyzing words for concept <snake>.\n",
      "2017-09-04 15:05:25,532 [INFO] Analyzing words for concept <spider>.\n",
      "2017-09-04 15:05:25,547 [INFO] Analyzing words for concept <star>.\n",
      "2017-09-04 15:05:25,555 [INFO] Analyzing words for concept <stick/wood>.\n",
      "2017-09-04 15:05:25,561 [INFO] Analyzing words for concept <stone>.\n",
      "2017-09-04 15:05:25,577 [INFO] Analyzing words for concept <tail>.\n",
      "2017-09-04 15:05:25,595 [INFO] Analyzing words for concept <that>.\n",
      "2017-09-04 15:05:25,600 [INFO] Analyzing words for concept <thatch/roof>.\n",
      "2017-09-04 15:05:25,614 [INFO] Analyzing words for concept <they>.\n",
      "2017-09-04 15:05:25,633 [INFO] Analyzing words for concept <thick>.\n",
      "SEQUENCE CLUSTERING:  59%|█████▉    | 124/210 [00:01<00:00, 91.09it/s]2017-09-04 15:05:25,649 [INFO] Analyzing words for concept <thin>.\n",
      "2017-09-04 15:05:25,664 [INFO] Analyzing words for concept <this>.\n",
      "2017-09-04 15:05:25,672 [INFO] Analyzing words for concept <thou>.\n",
      "2017-09-04 15:05:25,679 [INFO] Analyzing words for concept <thunder>.\n",
      "2017-09-04 15:05:25,691 [INFO] Analyzing words for concept <to bite>.\n",
      "2017-09-04 15:05:25,700 [INFO] Analyzing words for concept <to blow>.\n",
      "2017-09-04 15:05:25,719 [INFO] Analyzing words for concept <to breathe>.\n",
      "2017-09-04 15:05:25,735 [INFO] Analyzing words for concept <to burn>.\n",
      "2017-09-04 15:05:25,755 [INFO] Analyzing words for concept <to buy>.\n",
      "2017-09-04 15:05:25,763 [INFO] Analyzing words for concept <to chew>.\n",
      "SEQUENCE CLUSTERING:  64%|██████▍   | 134/210 [00:01<00:00, 87.54it/s]2017-09-04 15:05:25,773 [INFO] Analyzing words for concept <to choose>.\n",
      "2017-09-04 15:05:25,782 [INFO] Analyzing words for concept <to climb>.\n",
      "2017-09-04 15:05:25,789 [INFO] Analyzing words for concept <to come>.\n",
      "2017-09-04 15:05:25,805 [INFO] Analyzing words for concept <to cook>.\n",
      "2017-09-04 15:05:25,815 [INFO] Analyzing words for concept <to count>.\n",
      "2017-09-04 15:05:25,822 [INFO] Analyzing words for concept <to cry>.\n",
      "2017-09-04 15:05:25,832 [INFO] Analyzing words for concept <to cut, hack>.\n",
      "2017-09-04 15:05:25,857 [INFO] Analyzing words for concept <to die, be dead>.\n",
      "2017-09-04 15:05:25,867 [INFO] Analyzing words for concept <to dig>.\n",
      "SEQUENCE CLUSTERING:  68%|██████▊   | 143/210 [00:01<00:00, 86.75it/s]2017-09-04 15:05:25,879 [INFO] Analyzing words for concept <to dream>.\n",
      "2017-09-04 15:05:25,896 [INFO] Analyzing words for concept <to drink>.\n",
      "2017-09-04 15:05:25,901 [INFO] Analyzing words for concept <to eat>.\n",
      "2017-09-04 15:05:25,905 [INFO] Analyzing words for concept <to fall>.\n",
      "2017-09-04 15:05:25,934 [INFO] Analyzing words for concept <to fear>.\n",
      "2017-09-04 15:05:25,949 [INFO] Analyzing words for concept <to flow>.\n",
      "2017-09-04 15:05:25,954 [INFO] Analyzing words for concept <to fly>.\n",
      "2017-09-04 15:05:25,962 [INFO] Analyzing words for concept <to grow>.\n",
      "2017-09-04 15:05:25,971 [INFO] Analyzing words for concept <to hear>.\n",
      "SEQUENCE CLUSTERING:  72%|███████▏  | 152/210 [00:01<00:00, 87.04it/s]2017-09-04 15:05:25,981 [INFO] Analyzing words for concept <to hide>.\n",
      "2017-09-04 15:05:25,987 [INFO] Analyzing words for concept <to hit>.\n",
      "2017-09-04 15:05:26,007 [INFO] Analyzing words for concept <to hold>.\n",
      "2017-09-04 15:05:26,015 [INFO] Analyzing words for concept <to hunt>.\n",
      "2017-09-04 15:05:26,022 [INFO] Analyzing words for concept <to kill>.\n",
      "2017-09-04 15:05:26,035 [INFO] Analyzing words for concept <to know, be knowledgeable>.\n",
      "2017-09-04 15:05:26,043 [INFO] Analyzing words for concept <to laugh>.\n",
      "2017-09-04 15:05:26,048 [INFO] Analyzing words for concept <to lie down>.\n",
      "2017-09-04 15:05:26,059 [INFO] Analyzing words for concept <to live, be alive>.\n",
      "2017-09-04 15:05:26,063 [INFO] Analyzing words for concept <to open, uncover>.\n",
      "2017-09-04 15:05:26,074 [INFO] Analyzing words for concept <to plant>.\n",
      "2017-09-04 15:05:26,079 [INFO] Analyzing words for concept <to pound, beat>.\n",
      "SEQUENCE CLUSTERING:  78%|███████▊  | 164/210 [00:01<00:00, 93.71it/s]2017-09-04 15:05:26,086 [INFO] Analyzing words for concept <to say>.\n",
      "2017-09-04 15:05:26,093 [INFO] Analyzing words for concept <to scratch>.\n",
      "2017-09-04 15:05:26,103 [INFO] Analyzing words for concept <to see>.\n",
      "2017-09-04 15:05:26,108 [INFO] Analyzing words for concept <to sew>.\n",
      "2017-09-04 15:05:26,117 [INFO] Analyzing words for concept <to shoot>.\n",
      "2017-09-04 15:05:26,121 [INFO] Analyzing words for concept <to sit>.\n",
      "2017-09-04 15:05:26,128 [INFO] Analyzing words for concept <to sleep>.\n",
      "2017-09-04 15:05:26,133 [INFO] Analyzing words for concept <to sniff, smell>.\n",
      "2017-09-04 15:05:26,141 [INFO] Analyzing words for concept <to spit>.\n",
      "2017-09-04 15:05:26,152 [INFO] Analyzing words for concept <to split>.\n",
      "2017-09-04 15:05:26,166 [INFO] Analyzing words for concept <to squeeze>.\n",
      "2017-09-04 15:05:26,177 [INFO] Analyzing words for concept <to stab, pierce>.\n",
      "SEQUENCE CLUSTERING:  84%|████████▍ | 176/210 [00:01<00:00, 99.42it/s]2017-09-04 15:05:26,190 [INFO] Analyzing words for concept <to stand>.\n",
      "2017-09-04 15:05:26,195 [INFO] Analyzing words for concept <to steal>.\n",
      "2017-09-04 15:05:26,203 [INFO] Analyzing words for concept <to suck>.\n",
      "2017-09-04 15:05:26,213 [INFO] Analyzing words for concept <to swell>.\n",
      "2017-09-04 15:05:26,222 [INFO] Analyzing words for concept <to swim>.\n",
      "2017-09-04 15:05:26,227 [INFO] Analyzing words for concept <to think>.\n",
      "2017-09-04 15:05:26,236 [INFO] Analyzing words for concept <to throw>.\n",
      "2017-09-04 15:05:26,248 [INFO] Analyzing words for concept <to tie up, fasten>.\n",
      "2017-09-04 15:05:26,263 [INFO] Analyzing words for concept <to turn>.\n",
      "2017-09-04 15:05:26,273 [INFO] Analyzing words for concept <to vomit>.\n",
      "2017-09-04 15:05:26,279 [INFO] Analyzing words for concept <to walk>.\n",
      "SEQUENCE CLUSTERING:  89%|████████▉ | 187/210 [00:01<00:00, 101.12it/s]2017-09-04 15:05:26,295 [INFO] Analyzing words for concept <to work>.\n",
      "2017-09-04 15:05:26,301 [INFO] Analyzing words for concept <to yawn>.\n",
      "2017-09-04 15:05:26,309 [INFO] Analyzing words for concept <tongue>.\n",
      "2017-09-04 15:05:26,316 [INFO] Analyzing words for concept <tooth>.\n",
      "2017-09-04 15:05:26,322 [INFO] Analyzing words for concept <warm>.\n",
      "2017-09-04 15:05:26,339 [INFO] Analyzing words for concept <water>.\n",
      "2017-09-04 15:05:26,344 [INFO] Analyzing words for concept <we>.\n",
      "2017-09-04 15:05:26,409 [INFO] Analyzing words for concept <wet>.\n",
      "2017-09-04 15:05:26,419 [INFO] Analyzing words for concept <what?>.\n",
      "2017-09-04 15:05:26,424 [INFO] Analyzing words for concept <when?>.\n",
      "2017-09-04 15:05:26,431 [INFO] Analyzing words for concept <where?>.\n",
      "SEQUENCE CLUSTERING:  94%|█████████▍| 198/210 [00:02<00:00, 92.48it/s] 2017-09-04 15:05:26,437 [INFO] Analyzing words for concept <white>.\n",
      "2017-09-04 15:05:26,447 [INFO] Analyzing words for concept <who?>.\n",
      "2017-09-04 15:05:26,451 [INFO] Analyzing words for concept <wide>.\n",
      "2017-09-04 15:05:26,458 [INFO] Analyzing words for concept <wife>.\n",
      "2017-09-04 15:05:26,465 [INFO] Analyzing words for concept <wind>.\n",
      "2017-09-04 15:05:26,478 [INFO] Analyzing words for concept <wing>.\n",
      "2017-09-04 15:05:26,487 [INFO] Analyzing words for concept <woman/female>.\n",
      "2017-09-04 15:05:26,504 [INFO] Analyzing words for concept <woods/forest>.\n",
      "2017-09-04 15:05:26,510 [INFO] Analyzing words for concept <worm (earthworm)>.\n",
      "2017-09-04 15:05:26,517 [INFO] Analyzing words for concept <year>.\n",
      "2017-09-04 15:05:26,528 [INFO] Analyzing words for concept <yellow>.\n",
      "2017-09-04 15:05:26,536 [INFO] Analyzing words for concept <you>.\n",
      "                                                                      "
     ]
    },
    {
     "name": "stdout",
     "output_type": "stream",
     "text": [
      "Maori_85             \t waru \t3 \t 3 \n",
      "Austral_128          \t vaʔu \t2 \t 3 \n",
      "Mangareva_239        \t varu \t3 \t 3 \n",
      "Austral_1213         \t vaGu \t1 \t 3 \n",
      "Hawaiian_52          \t walu \t3 \t 3 \n",
      "NorthMarquesan_38    \t va'u \t2 \t 3 \n",
      "Tuamotuan_246        \t varu \t3 \t 3 \n",
      "Rapanui_264          \t va'u \t2 \t 3 \n",
      "Sikaiana_243         \t valu \t3 \t 3 \n",
      "Tahitian_173         \t va'u \t2 \t 3 \n"
     ]
    },
    {
     "name": "stderr",
     "output_type": "stream",
     "text": [
      "\r"
     ]
    }
   ],
   "source": [
    "lex.cluster(method=\"sca\", threshold=0.45)\n",
    "\n",
    "for k, v in eight.items():\n",
    "    idx = v[0] \n",
    "    print(\"{0:20} \\t {1} \\t{2} \\t {3} \".format(\n",
    "        lex[idx, 'doculect'], \n",
    "        lex[idx, 'value'], \n",
    "        lex[idx, 'turchinid'], \n",
    "        lex[idx, 'scaid']))"
   ]
  },
  {
   "cell_type": "markdown",
   "metadata": {},
   "source": [
    "We are now ready to do the same analysis with the \"lexstat\" method. This will take some time due to the permutation test. In order to make sure we do not need to run this all the time, we will save the data immediately after running the permutation to a file which we give the extension \"bin.tsv\", and which we can load in case we want to carry out further tests, or which we can otherwise also share when publishing results, as it contains all the data needed to rerun the analyses on a different machine. LingPy creates a lot of data when analyzing wordlists, but by default, only a minimal amount of the data is written to file. In this case, if we want to store the results of the permutation test, we need to store the whole file with all the data that lingpy produces, especially the language-specific scoring function. In order to force LingPy to do so, we have to add the keyword ```ignore=[]``` to the output-function. This will prevent that any data which should be written to file is ignored (```$ python3 autocogs.py cognates-lexstat``` in commandline):"
   ]
  },
  {
   "cell_type": "code",
   "execution_count": 17,
   "metadata": {},
   "outputs": [
    {
     "name": "stderr",
     "output_type": "stream",
     "text": [
      "2017-09-04 15:05:26,572 [WARNING] A different scoring function has already been calculated, overwriting previous settings.\n",
      "CORRESPONDENCE CALCULATION:   0%|          | 0/50.0 [00:00<?, ?it/s]2017-09-04 15:05:26,574 [INFO] Calculating alignments for pair Austral_1213 / Austral_1213.\n",
      "2017-09-04 15:05:26,621 [INFO] Calculating alignments for pair Austral_1213 / Austral_128.\n",
      "CORRESPONDENCE CALCULATION:   6%|▌         | 3/50.0 [00:00<00:01, 28.64it/s]2017-09-04 15:05:26,679 [INFO] Calculating alignments for pair Austral_1213 / Hawaiian_52.\n",
      "2017-09-04 15:05:26,724 [INFO] Calculating alignments for pair Austral_1213 / Mangareva_239.\n",
      "2017-09-04 15:05:26,777 [INFO] Calculating alignments for pair Austral_1213 / Maori_85.\n",
      "CORRESPONDENCE CALCULATION:  12%|█▏        | 6/50.0 [00:00<00:01, 25.90it/s]2017-09-04 15:05:26,821 [INFO] Calculating alignments for pair Austral_1213 / NorthMarquesan_38.\n",
      "2017-09-04 15:05:26,875 [INFO] Calculating alignments for pair Austral_1213 / Rapanui_264.\n",
      "2017-09-04 15:05:26,919 [INFO] Calculating alignments for pair Austral_1213 / Sikaiana_243.\n",
      "CORRESPONDENCE CALCULATION:  18%|█▊        | 9/50.0 [00:00<00:01, 24.58it/s]2017-09-04 15:05:26,957 [INFO] Calculating alignments for pair Austral_1213 / Tahitian_173.\n",
      "2017-09-04 15:05:27,006 [INFO] Calculating alignments for pair Austral_1213 / Tuamotuan_246.\n",
      "2017-09-04 15:05:27,050 [INFO] Calculating alignments for pair Austral_128 / Austral_128.\n",
      "CORRESPONDENCE CALCULATION:  24%|██▍       | 12/50.0 [00:00<00:01, 23.13it/s]2017-09-04 15:05:27,105 [INFO] Calculating alignments for pair Austral_128 / Hawaiian_52.\n",
      "2017-09-04 15:05:27,161 [INFO] Calculating alignments for pair Austral_128 / Mangareva_239.\n",
      "CORRESPONDENCE CALCULATION:  28%|██▊       | 14/50.0 [00:00<00:01, 21.01it/s]2017-09-04 15:05:27,220 [INFO] Calculating alignments for pair Austral_128 / Maori_85.\n",
      "2017-09-04 15:05:27,273 [INFO] Calculating alignments for pair Austral_128 / NorthMarquesan_38.\n",
      "CORRESPONDENCE CALCULATION:  32%|███▏      | 16/50.0 [00:00<00:01, 19.38it/s]2017-09-04 15:05:27,342 [INFO] Calculating alignments for pair Austral_128 / Rapanui_264.\n",
      "2017-09-04 15:05:27,434 [INFO] Calculating alignments for pair Austral_128 / Sikaiana_243.\n",
      "CORRESPONDENCE CALCULATION:  36%|███▌      | 18/50.0 [00:00<00:01, 16.93it/s]2017-09-04 15:05:27,497 [INFO] Calculating alignments for pair Austral_128 / Tahitian_173.\n",
      "2017-09-04 15:05:27,577 [INFO] Calculating alignments for pair Austral_128 / Tuamotuan_246.\n",
      "CORRESPONDENCE CALCULATION:  40%|████      | 20/50.0 [00:01<00:01, 15.92it/s]2017-09-04 15:05:27,638 [INFO] Calculating alignments for pair Hawaiian_52 / Hawaiian_52.\n",
      "2017-09-04 15:05:27,686 [INFO] Calculating alignments for pair Hawaiian_52 / Mangareva_239.\n",
      "CORRESPONDENCE CALCULATION:  44%|████▍     | 22/50.0 [00:01<00:01, 16.56it/s]2017-09-04 15:05:27,748 [INFO] Calculating alignments for pair Hawaiian_52 / Maori_85.\n",
      "2017-09-04 15:05:27,795 [INFO] Calculating alignments for pair Hawaiian_52 / NorthMarquesan_38.\n",
      "CORRESPONDENCE CALCULATION:  48%|████▊     | 24/50.0 [00:01<00:01, 16.76it/s]2017-09-04 15:05:27,864 [INFO] Calculating alignments for pair Hawaiian_52 / Rapanui_264.\n",
      "2017-09-04 15:05:27,910 [INFO] Calculating alignments for pair Hawaiian_52 / Sikaiana_243.\n",
      "2017-09-04 15:05:27,951 [INFO] Calculating alignments for pair Hawaiian_52 / Tahitian_173.\n",
      "CORRESPONDENCE CALCULATION:  54%|█████▍    | 27/50.0 [00:01<00:01, 17.97it/s]2017-09-04 15:05:28,002 [INFO] Calculating alignments for pair Hawaiian_52 / Tuamotuan_246.\n",
      "2017-09-04 15:05:28,047 [INFO] Calculating alignments for pair Mangareva_239 / Mangareva_239.\n",
      "2017-09-04 15:05:28,092 [INFO] Calculating alignments for pair Mangareva_239 / Maori_85.\n",
      "CORRESPONDENCE CALCULATION:  60%|██████    | 30/50.0 [00:01<00:01, 18.83it/s]2017-09-04 15:05:28,144 [INFO] Calculating alignments for pair Mangareva_239 / NorthMarquesan_38.\n",
      "2017-09-04 15:05:28,212 [INFO] Calculating alignments for pair Mangareva_239 / Rapanui_264.\n",
      "CORRESPONDENCE CALCULATION:  64%|██████▍   | 32/50.0 [00:01<00:01, 17.57it/s]2017-09-04 15:05:28,276 [INFO] Calculating alignments for pair Mangareva_239 / Sikaiana_243.\n",
      "2017-09-04 15:05:28,325 [INFO] Calculating alignments for pair Mangareva_239 / Tahitian_173.\n",
      "CORRESPONDENCE CALCULATION:  68%|██████▊   | 34/50.0 [00:01<00:00, 17.44it/s]2017-09-04 15:05:28,392 [INFO] Calculating alignments for pair Mangareva_239 / Tuamotuan_246.\n",
      "2017-09-04 15:05:28,461 [INFO] Calculating alignments for pair Maori_85 / Maori_85.\n",
      "CORRESPONDENCE CALCULATION:  72%|███████▏  | 36/50.0 [00:01<00:00, 17.19it/s]2017-09-04 15:05:28,512 [INFO] Calculating alignments for pair Maori_85 / NorthMarquesan_38.\n",
      "2017-09-04 15:05:28,583 [INFO] Calculating alignments for pair Maori_85 / Rapanui_264.\n",
      "CORRESPONDENCE CALCULATION:  76%|███████▌  | 38/50.0 [00:02<00:00, 16.67it/s]2017-09-04 15:05:28,641 [INFO] Calculating alignments for pair Maori_85 / Sikaiana_243.\n",
      "2017-09-04 15:05:28,691 [INFO] Calculating alignments for pair Maori_85 / Tahitian_173.\n",
      "CORRESPONDENCE CALCULATION:  80%|████████  | 40/50.0 [00:02<00:00, 17.05it/s]2017-09-04 15:05:28,752 [INFO] Calculating alignments for pair Maori_85 / Tuamotuan_246.\n",
      "2017-09-04 15:05:28,809 [INFO] Calculating alignments for pair NorthMarquesan_38 / NorthMarquesan_38.\n",
      "CORRESPONDENCE CALCULATION:  84%|████████▍ | 42/50.0 [00:02<00:00, 16.80it/s]2017-09-04 15:05:28,875 [INFO] Calculating alignments for pair NorthMarquesan_38 / Rapanui_264.\n",
      "2017-09-04 15:05:28,949 [INFO] Calculating alignments for pair NorthMarquesan_38 / Sikaiana_243.\n",
      "CORRESPONDENCE CALCULATION:  88%|████████▊ | 44/50.0 [00:02<00:00, 16.08it/s]2017-09-04 15:05:29,012 [INFO] Calculating alignments for pair NorthMarquesan_38 / Tahitian_173.\n",
      "2017-09-04 15:05:29,086 [INFO] Calculating alignments for pair NorthMarquesan_38 / Tuamotuan_246.\n",
      "CORRESPONDENCE CALCULATION:  92%|█████████▏| 46/50.0 [00:02<00:00, 14.96it/s]2017-09-04 15:05:29,167 [INFO] Calculating alignments for pair Rapanui_264 / Rapanui_264.\n",
      "2017-09-04 15:05:29,212 [INFO] Calculating alignments for pair Rapanui_264 / Sikaiana_243.\n",
      "2017-09-04 15:05:29,263 [INFO] Calculating alignments for pair Rapanui_264 / Tahitian_173.\n",
      "CORRESPONDENCE CALCULATION:  98%|█████████▊| 49/50.0 [00:02<00:00, 15.97it/s]2017-09-04 15:05:29,326 [INFO] Calculating alignments for pair Rapanui_264 / Tuamotuan_246.\n",
      "2017-09-04 15:05:29,384 [INFO] Calculating alignments for pair Sikaiana_243 / Sikaiana_243.\n",
      "2017-09-04 15:05:29,424 [INFO] Calculating alignments for pair Sikaiana_243 / Tahitian_173.\n",
      "CORRESPONDENCE CALCULATION: 52it [00:02, 16.95it/s]                          2017-09-04 15:05:29,477 [INFO] Calculating alignments for pair Sikaiana_243 / Tuamotuan_246.\n",
      "2017-09-04 15:05:29,528 [INFO] Calculating alignments for pair Tahitian_173 / Tahitian_173.\n",
      "CORRESPONDENCE CALCULATION: 54it [00:03, 17.10it/s]2017-09-04 15:05:29,592 [INFO] Calculating alignments for pair Tahitian_173 / Tuamotuan_246.\n",
      "2017-09-04 15:05:29,651 [INFO] Calculating alignments for pair Tuamotuan_246 / Tuamotuan_246.\n",
      "RANDOM CORRESPONDENCE CALCULATION:   0%|          | 0/50.0 [00:00<?, ?it/s]2017-09-04 15:05:29,700 [INFO] Calculating random alignmentsfor pair Austral_1213/Austral_1213.\n",
      "RANDOM CORRESPONDENCE CALCULATION:   4%|▍         | 2/50.0 [00:02<00:48,  1.01s/it]2017-09-04 15:05:31,726 [INFO] Calculating random alignmentsfor pair Austral_1213/Austral_128.\n",
      "RANDOM CORRESPONDENCE CALCULATION:   6%|▌         | 3/50.0 [00:03<01:00,  1.28s/it]2017-09-04 15:05:33,632 [INFO] Calculating random alignmentsfor pair Austral_1213/Hawaiian_52.\n",
      "RANDOM CORRESPONDENCE CALCULATION:   8%|▊         | 4/50.0 [00:05<01:05,  1.42s/it]2017-09-04 15:05:35,381 [INFO] Calculating random alignmentsfor pair Austral_1213/Mangareva_239.\n",
      "RANDOM CORRESPONDENCE CALCULATION:  10%|█         | 5/50.0 [00:07<01:09,  1.53s/it]2017-09-04 15:05:37,182 [INFO] Calculating random alignmentsfor pair Austral_1213/Maori_85.\n",
      "RANDOM CORRESPONDENCE CALCULATION:  12%|█▏        | 6/50.0 [00:09<01:10,  1.59s/it]2017-09-04 15:05:38,904 [INFO] Calculating random alignmentsfor pair Austral_1213/NorthMarquesan_38.\n",
      "RANDOM CORRESPONDENCE CALCULATION:  14%|█▍        | 7/50.0 [00:11<01:11,  1.66s/it]2017-09-04 15:05:40,720 [INFO] Calculating random alignmentsfor pair Austral_1213/Rapanui_264.\n"
     ]
    },
    {
     "name": "stderr",
     "output_type": "stream",
     "text": [
      "RANDOM CORRESPONDENCE CALCULATION:  16%|█▌        | 8/50.0 [00:12<01:10,  1.67s/it]2017-09-04 15:05:42,415 [INFO] Calculating random alignmentsfor pair Austral_1213/Sikaiana_243.\n",
      "RANDOM CORRESPONDENCE CALCULATION:  18%|█▊        | 9/50.0 [00:14<01:07,  1.65s/it]2017-09-04 15:05:44,012 [INFO] Calculating random alignmentsfor pair Austral_1213/Tahitian_173.\n",
      "RANDOM CORRESPONDENCE CALCULATION:  20%|██        | 10/50.0 [00:16<01:08,  1.71s/it]2017-09-04 15:05:45,858 [INFO] Calculating random alignmentsfor pair Austral_1213/Tuamotuan_246.\n",
      "RANDOM CORRESPONDENCE CALCULATION:  22%|██▏       | 11/50.0 [00:17<01:05,  1.69s/it]2017-09-04 15:05:47,492 [INFO] Calculating random alignmentsfor pair Austral_128/Austral_128.\n",
      "RANDOM CORRESPONDENCE CALCULATION:  24%|██▍       | 12/50.0 [00:19<01:06,  1.76s/it]2017-09-04 15:05:49,436 [INFO] Calculating random alignmentsfor pair Austral_128/Hawaiian_52.\n",
      "RANDOM CORRESPONDENCE CALCULATION:  26%|██▌       | 13/50.0 [00:21<01:05,  1.78s/it]2017-09-04 15:05:51,247 [INFO] Calculating random alignmentsfor pair Austral_128/Mangareva_239.\n",
      "RANDOM CORRESPONDENCE CALCULATION:  28%|██▊       | 14/50.0 [00:23<01:03,  1.77s/it]2017-09-04 15:05:53,012 [INFO] Calculating random alignmentsfor pair Austral_128/Maori_85.\n",
      "RANDOM CORRESPONDENCE CALCULATION:  30%|███       | 15/50.0 [00:25<01:01,  1.76s/it]2017-09-04 15:05:54,726 [INFO] Calculating random alignmentsfor pair Austral_128/NorthMarquesan_38.\n",
      "RANDOM CORRESPONDENCE CALCULATION:  32%|███▏      | 16/50.0 [00:26<00:59,  1.76s/it]2017-09-04 15:05:56,502 [INFO] Calculating random alignmentsfor pair Austral_128/Rapanui_264.\n",
      "RANDOM CORRESPONDENCE CALCULATION:  34%|███▍      | 17/50.0 [00:28<00:56,  1.72s/it]2017-09-04 15:05:58,131 [INFO] Calculating random alignmentsfor pair Austral_128/Sikaiana_243.\n",
      "RANDOM CORRESPONDENCE CALCULATION:  36%|███▌      | 18/50.0 [00:30<00:53,  1.69s/it]2017-09-04 15:05:59,736 [INFO] Calculating random alignmentsfor pair Austral_128/Tahitian_173.\n",
      "RANDOM CORRESPONDENCE CALCULATION:  38%|███▊      | 19/50.0 [00:31<00:54,  1.75s/it]2017-09-04 15:06:01,624 [INFO] Calculating random alignmentsfor pair Austral_128/Tuamotuan_246.\n",
      "RANDOM CORRESPONDENCE CALCULATION:  40%|████      | 20/50.0 [00:33<00:51,  1.72s/it]2017-09-04 15:06:03,276 [INFO] Calculating random alignmentsfor pair Hawaiian_52/Hawaiian_52.\n",
      "RANDOM CORRESPONDENCE CALCULATION:  42%|████▏     | 21/50.0 [00:35<00:48,  1.67s/it]2017-09-04 15:06:04,832 [INFO] Calculating random alignmentsfor pair Hawaiian_52/Mangareva_239.\n",
      "RANDOM CORRESPONDENCE CALCULATION:  44%|████▍     | 22/50.0 [00:36<00:46,  1.64s/it]2017-09-04 15:06:06,419 [INFO] Calculating random alignmentsfor pair Hawaiian_52/Maori_85.\n",
      "RANDOM CORRESPONDENCE CALCULATION:  46%|████▌     | 23/50.0 [00:38<00:43,  1.62s/it]2017-09-04 15:06:07,978 [INFO] Calculating random alignmentsfor pair Hawaiian_52/NorthMarquesan_38.\n",
      "RANDOM CORRESPONDENCE CALCULATION:  48%|████▊     | 24/50.0 [00:39<00:42,  1.62s/it]2017-09-04 15:06:09,601 [INFO] Calculating random alignmentsfor pair Hawaiian_52/Rapanui_264.\n",
      "RANDOM CORRESPONDENCE CALCULATION:  50%|█████     | 25/50.0 [00:41<00:39,  1.58s/it]2017-09-04 15:06:11,100 [INFO] Calculating random alignmentsfor pair Hawaiian_52/Sikaiana_243.\n",
      "RANDOM CORRESPONDENCE CALCULATION:  52%|█████▏    | 26/50.0 [00:42<00:37,  1.54s/it]2017-09-04 15:06:12,550 [INFO] Calculating random alignmentsfor pair Hawaiian_52/Tahitian_173.\n",
      "RANDOM CORRESPONDENCE CALCULATION:  54%|█████▍    | 27/50.0 [00:44<00:36,  1.59s/it]2017-09-04 15:06:14,247 [INFO] Calculating random alignmentsfor pair Hawaiian_52/Tuamotuan_246.\n",
      "RANDOM CORRESPONDENCE CALCULATION:  56%|█████▌    | 28/50.0 [00:46<00:34,  1.56s/it]2017-09-04 15:06:15,730 [INFO] Calculating random alignmentsfor pair Mangareva_239/Mangareva_239.\n",
      "RANDOM CORRESPONDENCE CALCULATION:  58%|█████▊    | 29/50.0 [00:47<00:32,  1.56s/it]2017-09-04 15:06:17,304 [INFO] Calculating random alignmentsfor pair Mangareva_239/Maori_85.\n",
      "RANDOM CORRESPONDENCE CALCULATION:  60%|██████    | 30/50.0 [00:49<00:31,  1.57s/it]2017-09-04 15:06:18,886 [INFO] Calculating random alignmentsfor pair Mangareva_239/NorthMarquesan_38.\n",
      "RANDOM CORRESPONDENCE CALCULATION:  62%|██████▏   | 31/50.0 [00:50<00:30,  1.61s/it]2017-09-04 15:06:20,579 [INFO] Calculating random alignmentsfor pair Mangareva_239/Rapanui_264.\n",
      "RANDOM CORRESPONDENCE CALCULATION:  64%|██████▍   | 32/50.0 [00:52<00:28,  1.59s/it]2017-09-04 15:06:22,144 [INFO] Calculating random alignmentsfor pair Mangareva_239/Sikaiana_243.\n",
      "RANDOM CORRESPONDENCE CALCULATION:  66%|██████▌   | 33/50.0 [00:53<00:26,  1.56s/it]2017-09-04 15:06:23,626 [INFO] Calculating random alignmentsfor pair Mangareva_239/Tahitian_173.\n",
      "RANDOM CORRESPONDENCE CALCULATION:  68%|██████▊   | 34/50.0 [00:55<00:25,  1.60s/it]2017-09-04 15:06:25,322 [INFO] Calculating random alignmentsfor pair Mangareva_239/Tuamotuan_246.\n",
      "RANDOM CORRESPONDENCE CALCULATION:  70%|███████   | 35/50.0 [00:57<00:23,  1.57s/it]2017-09-04 15:06:26,824 [INFO] Calculating random alignmentsfor pair Maori_85/Maori_85.\n",
      "RANDOM CORRESPONDENCE CALCULATION:  72%|███████▏  | 36/50.0 [00:58<00:22,  1.59s/it]2017-09-04 15:06:28,464 [INFO] Calculating random alignmentsfor pair Maori_85/NorthMarquesan_38.\n",
      "RANDOM CORRESPONDENCE CALCULATION:  74%|███████▍  | 37/50.0 [01:00<00:20,  1.61s/it]2017-09-04 15:06:30,108 [INFO] Calculating random alignmentsfor pair Maori_85/Rapanui_264.\n",
      "RANDOM CORRESPONDENCE CALCULATION:  76%|███████▌  | 38/50.0 [01:01<00:18,  1.57s/it]2017-09-04 15:06:31,606 [INFO] Calculating random alignmentsfor pair Maori_85/Sikaiana_243.\n",
      "RANDOM CORRESPONDENCE CALCULATION:  78%|███████▊  | 39/50.0 [01:03<00:17,  1.56s/it]2017-09-04 15:06:33,126 [INFO] Calculating random alignmentsfor pair Maori_85/Tahitian_173.\n",
      "RANDOM CORRESPONDENCE CALCULATION:  80%|████████  | 40/50.0 [01:05<00:15,  1.60s/it]2017-09-04 15:06:34,812 [INFO] Calculating random alignmentsfor pair Maori_85/Tuamotuan_246.\n",
      "RANDOM CORRESPONDENCE CALCULATION:  82%|████████▏ | 41/50.0 [01:06<00:14,  1.57s/it]2017-09-04 15:06:36,310 [INFO] Calculating random alignmentsfor pair NorthMarquesan_38/NorthMarquesan_38.\n",
      "RANDOM CORRESPONDENCE CALCULATION:  84%|████████▍ | 42/50.0 [01:08<00:12,  1.60s/it]2017-09-04 15:06:37,999 [INFO] Calculating random alignmentsfor pair NorthMarquesan_38/Rapanui_264.\n",
      "RANDOM CORRESPONDENCE CALCULATION:  86%|████████▌ | 43/50.0 [01:09<00:11,  1.61s/it]2017-09-04 15:06:39,616 [INFO] Calculating random alignmentsfor pair NorthMarquesan_38/Sikaiana_243.\n",
      "RANDOM CORRESPONDENCE CALCULATION:  88%|████████▊ | 44/50.0 [01:11<00:09,  1.58s/it]2017-09-04 15:06:41,122 [INFO] Calculating random alignmentsfor pair NorthMarquesan_38/Tahitian_173.\n",
      "RANDOM CORRESPONDENCE CALCULATION:  90%|█████████ | 45/50.0 [01:13<00:08,  1.63s/it]2017-09-04 15:06:42,872 [INFO] Calculating random alignmentsfor pair NorthMarquesan_38/Tuamotuan_246.\n",
      "RANDOM CORRESPONDENCE CALCULATION:  92%|█████████▏| 46/50.0 [01:14<00:06,  1.62s/it]2017-09-04 15:06:44,463 [INFO] Calculating random alignmentsfor pair Rapanui_264/Rapanui_264.\n",
      "RANDOM CORRESPONDENCE CALCULATION:  94%|█████████▍| 47/50.0 [01:16<00:04,  1.58s/it]2017-09-04 15:06:45,954 [INFO] Calculating random alignmentsfor pair Rapanui_264/Sikaiana_243.\n",
      "RANDOM CORRESPONDENCE CALCULATION:  96%|█████████▌| 48/50.0 [01:17<00:03,  1.54s/it]2017-09-04 15:06:47,408 [INFO] Calculating random alignmentsfor pair Rapanui_264/Tahitian_173.\n",
      "RANDOM CORRESPONDENCE CALCULATION:  98%|█████████▊| 49/50.0 [01:19<00:01,  1.58s/it]2017-09-04 15:06:49,074 [INFO] Calculating random alignmentsfor pair Rapanui_264/Tuamotuan_246.\n",
      "RANDOM CORRESPONDENCE CALCULATION: 100%|██████████| 50/50.0 [01:20<00:00,  1.56s/it]2017-09-04 15:06:50,592 [INFO] Calculating random alignmentsfor pair Sikaiana_243/Sikaiana_243.\n",
      "RANDOM CORRESPONDENCE CALCULATION: 51it [01:22,  1.53s/it]                          2017-09-04 15:06:52,045 [INFO] Calculating random alignmentsfor pair Sikaiana_243/Tahitian_173.\n",
      "RANDOM CORRESPONDENCE CALCULATION: 52it [01:23,  1.56s/it]2017-09-04 15:06:53,673 [INFO] Calculating random alignmentsfor pair Sikaiana_243/Tuamotuan_246.\n",
      "RANDOM CORRESPONDENCE CALCULATION: 53it [01:25,  1.53s/it]2017-09-04 15:06:55,123 [INFO] Calculating random alignmentsfor pair Tahitian_173/Tahitian_173.\n"
     ]
    },
    {
     "name": "stderr",
     "output_type": "stream",
     "text": [
      "RANDOM CORRESPONDENCE CALCULATION: 54it [01:27,  1.61s/it]2017-09-04 15:06:56,938 [INFO] Calculating random alignmentsfor pair Tahitian_173/Tuamotuan_246.\n",
      "RANDOM CORRESPONDENCE CALCULATION: 55it [01:28,  1.62s/it]2017-09-04 15:06:58,566 [INFO] Calculating random alignmentsfor pair Tuamotuan_246/Tuamotuan_246.\n",
      "2017-09-04 15:07:26,615 [INFO] Data has been written to file <east-polynesian.bin.tsv>.\n",
      "SEQUENCE CLUSTERING:   0%|          | 0/210 [00:00<?, ?it/s]2017-09-04 15:07:26,617 [INFO] Analyzing words for concept <Eight>.\n",
      "2017-09-04 15:07:26,625 [INFO] Analyzing words for concept <Fifty>.\n",
      "2017-09-04 15:07:26,631 [INFO] Analyzing words for concept <Five>.\n",
      "2017-09-04 15:07:26,640 [INFO] Analyzing words for concept <Four>.\n",
      "2017-09-04 15:07:26,646 [INFO] Analyzing words for concept <I>.\n",
      "2017-09-04 15:07:26,656 [INFO] Analyzing words for concept <Nine>.\n",
      "2017-09-04 15:07:26,662 [INFO] Analyzing words for concept <One>.\n",
      "2017-09-04 15:07:26,672 [INFO] Analyzing words for concept <One Hundred>.\n",
      "2017-09-04 15:07:26,682 [INFO] Analyzing words for concept <One Thousand>.\n",
      "2017-09-04 15:07:26,698 [INFO] Analyzing words for concept <Seven>.\n",
      "2017-09-04 15:07:26,706 [INFO] Analyzing words for concept <Six>.\n",
      "2017-09-04 15:07:26,713 [INFO] Analyzing words for concept <Ten>.\n",
      "SEQUENCE CLUSTERING:   6%|▌         | 12/210 [00:00<00:01, 100.51it/s]2017-09-04 15:07:26,739 [INFO] Analyzing words for concept <Three>.\n",
      "2017-09-04 15:07:26,747 [INFO] Analyzing words for concept <Twenty>.\n",
      "2017-09-04 15:07:26,758 [INFO] Analyzing words for concept <Two>.\n",
      "2017-09-04 15:07:26,766 [INFO] Analyzing words for concept <above>.\n",
      "2017-09-04 15:07:26,774 [INFO] Analyzing words for concept <all>.\n",
      "2017-09-04 15:07:26,784 [INFO] Analyzing words for concept <and>.\n",
      "2017-09-04 15:07:26,793 [INFO] Analyzing words for concept <ash>.\n",
      "2017-09-04 15:07:26,806 [INFO] Analyzing words for concept <at>.\n",
      "2017-09-04 15:07:26,814 [INFO] Analyzing words for concept <back>.\n",
      "2017-09-04 15:07:26,824 [INFO] Analyzing words for concept <bad, evil>.\n",
      "SEQUENCE CLUSTERING:  10%|█         | 22/210 [00:00<00:01, 99.87it/s] 2017-09-04 15:07:26,840 [INFO] Analyzing words for concept <belly>.\n",
      "2017-09-04 15:07:26,864 [INFO] Analyzing words for concept <below>.\n",
      "2017-09-04 15:07:26,873 [INFO] Analyzing words for concept <big>.\n",
      "2017-09-04 15:07:26,886 [INFO] Analyzing words for concept <bird>.\n",
      "2017-09-04 15:07:26,894 [INFO] Analyzing words for concept <black>.\n",
      "2017-09-04 15:07:26,916 [INFO] Analyzing words for concept <blood>.\n",
      "2017-09-04 15:07:26,924 [INFO] Analyzing words for concept <bone>.\n",
      "2017-09-04 15:07:26,931 [INFO] Analyzing words for concept <branch>.\n",
      "SEQUENCE CLUSTERING:  14%|█▍        | 30/210 [00:00<00:01, 91.74it/s]2017-09-04 15:07:26,943 [INFO] Analyzing words for concept <breast>.\n",
      "2017-09-04 15:07:26,954 [INFO] Analyzing words for concept <child>.\n",
      "2017-09-04 15:07:26,975 [INFO] Analyzing words for concept <cloud>.\n",
      "2017-09-04 15:07:26,986 [INFO] Analyzing words for concept <cold>.\n",
      "2017-09-04 15:07:27,018 [INFO] Analyzing words for concept <correct, true>.\n",
      "2017-09-04 15:07:27,042 [INFO] Analyzing words for concept <day>.\n",
      "SEQUENCE CLUSTERING:  17%|█▋        | 36/210 [00:00<00:02, 75.97it/s]2017-09-04 15:07:27,055 [INFO] Analyzing words for concept <dirty>.\n",
      "2017-09-04 15:07:27,069 [INFO] Analyzing words for concept <dog>.\n",
      "2017-09-04 15:07:27,082 [INFO] Analyzing words for concept <dry>.\n",
      "2017-09-04 15:07:27,095 [INFO] Analyzing words for concept <dull, blunt>.\n",
      "2017-09-04 15:07:27,109 [INFO] Analyzing words for concept <dust>.\n",
      "2017-09-04 15:07:27,132 [INFO] Analyzing words for concept <ear>.\n",
      "2017-09-04 15:07:27,144 [INFO] Analyzing words for concept <earth/soil>.\n",
      "SEQUENCE CLUSTERING:  20%|██        | 43/210 [00:00<00:02, 71.99it/s]2017-09-04 15:07:27,164 [INFO] Analyzing words for concept <egg>.\n",
      "2017-09-04 15:07:27,183 [INFO] Analyzing words for concept <eye>.\n",
      "2017-09-04 15:07:27,196 [INFO] Analyzing words for concept <far>.\n",
      "2017-09-04 15:07:27,206 [INFO] Analyzing words for concept <fat/grease>.\n",
      "2017-09-04 15:07:27,223 [INFO] Analyzing words for concept <father>.\n",
      "2017-09-04 15:07:27,254 [INFO] Analyzing words for concept <feather>.\n",
      "SEQUENCE CLUSTERING:  23%|██▎       | 49/210 [00:00<00:02, 65.81it/s]2017-09-04 15:07:27,273 [INFO] Analyzing words for concept <fire>.\n",
      "2017-09-04 15:07:27,282 [INFO] Analyzing words for concept <fish>.\n",
      "2017-09-04 15:07:27,295 [INFO] Analyzing words for concept <flower>.\n",
      "2017-09-04 15:07:27,307 [INFO] Analyzing words for concept <fog>.\n",
      "2017-09-04 15:07:27,321 [INFO] Analyzing words for concept <fruit>.\n",
      "2017-09-04 15:07:27,329 [INFO] Analyzing words for concept <good>.\n",
      "2017-09-04 15:07:27,362 [INFO] Analyzing words for concept <grass>.\n",
      "SEQUENCE CLUSTERING:  27%|██▋       | 56/210 [00:00<00:02, 66.75it/s]2017-09-04 15:07:27,375 [INFO] Analyzing words for concept <green>.\n",
      "2017-09-04 15:07:27,392 [INFO] Analyzing words for concept <hair>.\n",
      "2017-09-04 15:07:27,416 [INFO] Analyzing words for concept <hand>.\n",
      "2017-09-04 15:07:27,429 [INFO] Analyzing words for concept <he/she>.\n",
      "2017-09-04 15:07:27,440 [INFO] Analyzing words for concept <head>.\n",
      "2017-09-04 15:07:27,461 [INFO] Analyzing words for concept <heavy>.\n",
      "2017-09-04 15:07:27,484 [INFO] Analyzing words for concept <house>.\n",
      "SEQUENCE CLUSTERING:  30%|███       | 63/210 [00:00<00:02, 63.40it/s]2017-09-04 15:07:27,499 [INFO] Analyzing words for concept <how?>.\n",
      "2017-09-04 15:07:27,511 [INFO] Analyzing words for concept <husband>.\n",
      "2017-09-04 15:07:27,523 [INFO] Analyzing words for concept <if>.\n",
      "2017-09-04 15:07:27,531 [INFO] Analyzing words for concept <in, inside>.\n",
      "2017-09-04 15:07:27,547 [INFO] Analyzing words for concept <intestines>.\n",
      "2017-09-04 15:07:27,560 [INFO] Analyzing words for concept <lake>.\n",
      "2017-09-04 15:07:27,568 [INFO] Analyzing words for concept <leaf>.\n",
      "2017-09-04 15:07:27,579 [INFO] Analyzing words for concept <left>.\n",
      "2017-09-04 15:07:27,590 [INFO] Analyzing words for concept <leg/foot>.\n",
      "SEQUENCE CLUSTERING:  34%|███▍      | 72/210 [00:00<00:02, 68.62it/s]2017-09-04 15:07:27,603 [INFO] Analyzing words for concept <lightning>.\n",
      "2017-09-04 15:07:27,615 [INFO] Analyzing words for concept <liver>.\n",
      "2017-09-04 15:07:27,629 [INFO] Analyzing words for concept <long>.\n",
      "2017-09-04 15:07:27,637 [INFO] Analyzing words for concept <louse>.\n",
      "2017-09-04 15:07:27,650 [INFO] Analyzing words for concept <man/male>.\n",
      "2017-09-04 15:07:27,679 [INFO] Analyzing words for concept <meat/flesh>.\n",
      "2017-09-04 15:07:27,691 [INFO] Analyzing words for concept <moon>.\n",
      "SEQUENCE CLUSTERING:  38%|███▊      | 79/210 [00:01<00:01, 67.90it/s]2017-09-04 15:07:27,709 [INFO] Analyzing words for concept <mosquito>.\n",
      "2017-09-04 15:07:27,722 [INFO] Analyzing words for concept <mother>.\n",
      "2017-09-04 15:07:27,748 [INFO] Analyzing words for concept <mouth>.\n",
      "2017-09-04 15:07:27,763 [INFO] Analyzing words for concept <name>.\n",
      "2017-09-04 15:07:27,772 [INFO] Analyzing words for concept <narrow>.\n",
      "2017-09-04 15:07:27,789 [INFO] Analyzing words for concept <near>.\n",
      "2017-09-04 15:07:27,801 [INFO] Analyzing words for concept <neck>.\n",
      "SEQUENCE CLUSTERING:  41%|████      | 86/210 [00:01<00:01, 67.89it/s]2017-09-04 15:07:27,812 [INFO] Analyzing words for concept <needle>.\n",
      "2017-09-04 15:07:27,823 [INFO] Analyzing words for concept <new>.\n",
      "2017-09-04 15:07:27,832 [INFO] Analyzing words for concept <night>.\n",
      "2017-09-04 15:07:27,840 [INFO] Analyzing words for concept <no, not>.\n",
      "2017-09-04 15:07:27,857 [INFO] Analyzing words for concept <nose>.\n",
      "2017-09-04 15:07:27,866 [INFO] Analyzing words for concept <old>.\n",
      "2017-09-04 15:07:27,891 [INFO] Analyzing words for concept <other>.\n",
      "2017-09-04 15:07:27,895 [INFO] Analyzing words for concept <painful, sick>.\n",
      "SEQUENCE CLUSTERING:  45%|████▍     | 94/210 [00:01<00:01, 70.12it/s]2017-09-04 15:07:27,918 [INFO] Analyzing words for concept <person/human being>.\n",
      "2017-09-04 15:07:27,936 [INFO] Analyzing words for concept <rain>.\n",
      "2017-09-04 15:07:27,941 [INFO] Analyzing words for concept <rat>.\n",
      "2017-09-04 15:07:27,955 [INFO] Analyzing words for concept <red>.\n",
      "2017-09-04 15:07:27,973 [INFO] Analyzing words for concept <right>.\n",
      "2017-09-04 15:07:27,987 [INFO] Analyzing words for concept <road/path>.\n",
      "2017-09-04 15:07:28,002 [INFO] Analyzing words for concept <root>.\n",
      "2017-09-04 15:07:28,012 [INFO] Analyzing words for concept <rope>.\n"
     ]
    },
    {
     "name": "stderr",
     "output_type": "stream",
     "text": [
      "SEQUENCE CLUSTERING:  49%|████▊     | 102/210 [00:01<00:01, 70.79it/s]2017-09-04 15:07:28,028 [INFO] Analyzing words for concept <rotten>.\n",
      "2017-09-04 15:07:28,047 [INFO] Analyzing words for concept <salt>.\n",
      "2017-09-04 15:07:28,061 [INFO] Analyzing words for concept <sand>.\n",
      "2017-09-04 15:07:28,068 [INFO] Analyzing words for concept <sea>.\n",
      "2017-09-04 15:07:28,098 [INFO] Analyzing words for concept <sharp>.\n",
      "2017-09-04 15:07:28,107 [INFO] Analyzing words for concept <short>.\n",
      "2017-09-04 15:07:28,121 [INFO] Analyzing words for concept <shoulder>.\n",
      "2017-09-04 15:07:28,133 [INFO] Analyzing words for concept <shy, ashamed>.\n",
      "SEQUENCE CLUSTERING:  52%|█████▏    | 110/210 [00:01<00:01, 70.59it/s]2017-09-04 15:07:28,143 [INFO] Analyzing words for concept <skin>.\n",
      "2017-09-04 15:07:28,152 [INFO] Analyzing words for concept <sky>.\n",
      "2017-09-04 15:07:28,162 [INFO] Analyzing words for concept <small>.\n",
      "2017-09-04 15:07:28,186 [INFO] Analyzing words for concept <smoke>.\n",
      "2017-09-04 15:07:28,198 [INFO] Analyzing words for concept <snake>.\n",
      "2017-09-04 15:07:28,204 [INFO] Analyzing words for concept <spider>.\n",
      "2017-09-04 15:07:28,225 [INFO] Analyzing words for concept <star>.\n",
      "2017-09-04 15:07:28,237 [INFO] Analyzing words for concept <stick/wood>.\n",
      "SEQUENCE CLUSTERING:  56%|█████▌    | 118/210 [00:01<00:01, 72.32it/s]2017-09-04 15:07:28,246 [INFO] Analyzing words for concept <stone>.\n",
      "2017-09-04 15:07:28,267 [INFO] Analyzing words for concept <tail>.\n",
      "2017-09-04 15:07:28,291 [INFO] Analyzing words for concept <that>.\n",
      "2017-09-04 15:07:28,297 [INFO] Analyzing words for concept <thatch/roof>.\n",
      "2017-09-04 15:07:28,316 [INFO] Analyzing words for concept <they>.\n",
      "2017-09-04 15:07:28,344 [INFO] Analyzing words for concept <thick>.\n",
      "2017-09-04 15:07:28,364 [INFO] Analyzing words for concept <thin>.\n",
      "2017-09-04 15:07:28,384 [INFO] Analyzing words for concept <this>.\n",
      "SEQUENCE CLUSTERING:  60%|██████    | 126/210 [00:01<00:01, 65.60it/s]2017-09-04 15:07:28,395 [INFO] Analyzing words for concept <thou>.\n",
      "2017-09-04 15:07:28,404 [INFO] Analyzing words for concept <thunder>.\n",
      "2017-09-04 15:07:28,421 [INFO] Analyzing words for concept <to bite>.\n",
      "2017-09-04 15:07:28,432 [INFO] Analyzing words for concept <to blow>.\n",
      "2017-09-04 15:07:28,464 [INFO] Analyzing words for concept <to breathe>.\n",
      "2017-09-04 15:07:28,489 [INFO] Analyzing words for concept <to burn>.\n",
      "2017-09-04 15:07:28,517 [INFO] Analyzing words for concept <to buy>.\n",
      "SEQUENCE CLUSTERING:  63%|██████▎   | 133/210 [00:01<00:01, 60.83it/s]2017-09-04 15:07:28,529 [INFO] Analyzing words for concept <to chew>.\n",
      "2017-09-04 15:07:28,543 [INFO] Analyzing words for concept <to choose>.\n",
      "2017-09-04 15:07:28,553 [INFO] Analyzing words for concept <to climb>.\n",
      "2017-09-04 15:07:28,563 [INFO] Analyzing words for concept <to come>.\n",
      "2017-09-04 15:07:28,587 [INFO] Analyzing words for concept <to cook>.\n",
      "2017-09-04 15:07:28,602 [INFO] Analyzing words for concept <to count>.\n",
      "2017-09-04 15:07:28,611 [INFO] Analyzing words for concept <to cry>.\n",
      "2017-09-04 15:07:28,624 [INFO] Analyzing words for concept <to cut, hack>.\n",
      "SEQUENCE CLUSTERING:  67%|██████▋   | 141/210 [00:02<00:01, 60.72it/s]2017-09-04 15:07:28,664 [INFO] Analyzing words for concept <to die, be dead>.\n",
      "2017-09-04 15:07:28,678 [INFO] Analyzing words for concept <to dig>.\n",
      "2017-09-04 15:07:28,695 [INFO] Analyzing words for concept <to dream>.\n",
      "2017-09-04 15:07:28,722 [INFO] Analyzing words for concept <to drink>.\n",
      "2017-09-04 15:07:28,729 [INFO] Analyzing words for concept <to eat>.\n",
      "2017-09-04 15:07:28,737 [INFO] Analyzing words for concept <to fall>.\n",
      "2017-09-04 15:07:28,793 [INFO] Analyzing words for concept <to fear>.\n",
      "SEQUENCE CLUSTERING:  70%|███████   | 148/210 [00:02<00:01, 54.53it/s]2017-09-04 15:07:28,821 [INFO] Analyzing words for concept <to flow>.\n",
      "2017-09-04 15:07:28,832 [INFO] Analyzing words for concept <to fly>.\n",
      "2017-09-04 15:07:28,844 [INFO] Analyzing words for concept <to grow>.\n",
      "2017-09-04 15:07:28,859 [INFO] Analyzing words for concept <to hear>.\n",
      "2017-09-04 15:07:28,874 [INFO] Analyzing words for concept <to hide>.\n",
      "2017-09-04 15:07:28,884 [INFO] Analyzing words for concept <to hit>.\n",
      "2017-09-04 15:07:28,918 [INFO] Analyzing words for concept <to hold>.\n",
      "SEQUENCE CLUSTERING:  74%|███████▍  | 155/210 [00:02<00:00, 56.12it/s]2017-09-04 15:07:28,937 [INFO] Analyzing words for concept <to hunt>.\n",
      "2017-09-04 15:07:28,949 [INFO] Analyzing words for concept <to kill>.\n",
      "2017-09-04 15:07:28,970 [INFO] Analyzing words for concept <to know, be knowledgeable>.\n",
      "2017-09-04 15:07:28,984 [INFO] Analyzing words for concept <to laugh>.\n",
      "2017-09-04 15:07:28,993 [INFO] Analyzing words for concept <to lie down>.\n",
      "2017-09-04 15:07:29,013 [INFO] Analyzing words for concept <to live, be alive>.\n",
      "2017-09-04 15:07:29,022 [INFO] Analyzing words for concept <to open, uncover>.\n",
      "SEQUENCE CLUSTERING:  77%|███████▋  | 162/210 [00:02<00:00, 58.92it/s]2017-09-04 15:07:29,042 [INFO] Analyzing words for concept <to plant>.\n",
      "2017-09-04 15:07:29,051 [INFO] Analyzing words for concept <to pound, beat>.\n",
      "2017-09-04 15:07:29,061 [INFO] Analyzing words for concept <to say>.\n",
      "2017-09-04 15:07:29,075 [INFO] Analyzing words for concept <to scratch>.\n",
      "2017-09-04 15:07:29,092 [INFO] Analyzing words for concept <to see>.\n",
      "2017-09-04 15:07:29,101 [INFO] Analyzing words for concept <to sew>.\n",
      "2017-09-04 15:07:29,117 [INFO] Analyzing words for concept <to shoot>.\n",
      "2017-09-04 15:07:29,124 [INFO] Analyzing words for concept <to sit>.\n",
      "2017-09-04 15:07:29,136 [INFO] Analyzing words for concept <to sleep>.\n",
      "SEQUENCE CLUSTERING:  81%|████████▏ | 171/210 [00:02<00:00, 65.30it/s]2017-09-04 15:07:29,144 [INFO] Analyzing words for concept <to sniff, smell>.\n",
      "2017-09-04 15:07:29,158 [INFO] Analyzing words for concept <to spit>.\n",
      "2017-09-04 15:07:29,173 [INFO] Analyzing words for concept <to split>.\n",
      "2017-09-04 15:07:29,195 [INFO] Analyzing words for concept <to squeeze>.\n",
      "2017-09-04 15:07:29,212 [INFO] Analyzing words for concept <to stab, pierce>.\n",
      "2017-09-04 15:07:29,232 [INFO] Analyzing words for concept <to stand>.\n",
      "2017-09-04 15:07:29,240 [INFO] Analyzing words for concept <to steal>.\n",
      "SEQUENCE CLUSTERING:  85%|████████▍ | 178/210 [00:02<00:00, 65.14it/s]2017-09-04 15:07:29,253 [INFO] Analyzing words for concept <to suck>.\n",
      "2017-09-04 15:07:29,269 [INFO] Analyzing words for concept <to swell>.\n",
      "2017-09-04 15:07:29,281 [INFO] Analyzing words for concept <to swim>.\n",
      "2017-09-04 15:07:29,288 [INFO] Analyzing words for concept <to think>.\n",
      "2017-09-04 15:07:29,302 [INFO] Analyzing words for concept <to throw>.\n",
      "2017-09-04 15:07:29,321 [INFO] Analyzing words for concept <to tie up, fasten>.\n",
      "2017-09-04 15:07:29,345 [INFO] Analyzing words for concept <to turn>.\n",
      "SEQUENCE CLUSTERING:  88%|████████▊ | 185/210 [00:02<00:00, 65.16it/s]2017-09-04 15:07:29,360 [INFO] Analyzing words for concept <to vomit>.\n",
      "2017-09-04 15:07:29,369 [INFO] Analyzing words for concept <to walk>.\n",
      "2017-09-04 15:07:29,392 [INFO] Analyzing words for concept <to work>.\n",
      "2017-09-04 15:07:29,401 [INFO] Analyzing words for concept <to yawn>.\n",
      "2017-09-04 15:07:29,414 [INFO] Analyzing words for concept <tongue>.\n",
      "2017-09-04 15:07:29,424 [INFO] Analyzing words for concept <tooth>.\n",
      "2017-09-04 15:07:29,432 [INFO] Analyzing words for concept <warm>.\n",
      "2017-09-04 15:07:29,459 [INFO] Analyzing words for concept <water>.\n",
      "SEQUENCE CLUSTERING:  92%|█████████▏| 193/210 [00:02<00:00, 67.75it/s]2017-09-04 15:07:29,467 [INFO] Analyzing words for concept <we>.\n",
      "2017-09-04 15:07:29,574 [INFO] Analyzing words for concept <wet>.\n",
      "2017-09-04 15:07:29,589 [INFO] Analyzing words for concept <what?>.\n",
      "2017-09-04 15:07:29,597 [INFO] Analyzing words for concept <when?>.\n",
      "2017-09-04 15:07:29,607 [INFO] Analyzing words for concept <where?>.\n",
      "2017-09-04 15:07:29,615 [INFO] Analyzing words for concept <white>.\n",
      "2017-09-04 15:07:29,630 [INFO] Analyzing words for concept <who?>.\n",
      "SEQUENCE CLUSTERING:  95%|█████████▌| 200/210 [00:03<00:00, 56.60it/s]2017-09-04 15:07:29,638 [INFO] Analyzing words for concept <wide>.\n",
      "2017-09-04 15:07:29,648 [INFO] Analyzing words for concept <wife>.\n",
      "2017-09-04 15:07:29,661 [INFO] Analyzing words for concept <wind>.\n",
      "2017-09-04 15:07:29,680 [INFO] Analyzing words for concept <wing>.\n",
      "2017-09-04 15:07:29,695 [INFO] Analyzing words for concept <woman/female>.\n"
     ]
    },
    {
     "name": "stderr",
     "output_type": "stream",
     "text": [
      "2017-09-04 15:07:29,718 [INFO] Analyzing words for concept <woods/forest>.\n",
      "2017-09-04 15:07:29,729 [INFO] Analyzing words for concept <worm (earthworm)>.\n",
      "2017-09-04 15:07:29,737 [INFO] Analyzing words for concept <year>.\n",
      "SEQUENCE CLUSTERING:  99%|█████████▉| 208/210 [00:03<00:00, 59.89it/s]2017-09-04 15:07:29,754 [INFO] Analyzing words for concept <yellow>.\n",
      "2017-09-04 15:07:29,767 [INFO] Analyzing words for concept <you>.\n",
      "                                                                      "
     ]
    },
    {
     "name": "stdout",
     "output_type": "stream",
     "text": [
      "Maori_85             \t waru \t3 \t 3 \t 1\n",
      "Austral_128          \t vaʔu \t2 \t 3 \t 1\n",
      "Mangareva_239        \t varu \t3 \t 3 \t 1\n",
      "Austral_1213         \t vaGu \t1 \t 3 \t 1\n",
      "Hawaiian_52          \t walu \t3 \t 3 \t 1\n",
      "NorthMarquesan_38    \t va'u \t2 \t 3 \t 1\n",
      "Tuamotuan_246        \t varu \t3 \t 3 \t 1\n",
      "Rapanui_264          \t va'u \t2 \t 3 \t 1\n",
      "Sikaiana_243         \t valu \t3 \t 3 \t 1\n",
      "Tahitian_173         \t va'u \t2 \t 3 \t 1\n"
     ]
    },
    {
     "name": "stderr",
     "output_type": "stream",
     "text": [
      "\r"
     ]
    }
   ],
   "source": [
    "lex.get_scorer(runs=10000)\n",
    "lex.output('tsv', filename='east-polynesian.bin', ignore=[])\n",
    "lex.cluster(method='lexstat', threshold=0.60)\n",
    "\n",
    "for k, v in eight.items():\n",
    "    idx = v[0] \n",
    "    print(\"{0:20} \\t {1} \\t{2} \\t {3} \\t {4}\".format(\n",
    "        lex[idx, 'doculect'], \n",
    "        lex[idx, 'value'], \n",
    "        lex[idx, 'turchinid'], \n",
    "        lex[idx, 'scaid'],\n",
    "        lex[idx, 'lexstatid']\n",
    "    ))"
   ]
  },
  {
   "cell_type": "markdown",
   "metadata": {},
   "source": [
    "You can see that there is not much difference in the results for this very item, but you should not underestimate the different power of the methods, as we will see later on when running an evaluation analysis. For now, trust me that in general the results are quite different.\n",
    "\n",
    "Let us now run (for those who managed to install the python-igraph package) an additional analysis which was shown to yield even better results. Here, we do still use the \"lexstat\" approach, but we use \"infomap\" ([Rosvall and Bergstroem 2008](:ref:Rosvall2008)) as our cluster method. This method is network-based rather than agglomerative (as is LingPy's default), and was shown to yield consistently better results in combination with \"lexstat\" ([List, Greenhill, and Gray 2017](:ref:List2017c)). In order to avoid that we override the content of the column \"lexstatid\", we now pass a specific keyword, called `ref` (the \"reference\" of the output) and set its value to \"infomap\". We also choose a different threshold, the one we empirically determined from tests on different language families (see ibd. for details, (```$ python3 autocogs.py cognates-infomap``` in command line):"
   ]
  },
  {
   "cell_type": "code",
   "execution_count": 18,
   "metadata": {},
   "outputs": [
    {
     "name": "stderr",
     "output_type": "stream",
     "text": [
      "SEQUENCE CLUSTERING:   0%|          | 0/210 [00:00<?, ?it/s]2017-09-04 15:07:29,820 [INFO] Analyzing words for concept <Eight>.\n",
      "2017-09-04 15:07:29,830 [INFO] Analyzing words for concept <Fifty>.\n",
      "2017-09-04 15:07:29,838 [INFO] Analyzing words for concept <Five>.\n",
      "2017-09-04 15:07:29,847 [INFO] Analyzing words for concept <Four>.\n",
      "2017-09-04 15:07:29,854 [INFO] Analyzing words for concept <I>.\n",
      "2017-09-04 15:07:29,865 [INFO] Analyzing words for concept <Nine>.\n",
      "2017-09-04 15:07:29,872 [INFO] Analyzing words for concept <One>.\n",
      "2017-09-04 15:07:29,883 [INFO] Analyzing words for concept <One Hundred>.\n",
      "2017-09-04 15:07:29,892 [INFO] Analyzing words for concept <One Thousand>.\n",
      "2017-09-04 15:07:29,908 [INFO] Analyzing words for concept <Seven>.\n",
      "2017-09-04 15:07:29,916 [INFO] Analyzing words for concept <Six>.\n",
      "SEQUENCE CLUSTERING:   5%|▌         | 11/210 [00:00<00:01, 106.53it/s]2017-09-04 15:07:29,925 [INFO] Analyzing words for concept <Ten>.\n",
      "2017-09-04 15:07:29,952 [INFO] Analyzing words for concept <Three>.\n",
      "2017-09-04 15:07:29,961 [INFO] Analyzing words for concept <Twenty>.\n",
      "2017-09-04 15:07:29,973 [INFO] Analyzing words for concept <Two>.\n",
      "2017-09-04 15:07:29,982 [INFO] Analyzing words for concept <above>.\n",
      "2017-09-04 15:07:29,990 [INFO] Analyzing words for concept <all>.\n",
      "2017-09-04 15:07:30,001 [INFO] Analyzing words for concept <and>.\n",
      "2017-09-04 15:07:30,012 [INFO] Analyzing words for concept <ash>.\n",
      "SEQUENCE CLUSTERING:   9%|▉         | 19/210 [00:00<00:01, 96.08it/s] 2017-09-04 15:07:30,027 [INFO] Analyzing words for concept <at>.\n",
      "2017-09-04 15:07:30,035 [INFO] Analyzing words for concept <back>.\n",
      "2017-09-04 15:07:30,045 [INFO] Analyzing words for concept <bad, evil>.\n",
      "2017-09-04 15:07:30,060 [INFO] Analyzing words for concept <belly>.\n",
      "2017-09-04 15:07:30,083 [INFO] Analyzing words for concept <below>.\n",
      "2017-09-04 15:07:30,093 [INFO] Analyzing words for concept <big>.\n",
      "2017-09-04 15:07:30,105 [INFO] Analyzing words for concept <bird>.\n",
      "2017-09-04 15:07:30,114 [INFO] Analyzing words for concept <black>.\n",
      "SEQUENCE CLUSTERING:  13%|█▎        | 27/210 [00:00<00:02, 88.17it/s]2017-09-04 15:07:30,136 [INFO] Analyzing words for concept <blood>.\n",
      "2017-09-04 15:07:30,145 [INFO] Analyzing words for concept <bone>.\n",
      "2017-09-04 15:07:30,152 [INFO] Analyzing words for concept <branch>.\n",
      "2017-09-04 15:07:30,162 [INFO] Analyzing words for concept <breast>.\n",
      "2017-09-04 15:07:30,173 [INFO] Analyzing words for concept <child>.\n",
      "2017-09-04 15:07:30,196 [INFO] Analyzing words for concept <cloud>.\n",
      "2017-09-04 15:07:30,208 [INFO] Analyzing words for concept <cold>.\n",
      "SEQUENCE CLUSTERING:  16%|█▌        | 34/210 [00:00<00:02, 79.79it/s]2017-09-04 15:07:30,245 [INFO] Analyzing words for concept <correct, true>.\n",
      "2017-09-04 15:07:30,273 [INFO] Analyzing words for concept <day>.\n",
      "2017-09-04 15:07:30,287 [INFO] Analyzing words for concept <dirty>.\n",
      "2017-09-04 15:07:30,304 [INFO] Analyzing words for concept <dog>.\n",
      "2017-09-04 15:07:30,321 [INFO] Analyzing words for concept <dry>.\n",
      "2017-09-04 15:07:30,336 [INFO] Analyzing words for concept <dull, blunt>.\n",
      "SEQUENCE CLUSTERING:  19%|█▉        | 40/210 [00:00<00:02, 70.07it/s]2017-09-04 15:07:30,355 [INFO] Analyzing words for concept <dust>.\n",
      "2017-09-04 15:07:30,379 [INFO] Analyzing words for concept <ear>.\n",
      "2017-09-04 15:07:30,391 [INFO] Analyzing words for concept <earth/soil>.\n",
      "2017-09-04 15:07:30,410 [INFO] Analyzing words for concept <egg>.\n",
      "2017-09-04 15:07:30,428 [INFO] Analyzing words for concept <eye>.\n",
      "2017-09-04 15:07:30,440 [INFO] Analyzing words for concept <far>.\n",
      "2017-09-04 15:07:30,450 [INFO] Analyzing words for concept <fat/grease>.\n",
      "SEQUENCE CLUSTERING:  22%|██▏       | 47/210 [00:00<00:02, 66.77it/s]2017-09-04 15:07:30,469 [INFO] Analyzing words for concept <father>.\n",
      "2017-09-04 15:07:30,500 [INFO] Analyzing words for concept <feather>.\n",
      "2017-09-04 15:07:30,518 [INFO] Analyzing words for concept <fire>.\n",
      "2017-09-04 15:07:30,527 [INFO] Analyzing words for concept <fish>.\n",
      "2017-09-04 15:07:30,540 [INFO] Analyzing words for concept <flower>.\n",
      "2017-09-04 15:07:30,551 [INFO] Analyzing words for concept <fog>.\n",
      "2017-09-04 15:07:30,564 [INFO] Analyzing words for concept <fruit>.\n",
      "SEQUENCE CLUSTERING:  26%|██▌       | 54/210 [00:00<00:02, 67.24it/s]2017-09-04 15:07:30,572 [INFO] Analyzing words for concept <good>.\n",
      "2017-09-04 15:07:30,605 [INFO] Analyzing words for concept <grass>.\n",
      "2017-09-04 15:07:30,614 [INFO] Analyzing words for concept <green>.\n",
      "2017-09-04 15:07:30,631 [INFO] Analyzing words for concept <hair>.\n",
      "2017-09-04 15:07:30,654 [INFO] Analyzing words for concept <hand>.\n",
      "2017-09-04 15:07:30,666 [INFO] Analyzing words for concept <he/she>.\n",
      "2017-09-04 15:07:30,676 [INFO] Analyzing words for concept <head>.\n",
      "SEQUENCE CLUSTERING:  29%|██▉       | 61/210 [00:00<00:02, 63.55it/s]2017-09-04 15:07:30,696 [INFO] Analyzing words for concept <heavy>.\n",
      "2017-09-04 15:07:30,718 [INFO] Analyzing words for concept <house>.\n",
      "2017-09-04 15:07:30,730 [INFO] Analyzing words for concept <how?>.\n",
      "2017-09-04 15:07:30,743 [INFO] Analyzing words for concept <husband>.\n",
      "2017-09-04 15:07:30,755 [INFO] Analyzing words for concept <if>.\n",
      "2017-09-04 15:07:30,765 [INFO] Analyzing words for concept <in, inside>.\n",
      "2017-09-04 15:07:30,782 [INFO] Analyzing words for concept <intestines>.\n",
      "SEQUENCE CLUSTERING:  32%|███▏      | 68/210 [00:00<00:02, 65.10it/s]2017-09-04 15:07:30,798 [INFO] Analyzing words for concept <lake>.\n",
      "2017-09-04 15:07:30,808 [INFO] Analyzing words for concept <leaf>.\n",
      "2017-09-04 15:07:30,821 [INFO] Analyzing words for concept <left>.\n",
      "2017-09-04 15:07:30,833 [INFO] Analyzing words for concept <leg/foot>.\n",
      "2017-09-04 15:07:30,848 [INFO] Analyzing words for concept <lightning>.\n",
      "2017-09-04 15:07:30,861 [INFO] Analyzing words for concept <liver>.\n",
      "2017-09-04 15:07:30,878 [INFO] Analyzing words for concept <long>.\n",
      "2017-09-04 15:07:30,887 [INFO] Analyzing words for concept <louse>.\n",
      "SEQUENCE CLUSTERING:  36%|███▌      | 76/210 [00:01<00:01, 68.02it/s]2017-09-04 15:07:30,905 [INFO] Analyzing words for concept <man/male>.\n",
      "2017-09-04 15:07:30,934 [INFO] Analyzing words for concept <meat/flesh>.\n",
      "2017-09-04 15:07:30,947 [INFO] Analyzing words for concept <moon>.\n",
      "2017-09-04 15:07:30,965 [INFO] Analyzing words for concept <mosquito>.\n",
      "2017-09-04 15:07:30,981 [INFO] Analyzing words for concept <mother>.\n",
      "2017-09-04 15:07:31,011 [INFO] Analyzing words for concept <mouth>.\n",
      "2017-09-04 15:07:31,028 [INFO] Analyzing words for concept <name>.\n",
      "SEQUENCE CLUSTERING:  40%|███▉      | 83/210 [00:01<00:02, 61.82it/s]2017-09-04 15:07:31,041 [INFO] Analyzing words for concept <narrow>.\n",
      "2017-09-04 15:07:31,060 [INFO] Analyzing words for concept <near>.\n",
      "2017-09-04 15:07:31,074 [INFO] Analyzing words for concept <neck>.\n",
      "2017-09-04 15:07:31,086 [INFO] Analyzing words for concept <needle>.\n",
      "2017-09-04 15:07:31,099 [INFO] Analyzing words for concept <new>.\n",
      "2017-09-04 15:07:31,109 [INFO] Analyzing words for concept <night>.\n",
      "2017-09-04 15:07:31,118 [INFO] Analyzing words for concept <no, not>.\n",
      "2017-09-04 15:07:31,136 [INFO] Analyzing words for concept <nose>.\n",
      "SEQUENCE CLUSTERING:  43%|████▎     | 91/210 [00:01<00:01, 65.05it/s]2017-09-04 15:07:31,149 [INFO] Analyzing words for concept <old>.\n",
      "2017-09-04 15:07:31,174 [INFO] Analyzing words for concept <other>.\n",
      "2017-09-04 15:07:31,179 [INFO] Analyzing words for concept <painful, sick>.\n",
      "2017-09-04 15:07:31,203 [INFO] Analyzing words for concept <person/human being>.\n",
      "2017-09-04 15:07:31,224 [INFO] Analyzing words for concept <rain>.\n",
      "2017-09-04 15:07:31,233 [INFO] Analyzing words for concept <rat>.\n",
      "2017-09-04 15:07:31,249 [INFO] Analyzing words for concept <red>.\n",
      "SEQUENCE CLUSTERING:  47%|████▋     | 98/210 [00:01<00:01, 62.70it/s]2017-09-04 15:07:31,269 [INFO] Analyzing words for concept <right>.\n",
      "2017-09-04 15:07:31,284 [INFO] Analyzing words for concept <road/path>.\n",
      "2017-09-04 15:07:31,300 [INFO] Analyzing words for concept <root>.\n",
      "2017-09-04 15:07:31,309 [INFO] Analyzing words for concept <rope>.\n",
      "2017-09-04 15:07:31,325 [INFO] Analyzing words for concept <rotten>.\n",
      "2017-09-04 15:07:31,344 [INFO] Analyzing words for concept <salt>.\n",
      "2017-09-04 15:07:31,359 [INFO] Analyzing words for concept <sand>.\n",
      "2017-09-04 15:07:31,366 [INFO] Analyzing words for concept <sea>.\n"
     ]
    },
    {
     "name": "stderr",
     "output_type": "stream",
     "text": [
      "SEQUENCE CLUSTERING:  50%|█████     | 106/210 [00:01<00:01, 62.86it/s]2017-09-04 15:07:31,396 [INFO] Analyzing words for concept <sharp>.\n",
      "2017-09-04 15:07:31,405 [INFO] Analyzing words for concept <short>.\n",
      "2017-09-04 15:07:31,421 [INFO] Analyzing words for concept <shoulder>.\n",
      "2017-09-04 15:07:31,435 [INFO] Analyzing words for concept <shy, ashamed>.\n",
      "2017-09-04 15:07:31,444 [INFO] Analyzing words for concept <skin>.\n",
      "2017-09-04 15:07:31,454 [INFO] Analyzing words for concept <sky>.\n",
      "2017-09-04 15:07:31,464 [INFO] Analyzing words for concept <small>.\n",
      "2017-09-04 15:07:31,487 [INFO] Analyzing words for concept <smoke>.\n",
      "SEQUENCE CLUSTERING:  54%|█████▍    | 114/210 [00:01<00:01, 66.41it/s]2017-09-04 15:07:31,500 [INFO] Analyzing words for concept <snake>.\n",
      "2017-09-04 15:07:31,505 [INFO] Analyzing words for concept <spider>.\n",
      "2017-09-04 15:07:31,528 [INFO] Analyzing words for concept <star>.\n",
      "2017-09-04 15:07:31,540 [INFO] Analyzing words for concept <stick/wood>.\n",
      "2017-09-04 15:07:31,549 [INFO] Analyzing words for concept <stone>.\n",
      "2017-09-04 15:07:31,571 [INFO] Analyzing words for concept <tail>.\n",
      "2017-09-04 15:07:31,596 [INFO] Analyzing words for concept <that>.\n",
      "SEQUENCE CLUSTERING:  58%|█████▊    | 121/210 [00:01<00:01, 66.70it/s]2017-09-04 15:07:31,604 [INFO] Analyzing words for concept <thatch/roof>.\n",
      "2017-09-04 15:07:31,622 [INFO] Analyzing words for concept <they>.\n",
      "2017-09-04 15:07:31,647 [INFO] Analyzing words for concept <thick>.\n",
      "2017-09-04 15:07:31,665 [INFO] Analyzing words for concept <thin>.\n",
      "2017-09-04 15:07:31,685 [INFO] Analyzing words for concept <this>.\n",
      "2017-09-04 15:07:31,695 [INFO] Analyzing words for concept <thou>.\n",
      "2017-09-04 15:07:31,704 [INFO] Analyzing words for concept <thunder>.\n",
      "SEQUENCE CLUSTERING:  61%|██████    | 128/210 [00:01<00:01, 64.21it/s]2017-09-04 15:07:31,722 [INFO] Analyzing words for concept <to bite>.\n",
      "2017-09-04 15:07:31,733 [INFO] Analyzing words for concept <to blow>.\n",
      "2017-09-04 15:07:31,761 [INFO] Analyzing words for concept <to breathe>.\n",
      "2017-09-04 15:07:31,784 [INFO] Analyzing words for concept <to burn>.\n",
      "2017-09-04 15:07:31,809 [INFO] Analyzing words for concept <to buy>.\n",
      "2017-09-04 15:07:31,820 [INFO] Analyzing words for concept <to chew>.\n",
      "2017-09-04 15:07:31,835 [INFO] Analyzing words for concept <to choose>.\n",
      "SEQUENCE CLUSTERING:  64%|██████▍   | 135/210 [00:02<00:01, 61.70it/s]2017-09-04 15:07:31,846 [INFO] Analyzing words for concept <to climb>.\n",
      "2017-09-04 15:07:31,855 [INFO] Analyzing words for concept <to come>.\n",
      "2017-09-04 15:07:31,878 [INFO] Analyzing words for concept <to cook>.\n",
      "2017-09-04 15:07:31,892 [INFO] Analyzing words for concept <to count>.\n",
      "2017-09-04 15:07:31,901 [INFO] Analyzing words for concept <to cry>.\n",
      "2017-09-04 15:07:31,913 [INFO] Analyzing words for concept <to cut, hack>.\n",
      "2017-09-04 15:07:31,950 [INFO] Analyzing words for concept <to die, be dead>.\n",
      "SEQUENCE CLUSTERING:  68%|██████▊   | 142/210 [00:02<00:01, 61.04it/s]2017-09-04 15:07:31,964 [INFO] Analyzing words for concept <to dig>.\n",
      "2017-09-04 15:07:31,980 [INFO] Analyzing words for concept <to dream>.\n",
      "2017-09-04 15:07:32,005 [INFO] Analyzing words for concept <to drink>.\n",
      "2017-09-04 15:07:32,012 [INFO] Analyzing words for concept <to eat>.\n",
      "2017-09-04 15:07:32,020 [INFO] Analyzing words for concept <to fall>.\n",
      "2017-09-04 15:07:32,068 [INFO] Analyzing words for concept <to fear>.\n",
      "2017-09-04 15:07:32,093 [INFO] Analyzing words for concept <to flow>.\n",
      "SEQUENCE CLUSTERING:  71%|███████   | 149/210 [00:02<00:01, 57.42it/s]2017-09-04 15:07:32,103 [INFO] Analyzing words for concept <to fly>.\n",
      "2017-09-04 15:07:32,115 [INFO] Analyzing words for concept <to grow>.\n",
      "2017-09-04 15:07:32,130 [INFO] Analyzing words for concept <to hear>.\n",
      "2017-09-04 15:07:32,145 [INFO] Analyzing words for concept <to hide>.\n",
      "2017-09-04 15:07:32,155 [INFO] Analyzing words for concept <to hit>.\n",
      "2017-09-04 15:07:32,186 [INFO] Analyzing words for concept <to hold>.\n",
      "2017-09-04 15:07:32,201 [INFO] Analyzing words for concept <to hunt>.\n",
      "SEQUENCE CLUSTERING:  74%|███████▍  | 156/210 [00:02<00:00, 58.94it/s]2017-09-04 15:07:32,214 [INFO] Analyzing words for concept <to kill>.\n",
      "2017-09-04 15:07:32,234 [INFO] Analyzing words for concept <to know, be knowledgeable>.\n",
      "2017-09-04 15:07:32,247 [INFO] Analyzing words for concept <to laugh>.\n",
      "2017-09-04 15:07:32,256 [INFO] Analyzing words for concept <to lie down>.\n",
      "2017-09-04 15:07:32,274 [INFO] Analyzing words for concept <to live, be alive>.\n",
      "2017-09-04 15:07:32,282 [INFO] Analyzing words for concept <to open, uncover>.\n",
      "2017-09-04 15:07:32,301 [INFO] Analyzing words for concept <to plant>.\n",
      "2017-09-04 15:07:32,309 [INFO] Analyzing words for concept <to pound, beat>.\n",
      "SEQUENCE CLUSTERING:  78%|███████▊  | 164/210 [00:02<00:00, 63.05it/s]2017-09-04 15:07:32,320 [INFO] Analyzing words for concept <to say>.\n",
      "2017-09-04 15:07:32,334 [INFO] Analyzing words for concept <to scratch>.\n",
      "2017-09-04 15:07:32,351 [INFO] Analyzing words for concept <to see>.\n",
      "2017-09-04 15:07:32,360 [INFO] Analyzing words for concept <to sew>.\n",
      "2017-09-04 15:07:32,374 [INFO] Analyzing words for concept <to shoot>.\n",
      "2017-09-04 15:07:32,379 [INFO] Analyzing words for concept <to sit>.\n",
      "2017-09-04 15:07:32,391 [INFO] Analyzing words for concept <to sleep>.\n",
      "2017-09-04 15:07:32,400 [INFO] Analyzing words for concept <to sniff, smell>.\n",
      "2017-09-04 15:07:32,413 [INFO] Analyzing words for concept <to spit>.\n",
      "SEQUENCE CLUSTERING:  82%|████████▏ | 173/210 [00:02<00:00, 67.58it/s]2017-09-04 15:07:32,431 [INFO] Analyzing words for concept <to split>.\n",
      "2017-09-04 15:07:32,454 [INFO] Analyzing words for concept <to squeeze>.\n",
      "2017-09-04 15:07:32,473 [INFO] Analyzing words for concept <to stab, pierce>.\n",
      "2017-09-04 15:07:32,493 [INFO] Analyzing words for concept <to stand>.\n",
      "2017-09-04 15:07:32,501 [INFO] Analyzing words for concept <to steal>.\n",
      "2017-09-04 15:07:32,514 [INFO] Analyzing words for concept <to suck>.\n",
      "2017-09-04 15:07:32,531 [INFO] Analyzing words for concept <to swell>.\n",
      "SEQUENCE CLUSTERING:  86%|████████▌ | 180/210 [00:02<00:00, 65.68it/s]2017-09-04 15:07:32,544 [INFO] Analyzing words for concept <to swim>.\n",
      "2017-09-04 15:07:32,553 [INFO] Analyzing words for concept <to think>.\n",
      "2017-09-04 15:07:32,568 [INFO] Analyzing words for concept <to throw>.\n",
      "2017-09-04 15:07:32,587 [INFO] Analyzing words for concept <to tie up, fasten>.\n",
      "2017-09-04 15:07:32,611 [INFO] Analyzing words for concept <to turn>.\n",
      "2017-09-04 15:07:32,627 [INFO] Analyzing words for concept <to vomit>.\n",
      "2017-09-04 15:07:32,638 [INFO] Analyzing words for concept <to walk>.\n",
      "SEQUENCE CLUSTERING:  89%|████████▉ | 187/210 [00:02<00:00, 63.61it/s]2017-09-04 15:07:32,663 [INFO] Analyzing words for concept <to work>.\n",
      "2017-09-04 15:07:32,673 [INFO] Analyzing words for concept <to yawn>.\n",
      "2017-09-04 15:07:32,685 [INFO] Analyzing words for concept <tongue>.\n",
      "2017-09-04 15:07:32,697 [INFO] Analyzing words for concept <tooth>.\n",
      "2017-09-04 15:07:32,706 [INFO] Analyzing words for concept <warm>.\n",
      "2017-09-04 15:07:32,735 [INFO] Analyzing words for concept <water>.\n",
      "2017-09-04 15:07:32,744 [INFO] Analyzing words for concept <we>.\n",
      "SEQUENCE CLUSTERING:  92%|█████████▏| 194/210 [00:03<00:00, 53.54it/s]2017-09-04 15:07:32,845 [INFO] Analyzing words for concept <wet>.\n",
      "2017-09-04 15:07:32,862 [INFO] Analyzing words for concept <what?>.\n",
      "2017-09-04 15:07:32,869 [INFO] Analyzing words for concept <when?>.\n",
      "2017-09-04 15:07:32,881 [INFO] Analyzing words for concept <where?>.\n",
      "2017-09-04 15:07:32,890 [INFO] Analyzing words for concept <white>.\n",
      "2017-09-04 15:07:32,909 [INFO] Analyzing words for concept <who?>.\n",
      "2017-09-04 15:07:32,916 [INFO] Analyzing words for concept <wide>.\n",
      "2017-09-04 15:07:32,928 [INFO] Analyzing words for concept <wife>.\n",
      "SEQUENCE CLUSTERING:  96%|█████████▌| 202/210 [00:03<00:00, 59.33it/s]2017-09-04 15:07:32,943 [INFO] Analyzing words for concept <wind>.\n",
      "2017-09-04 15:07:32,964 [INFO] Analyzing words for concept <wing>.\n",
      "2017-09-04 15:07:32,982 [INFO] Analyzing words for concept <woman/female>.\n",
      "2017-09-04 15:07:33,009 [INFO] Analyzing words for concept <woods/forest>.\n",
      "2017-09-04 15:07:33,020 [INFO] Analyzing words for concept <worm (earthworm)>.\n",
      "2017-09-04 15:07:33,033 [INFO] Analyzing words for concept <year>.\n",
      "2017-09-04 15:07:33,052 [INFO] Analyzing words for concept <yellow>.\n"
     ]
    },
    {
     "name": "stderr",
     "output_type": "stream",
     "text": [
      "SEQUENCE CLUSTERING: 100%|█████████▉| 209/210 [00:03<00:00, 58.26it/s]2017-09-04 15:07:33,067 [INFO] Analyzing words for concept <you>.\n",
      "                                                                      "
     ]
    },
    {
     "name": "stdout",
     "output_type": "stream",
     "text": [
      "Maori_85             \t waru \t3 \t 3 \t 1 \t 1\n",
      "Austral_128          \t vaʔu \t2 \t 3 \t 1 \t 1\n",
      "Mangareva_239        \t varu \t3 \t 3 \t 1 \t 1\n",
      "Austral_1213         \t vaGu \t1 \t 3 \t 1 \t 1\n",
      "Hawaiian_52          \t walu \t3 \t 3 \t 1 \t 1\n",
      "NorthMarquesan_38    \t va'u \t2 \t 3 \t 1 \t 1\n",
      "Tuamotuan_246        \t varu \t3 \t 3 \t 1 \t 1\n",
      "Rapanui_264          \t va'u \t2 \t 3 \t 1 \t 1\n",
      "Sikaiana_243         \t valu \t3 \t 3 \t 1 \t 1\n",
      "Tahitian_173         \t va'u \t2 \t 3 \t 1 \t 1\n"
     ]
    },
    {
     "name": "stderr",
     "output_type": "stream",
     "text": [
      "\r"
     ]
    }
   ],
   "source": [
    "lex.cluster(method=\"lexstat\", threshold=0.55, ref=\"infomap\", cluster_method='infomap')\n",
    "for k, v in eight.items():\n",
    "    idx = v[0] \n",
    "    print(\"{0:20} \\t {1} \\t{2} \\t {3} \\t {4} \\t {5}\".format(\n",
    "        lex[idx, 'doculect'], \n",
    "        lex[idx, 'value'], \n",
    "        lex[idx, 'turchinid'], \n",
    "        lex[idx, 'scaid'],\n",
    "        lex[idx, 'lexstatid'],\n",
    "        lex[idx, 'infomap']\n",
    "    ))"
   ]
  },
  {
   "cell_type": "markdown",
   "metadata": {},
   "source": [
    "Well, no improvement for \"eight\", but we will see later in detail, and for now, we just write the data to file, this time in plain text, without the additional information, but with the additional columns with our analyses."
   ]
  },
  {
   "cell_type": "code",
   "execution_count": 19,
   "metadata": {},
   "outputs": [
    {
     "name": "stderr",
     "output_type": "stream",
     "text": [
      "2017-09-04 15:07:46,296 [INFO] Data has been written to file <east-polynesian-lexstat.tsv>.\n"
     ]
    }
   ],
   "source": [
    "lex.output('tsv', filename='east-polynesian-lexstat')"
   ]
  },
  {
   "cell_type": "markdown",
   "metadata": {},
   "source": [
    "### Aligning the Results\n",
    "\n",
    "One great advantage of LingPy is that alignments can also be directly computed from automatically inferred cognate sets. This is useful, first also for manually annotated cognate sets, as it saves a lot of work, since alignment algorithms come very close to human judgments, and it requires only minimal post-annotation by humans to correct the errors. Second, it is useful to check the data, as it makes transparent where the algorithm found the similarity that triggered a respective cognate decision.\n",
    "\n",
    "When carrying out alignment analyses, we use the `Alignments` class in LingPy which requires a word list as input as well as the column which contains the cognate sets which shall be aligned. We will use the \"infomap\" analysis for our automatic alignments, since this usually performs better than the other methods. This is done by specifying the keyword `ref` as \"infomap\" when calling the `Alignments` class. As a further important tweak, we first load the data into the `LexStat` class so that we have the inferred sound correspondences which will then be used to compute our alignments. For this purpose, we load the file `mikronesian.bin.tsv` which stores the results of our permutation analysis and provides language-specific scores for all segments in the data (high scores indicating likely sound correspondences, low scores < 0 indicating non-corresponding sounds). We align using the normal progressive alignment, which is usually sufficient for smaller alignments and is slightly faster. When calling the alignment algorithm, we define the specific keyword `scoredict` and pass it the `lex.cscorer`, which stores the language-specific scoring functions for our data (```$ python autocogs.py alignments4``` in command line):"
   ]
  },
  {
   "cell_type": "code",
   "execution_count": 20,
   "metadata": {
    "collapsed": true
   },
   "outputs": [],
   "source": [
    "lex = LexStat('east-polynesian.bin.tsv')\n",
    "alm = Alignments('east-polynesian-lexstat.tsv', ref='infomap', segments='tokens') # `ref` indicates the column with the cognate sets\n",
    "alm.align(method='progressive', scoredict=lex.cscorer)"
   ]
  },
  {
   "cell_type": "markdown",
   "metadata": {},
   "source": [
    "This was not very spectacular, as we have not yet seen what happened. We can visualize the alignments from the command line by picking a particular cognate set and printing the alignments on screen. The alignments are added in a specific column called `alignments` as a default (but which can be modified by specifying another value with the keyword `alignments` passed to the initialization method for the `Alignments` class). Additionally, they can be retrieved using the `Alignments.get_msa` method - since multiple different alignment analyses can be stored in the object, the reference to a particular analysis must be passed. The following code illustrates how we can print a particular aligned cognate set (```python3 autocogs.py alignments5``` in command line):"
   ]
  },
  {
   "cell_type": "code",
   "execution_count": 21,
   "metadata": {},
   "outputs": [
    {
     "name": "stdout",
     "output_type": "stream",
     "text": [
      "Austral_1213         \t Eight \t v\ta\tɢ\tu\n",
      "Austral_128          \t Eight \t v\ta\tʔ\tu\n",
      "Hawaiian_52          \t Eight \t w\ta\tl\tu\n",
      "Mangareva_239        \t Eight \t v\ta\tr\tu\n",
      "Maori_85             \t Eight \t w\ta\tr\tu\n",
      "NorthMarquesan_38    \t Eight \t v\ta\tʔ\tu\n",
      "Rapanui_264          \t Eight \t v\ta\tʔ\tu\n",
      "Sikaiana_243         \t Eight \t v\ta\tl\tu\n",
      "Tahitian_173         \t Eight \t v\ta\tʔ\tu\n",
      "Tuamotuan_246        \t Eight \t v\ta\tr\tu\n"
     ]
    }
   ],
   "source": [
    "msa = alm.get_msa('infomap')['1']\n",
    "for i, idx in enumerate(msa['ID']):\n",
    "    print(\n",
    "        '{0:20}'.format(msa['taxa'][i]),  \n",
    "        '\\t',\n",
    "        alm[idx, 'concept'],\n",
    "        '\\t',\n",
    "        '\\t'.join(msa['alignment'][i])\n",
    "    )"
   ]
  },
  {
   "cell_type": "markdown",
   "metadata": {},
   "source": [
    "Again the eight, although this was not planned. But now let's quickly save the data to file, so that we can go on and inspect the findings further (command line covers this command via ```python3 autocogs.py alignments4```):"
   ]
  },
  {
   "cell_type": "code",
   "execution_count": 22,
   "metadata": {},
   "outputs": [
    {
     "name": "stderr",
     "output_type": "stream",
     "text": [
      "2017-09-04 15:07:52,556 [INFO] Data has been written to file <east-polynesian-aligned.tsv>.\n"
     ]
    }
   ],
   "source": [
    "alm.output('tsv', filename='east-polynesian-aligned', ignore='all', prettify=False)"
   ]
  },
  {
   "cell_type": "markdown",
   "metadata": {},
   "source": [
    "## Further Use\n",
    "\n",
    "This is by far not all you can do with LingPy, but it should be almost enough for a first demonstration. Yet in the reminder of this tutorial, I want to show quickly, what you can do, once the data has been analyzed. We will start by showing how to visualize and inspect the data word by word and alignment by alignment, using the [EDICTOR](http://edictor.digling.org) tool, which I have been developing for the last couple of years, and which has now been released in a first beta version ([List 2017](:ref:List2017d)). Then I will show how we can evaluate the accuracy of our findings with help of LingPy's evaluation module. Last but not least, I will show how you can export distance data, `Nexus` files, and trees with help of LingPy's export facilities.\n",
    "\n",
    "### Inspection with the EDICTOR\n",
    "\n",
    "The EDICTOR is a web-based tool written entirely in JavaScript which helps to load LingPy's tsv-files and inspect them in various ways. In order to use it, make sure to use FireFox, GoogleChrome, or Safari as your web browser, open the url [http://edictor.digling.org](http://edictor.digling.org), and you will see a welcome screen as follows:\n",
    "\n",
    "![edictor](edictor.png)\n",
    "\n",
    "In order to inspect your data, all you have to do is to take your file and *drag* it onto the \"browse\" field. Alternatively, you can also click on the browse field and then select the file by navigating to its location. Once this has been done, you will need to apply some tweaks with the EDICTOR which would take to long to be discussed here in text. However, for those who only have the chance to read this tutorial online, consider having a look at the help instructions of the EDICTOR itself, or by checking out the little demo video (of which the music was cut, due to copyright problems, play \"Like a Rolling Stone\" in Dylan's original version, when watching it to get the right feeling).\n",
    "\n"
   ]
  },
  {
   "cell_type": "code",
   "execution_count": 23,
   "metadata": {
    "scrolled": true
   },
   "outputs": [
    {
     "data": {
      "image/jpeg": "[encoded data removed]",
      "text/html": [
       "\n",
       "        <iframe\n",
       "            width=\"400\"\n",
       "            height=\"300\"\n",
       "            src=\"https://www.youtube.com/embed/IyZuf6SmQM4\"\n",
       "            frameborder=\"0\"\n",
       "            allowfullscreen\n",
       "        ></iframe>\n",
       "        "
      ],
      "text/plain": [
       "<IPython.lib.display.YouTubeVideo at 0x7f63507b5f10>"
      ]
     },
     "execution_count": 23,
     "metadata": {},
     "output_type": "execute_result"
    }
   ],
   "source": [
    "from IPython.display import YouTubeVideo\n",
    "YouTubeVideo('IyZuf6SmQM4')"
   ]
  },
  {
   "cell_type": "markdown",
   "metadata": {},
   "source": [
    "### Evaluation with LingPy\n",
    "\n",
    "LingPy has a couple of evaluation methods implemented, and since we have original expert cognate judgments from ABVD, we can compare our findings against theirs. Comparing cognate set accuracy is not necessarily a trivial problem, as we deal with cluster comparisons, which is a topic that was debated a lot in circles outside of linguistics, and it would lead us too far away if we discussed it in detail here now. For a linguistic viewpoint with a brief working example of our preferred method, the B-Cubed scores (see [Hauer and Kondrak 2011](:ref:Hauer2011), [Bagga and Baldwin 1998](:ref:Bagga1998), and [Amigo et al. 2009](:ref:Amigo2009)), see List, Greenhill, and Gray (2017). What you need to know, however, is that evaluation in NLP circles usually comes along with the concepts of *precision*, *recall*, and *f-score*. Initially, I found them rather difficult to grasp, as historical linguists usually think in terms of false positives and false negatives. In order to understand the idea, one should think that an algorithm for cognate detection can basically do two things either right or wrong: it could cluster words which are not cognate, or it could fail to cluster words as cognate. In the first case, we would measure this in terms of precision, by counting, how often the algorithm proposes correct or incorrect answers, and in the latter case, we measure the proportion of cognate sets which are missed. In the B-Cubed measure we use, this translates roughly to a measure of false/true positives vs. false/true negatives, but it is not entirely the same. The f-score computes the harmonic mean, which summarizes both values, and we usually want to improve the f-score and we use it to compare different algorithms with each other. \n",
    "\n",
    "Let's start and do this comparison now, by loading the respective functions from the LingPy evaluation module, and computing precision, recall, and f-scores for all our different automatically inferred cognate sets with respect to the gold standard. The gold standard is located in the column `COGID` of the input file, so we need to name this when comparing with any of the other columns (like `LEXSTATID`, etc., ```$ python3 autocogs.py evaluate``` in terminal)."
   ]
  },
  {
   "cell_type": "code",
   "execution_count": 24,
   "metadata": {},
   "outputs": [
    {
     "name": "stdout",
     "output_type": "stream",
     "text": [
      "turchinid \t0.95\t0.68\t0.79\n",
      "scaid     \t0.88\t0.82\t0.85\n",
      "lexstatid \t0.95\t0.90\t0.92\n",
      "infomap   \t0.95\t0.91\t0.93\n"
     ]
    }
   ],
   "source": [
    "from lingpy.evaluate.acd import bcubes, diff\n",
    "wl = Wordlist('east-polynesian-lexstat.tsv')\n",
    "\n",
    "for res in ['turchinid', 'scaid', 'lexstatid', 'infomap']:\n",
    "    print('{0:10}\\t{1[0]:.2f}\\t{1[1]:.2f}\\t{1[2]:.2f}'.format(\n",
    "        res,\n",
    "        bcubes(wl, 'cogid', res, pprint=False)\n",
    "    ))"
   ]
  },
  {
   "cell_type": "markdown",
   "metadata": {},
   "source": [
    "You can see, that the \"infomap\" method is, in fact, working one point better than the normal \"lexstat\" method, and you can also see how deep the difference between the correspondence-informed methods and the other methods is. As a last way to inspect the data, we will now use the `diff` function to create a file that contrasts the expert cognate sets with the ones inferred by Infomap (```$ python3 autocogs.py diff``` in terminal)."
   ]
  },
  {
   "cell_type": "code",
   "execution_count": 25,
   "metadata": {},
   "outputs": [
    {
     "name": "stdout",
     "output_type": "stream",
     "text": [
      "*************************\n",
      "* B-Cubed-Scores        *\n",
      "* --------------------- *\n",
      "* Precision:     0.9447 *\n",
      "* Recall:        0.9090 *\n",
      "* F-Scores:      0.9265 *\n",
      "*************************'*************************\n",
      "* Pair   -Scores        *\n",
      "* --------------------- *\n",
      "* Precision:     0.9119 *\n",
      "* Recall:        0.8661 *\n",
      "* F-Scores:      0.8884 *\n",
      "*************************'\n",
      "Concept: above, False Positives: no, False Negatives: yes\n",
      "Austral_1213     \tɢuʔa  \t   1\t   1\n",
      "Hawaiian_52      \ti_luna\t   1\t   1\n",
      "Mangareva_239    \truŋa  \t   1\t   1\n",
      "Maori_85         \ti_ruŋa\t   1\t   1\n",
      "NorthMarquesan_38\tʔuna  \t   1\t   1\n",
      "Rapanui_264      \truga  \t   1\t   1\n",
      "Tuamotuan_246    \truŋa  \t   1\t   1\n",
      "Austral_128      \tnuʔa  \t   1\t   2\n",
      "Tahitian_173     \tniʔa  \t   1\t   2\n",
      "#\n",
      "Concept: all, False Positives: yes, False Negatives: no\n",
      "Austral_1213     \tʔatoʔa    \t   1\t   1\n",
      "Austral_128      \tpaːʔaːtoʔa\t   1\t   1\n",
      "Maori_85         \tkatoa     \t   1\t   1\n"
     ]
    }
   ],
   "source": [
    "bc, pair, log = diff(wl, 'cogid', 'infomap', tofile=False, pprint=True)\n",
    "print('\\n'.join(log[:15]))"
   ]
  },
  {
   "cell_type": "markdown",
   "metadata": {},
   "source": [
    "You see in the output that it contrasts the \"cogid\" with the \"infomap\" numbers by putting them with words and languages in two columns.\n",
    "\n",
    "I assume that the format is more or less self-explaining. Note only one thing: the cognate-ids are always re-computed for each concept set, so you cannot compare them with the ones you find in the text. This is, however, justified, as it helps to compare, since LingPy's `diff` method re-numbers the cognate identifiers for each concept in order to maximally contrast findings by the algorithm and the ones proposed by the experts."
   ]
  },
  {
   "cell_type": "markdown",
   "metadata": {},
   "source": [
    "### Exporting Distances and Nexus Files\n",
    "\n",
    "It is clear that for many of those who consult automatic cognate detection, they use the methods in order to be able to do more with the data afterwards. LingPy so far supports quite a few different ways to write your data to file for further use in other software packages. A complete integration of `Nexus` files which transport all information which might be relevant for BEAST, however, does not exist yet (but will be added at some point sooner than later).\n",
    "\n",
    "You can nevertheless export to nexus, and what the algorithm exports are your presence-absence patterns extracted from the cognate sets (```$ python3 autocogs.py nexus```):"
   ]
  },
  {
   "cell_type": "code",
   "execution_count": 26,
   "metadata": {},
   "outputs": [
    {
     "name": "stdout",
     "output_type": "stream",
     "text": [
      "#NEXUS\n",
      "\n",
      "BEGIN DATA;\n",
      "DIMENSIONS ntax=10 NCHAR=822;\n",
      "FORMAT DATATYPE=STANDARD GAP=- MISSING=? interleave=yes;\n",
      "MATRIX\n",
      "\n",
      "Austral_1213      1010001000000010010000011001000000000001?????1?1001000001000001100?0???000000111000010110100010?????0???100000?11???10000101010011101000001000101100??????1000000001???001100001000100101110000010001010100001000000010010010001000?????0000110000001010100000001101000000?1??10011100001000010001100010001000000010010001001100100010010001101100000001?0????0100000010??010000????????0000001110100101000???110000?????1010000010000010000????0001000000100001000100101000100000100000001000010000010101001011000000000010110001000100100000100001010000010000000???????10000000010010000001010000000001000101100000100000100010010100010100011000000000100000010010000001000010100000011100010000010000011000000000010000010000011001000010000100010101011110100000100010001001000001000000101101000001000110?????110010010000011001000010100000000\n",
      "Austral_128       1000110010010010010000011001001100100000010000010010000001000001000110000100000101001011010001000001001010000011100010000101010011101000001001001100001001100100000010000110001000010110111000001100100110000110000001001001010100010000100001000000111010000000101000100010001011110110000001000110011001000001000100000111010010001010000110110000010010000000000001101011000011000100010000011001010100001011000001100111000001000000000110000010000001000001000100111000100000100100000000010010001101011101000000100111110011000011001010\n"
     ]
    }
   ],
   "source": [
    "import io\n",
    "from lingpy.convert.strings import pap2nex\n",
    "\n",
    "wl = Wordlist('east-polynesian-lexstat.tsv')\n",
    "paps = wl.get_paps(ref='infomap', missing='?')\n",
    "nexus = pap2nex(wl.cols, paps, missing='?')\n",
    "with io.open('east-polynesian.paps.nex', 'w', encoding='utf8') as fp:\n",
    "    fp.write(nexus)\n",
    "print(nexus[:1500])"
   ]
  },
  {
   "cell_type": "markdown",
   "metadata": {},
   "source": [
    "You can also calculate distances which would be interesting for packages like SplitsTree (Huson 1998), or also Phylip ([Felsenstein 2005](:ref:Felsenstein2005). For this, you need to be careful, however, since distances can be computed in different ways, and you can choose from a multitude of different distances, and they are not (yet) all documented. The distance calculation as a default counts, how many cognates there are for all concepts between each language pair, so in some way, this tries to mimick Swadesh's original idea of distances or similarities between languages (```$ python3 autocog.py distances``` in commandline):"
   ]
  },
  {
   "cell_type": "code",
   "execution_count": 27,
   "metadata": {},
   "outputs": [
    {
     "name": "stderr",
     "output_type": "stream",
     "text": [
      "2017-09-04 15:07:53,682 [INFO] Successfully calculated dst.\n"
     ]
    },
    {
     "name": "stdout",
     "output_type": "stream",
     "text": [
      " 10\n",
      "Austral_121 0.00 0.28 0.49 0.46 0.50 0.51 0.52 0.63 0.26 0.46\n",
      "Austral_128 0.28 0.00 0.40 0.40 0.42 0.46 0.46 0.57 0.15 0.35\n",
      "Hawaiian_52 0.49 0.40 0.00 0.35 0.40 0.37 0.41 0.51 0.47 0.32\n",
      "Mangareva_2 0.46 0.40 0.35 0.00 0.35 0.29 0.35 0.43 0.45 0.28\n",
      "Maori_85   0.50 0.42 0.40 0.35 0.00 0.38 0.41 0.46 0.47 0.33\n",
      "NorthMarque 0.51 0.46 0.37 0.29 0.38 0.00 0.39 0.43 0.49 0.33\n",
      "Rapanui_264 0.52 0.46 0.41 0.35 0.41 0.39 0.00 0.43 0.49 0.35\n",
      "Sikaiana_24 0.63 0.57 0.51 0.43 0.46 0.43 0.43 0.00 0.60 0.37\n",
      "Tahitian_17 0.26 0.15 0.47 0.45 0.47 0.49 0.49 0.60 0.00 0.40\n",
      "Tuamotuan_2 0.46 0.35 0.32 0.28 0.33 0.33 0.35 0.37 0.40 0.00\n",
      "\n"
     ]
    }
   ],
   "source": [
    "from lingpy.convert.strings import matrix2dst\n",
    "\n",
    "dst = matrix2dst(wl.get_distances(ref='infomap', mode='swadesh'), wl.taxa)\n",
    "with io.open('east-polynesian.dst', 'w', encoding='utf8') as fp:\n",
    "    fp.write(dst)\n",
    "print(dst)"
   ]
  },
  {
   "cell_type": "markdown",
   "metadata": {},
   "source": [
    "This format follows strictly the Phylip distance format which also cuts off all language names longer than 10 characters (but there are ways to modify this, I can't show them now).\n",
    "\n",
    "As a final experiment, let us create a tree from the distances, using the simple Neighbor-Joining algorithm, and then print this tree to screen (ignore the warning, ```$ python3 autocogs.py tree```).\n"
   ]
  },
  {
   "cell_type": "code",
   "execution_count": 28,
   "metadata": {},
   "outputs": [
    {
     "ename": "ImportError",
     "evalue": "No module named newick",
     "output_type": "error",
     "traceback": [
      "\u001b[0;31m---------------------------------------------------------------------------\u001b[0m",
      "\u001b[0;31mImportError\u001b[0m                               Traceback (most recent call last)",
      "\u001b[0;32m<ipython-input-28-c61edfc28484>\u001b[0m in \u001b[0;36m<module>\u001b[0;34m()\u001b[0m\n\u001b[0;32m----> 1\u001b[0;31m \u001b[0;32mfrom\u001b[0m \u001b[0mnewick\u001b[0m \u001b[0;32mimport\u001b[0m \u001b[0mloads\u001b[0m\u001b[0;34m\u001b[0m\u001b[0m\n\u001b[0m\u001b[1;32m      2\u001b[0m \u001b[0mtree\u001b[0m \u001b[0;34m=\u001b[0m \u001b[0mloads\u001b[0m\u001b[0;34m(\u001b[0m\u001b[0mwl\u001b[0m\u001b[0;34m.\u001b[0m\u001b[0mget_tree\u001b[0m\u001b[0;34m(\u001b[0m\u001b[0mref\u001b[0m\u001b[0;34m=\u001b[0m\u001b[0;34m'infomap'\u001b[0m\u001b[0;34m,\u001b[0m \u001b[0mtree_calc\u001b[0m\u001b[0;34m=\u001b[0m\u001b[0;34m'upgma'\u001b[0m\u001b[0;34m)\u001b[0m\u001b[0;34m)\u001b[0m\u001b[0;34m[\u001b[0m\u001b[0;36m0\u001b[0m\u001b[0;34m]\u001b[0m\u001b[0;34m\u001b[0m\u001b[0m\n\u001b[1;32m      3\u001b[0m \u001b[0;34m\u001b[0m\u001b[0m\n\u001b[1;32m      4\u001b[0m \u001b[0;32mfor\u001b[0m \u001b[0mnode\u001b[0m \u001b[0;32min\u001b[0m \u001b[0mtree\u001b[0m\u001b[0;34m.\u001b[0m\u001b[0mwalk\u001b[0m\u001b[0;34m(\u001b[0m\u001b[0;34m)\u001b[0m\u001b[0;34m:\u001b[0m\u001b[0;34m\u001b[0m\u001b[0m\n\u001b[1;32m      5\u001b[0m     \u001b[0;32mif\u001b[0m \u001b[0mnode\u001b[0m\u001b[0;34m.\u001b[0m\u001b[0mname\u001b[0m\u001b[0;34m:\u001b[0m\u001b[0;34m\u001b[0m\u001b[0m\n",
      "\u001b[0;31mImportError\u001b[0m: No module named newick"
     ]
    }
   ],
   "source": [
    "from newick import loads\n",
    "tree = loads(wl.get_tree(ref='infomap', tree_calc='upgma'))[0]\n",
    "\n",
    "for node in tree.walk():\n",
    "    if node.name:\n",
    "        node.name = node.name[1:-1].split('_')[0][:10]\n",
    "print(tree.ascii_art(show_internal=False))"
   ]
  },
  {
   "cell_type": "markdown",
   "metadata": {},
   "source": [
    "It is not up to me to judge how good this tree is, and it may also be wrongly rooted in the display. But you can see that LingPy can also handle classical tree formats. Although we do not plan to make LingPy a concurrence for tree inference packages, we find it useful to offer Neighbor-joining and UPGMA just to make it easier for users to quickly evaluate their analyses.\n",
    "\n",
    "## References\n",
    "\n",
    "\n",
    "* Amigó, E., J. Gonzalo, J. Artiles, and F. Verdejo (2009): A comparison of extrinsic clustering evaluation metrics based on formal constraints. Information Retrieval 12.4. 461-486.\n",
    "* Bagga, A. and B. Baldwin (1998): Entity-based cross-document coreferencing using the vector space model. In: Proceedings of the 36th Annual Meeting of the Association for Computational Linguistics and 17th International Conference on Computational Linguistics. Association of Computational Linguistics 79-85.\n",
    "* Bouckaert, R., J. Heled, D. Kühnert, T. Vaughan, C.-H. Wu, D. Xie, M. Suchard, A. Rambaut, and A. Drummond (2014): BEAST 2: A Software Platform for Bayesian Evolutionary Analysis. PLoS Computational Biology 10.4. e1003537.\n",
    "* Brown, C., E. Holman, and S. Wichmann (2013): Sound correspondences in the world’s languages. Language 89.1. 4-29.\n",
    "* Cs\\’ardi, G. and T. Nepusz (2006): The igraph software package for complex network research. InterJournal. Complex Systems .1695. .\n",
    "* Dolgopolsky, A. (1964): Gipoteza drevnejšego rodstva jazykovych semej Severnoj Evrazii s verojatnostej točky zrenija [A probabilistic hypothesis concering the oldest relationships among the language families of Northern Eurasia]. Voprosy Jazykoznanija 2. 53-63.\n",
    "* Downey, S., B. Hallmark, M. Cox, P. Norquest, and S. Lansing (2008): Computational feature-sensitive reconstruction of language relationships: developing the ALINE distance for comparative historical linguistic reconstruction. Journal of Quantitative Linguistics 15.4. 340-369.\n",
    "* Felsenstein, J. (2005): PHYLIP (Phylogeny Inference Package).\n",
    "* Greenhill, S., R. Blust, and R. Gray (2008): The Austronesian Basic Vocabulary Database: From bioinformatics to lexomics. Evolutionary Bioinformatics 4. 271-283.\n",
    "* Hammarström, H., R. Forkel, and M. Haspelmath (2017): Glottolog. Max Planck Institute for Evolutionary Anthropology: Leipzig.\n",
    "* Hauer, B. and G. Kondrak (2011): Clustering semantically equivalent words into cognate sets in multilingual lists. In: Proceedings of the 5th International Joint Conference on Natural Language Processing. AFNLP 865-873.\n",
    "* Huson, D. (1998): SplitsTree: analyzing and visualizing evolutionary data. Bioinformatics 14.1. 68-73.\n",
    "* Levenshtein, V. (1965): Dvoičnye kody s ispravleniem vypadenij, vstavok i zameščenij simvolov [Binary codes with correction of deletions, insertions and replacements]. Doklady Akademij Nauk SSSR 163.4. 845-848.\n",
    "* List, J.-M. (2012): SCA. Phonetic alignment based on sound classes. In: Slavkovik, M. and D. Lassiter (eds.): New directions in logic, language, and computation. Springer: Berlin and Heidelberg. 32-51.\n",
    "* List, J.-M. (2012): LexStat. Automatic detection of cognates in multilingual wordlists. In: Proceedings of the EACL 2012 Joint Workshop of Visualization of Linguistic Patterns and Uncovering Language History from Multilingual Resources. 117-125.\n",
    "* List, J.-M. (2014): Investigating the impact of sample size on cognate detection. Journal of Language Relationship 11. 91-101.\n",
    "* List, J.-M. (2014): Sequence comparison in historical linguistics. Düsseldorf University Press: Düsseldorf.\n",
    "* List, J.-M., M. Cysouw, and R. Forkel (2016): Concepticon. A resource for the linking of concept lists. In: Proceedings of the Tenth International Conference on Language Resources and Evaluation. 2393-2400.\n",
    "* List, J.-M. and R. Forkel (2016): LingPy. A Python library for historical linguistics. Max Planck Institute for the Science of Human History: Jena.\n",
    "* List, J.-M., P. Lopez, and E. Bapteste (2016): Using sequence similarity networks to identify partial cognates in multilingual wordlists. In: Proceedings of the Association of Computational Linguistics 2016 (Volume 2: Short Papers). Association of Computational Linguistics 599-605.\n",
    "* List, J.-M., S. Greenhill, and R. Gray (2017): The potential of automatic word comparison for historical linguistics. PLOS ONE 12.1. 1-18.\n",
    "* List, J.-M. (2017): A web-based interactive tool for creating, inspecting, editing, and publishing etymological datasets. In: Proceedings of the 15th Conference of the European Chapter of the Association for Computational Linguistics. System Demonstrations. 9-12.\n",
    "* Moran, S. and M. Cysouw (2017): The Unicode Cookbook for Linguists: Managing writing systems using orthography profiles. Zenodo: Zürich.\n",
    "* Notredame, C., D. Higgins, and J. Heringa (2000): T-Coffee. A novel method for fast and accurate multiple sequence alignment. Journal of Molecular Biology 302. 205-217.\n",
    "* Rosvall, M. and C. Bergstrom (2008): Maps of random walks on complex networks reveal community structure. Proceedings of the National Academy of Sciences 105.4. 1118-1123.\n",
    "* Saitou, N. and M. Nei (1987): The neighbor-joining method: A new method for reconstructing phylogenetic trees. Molecular Biology and Evolution 4.4. 406-425.\n",
    "* Sokal, R. and C. Michener (1958): A statistical method for evaluating systematic relationships. University of Kansas Scientific Bulletin 28. 1409-1438.\n",
    "* Turchin, P., I. Peiros, and M. Gell-Mann (2010): Analyzing genetic connections between languages by matching consonant classes. Journal of Language Relationship 3. 117-126.\n",
    "\n",
    "\n"
   ]
  }
 ],
 "metadata": {
  "kernelspec": {
   "display_name": "Python 2",
   "language": "python",
   "name": "python2"
  },
  "language_info": {
   "codemirror_mode": {
    "name": "ipython",
    "version": 2
   },
   "file_extension": ".py",
   "mimetype": "text/x-python",
   "name": "python",
   "nbconvert_exporter": "python",
   "pygments_lexer": "ipython2",
   "version": "2.7.13"
  }
 },
 "nbformat": 4,
 "nbformat_minor": 1
}
