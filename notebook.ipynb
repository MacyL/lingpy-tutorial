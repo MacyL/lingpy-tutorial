{
 "cells": [
  {
   "cell_type": "markdown",
   "metadata": {
    "deletable": true,
    "editable": true
   },
   "source": [
    "# Sequence Comparison with LingPy\n",
    "\n",
    "\n",
    "This tutorial will run you through the major steps needed in order to infer cognates automatically with [LingPy](http://lingpy.org) ([List and Forkel 2017](:bib:List2017i)) from linguistic word list data and to export the data into various formats so that you can either inspect them using tools like the [EDICTOR](http://edictor.digling.org) ([List 2017](:bib:List2017d)), or further analyse them, using software like [SplitsTree](http://splitstree.org) ([Huson 1998](:bib:Huson1998)) or [BEAST](http://www.beast2.org) ([Bouckaert et al. 2014](:bib:Bouckaert2014)).\n",
    "\n",
    "Basically, this tutorial assumes that you have at least an undergraduate level understanding of historical linguistics (particularly the basic methods used in historical language comparison, often summarized under the label \"comparative method\"), requiring only working knowledge of Python and command line operation.\n",
    "\n",
    "It is required that you have installed both LingPy in the version [2.6](https://github.com/lingpy/lingpy/releases/tag/v2.6) for Python3 (as this tutorial will assume that you use Python3) available on [GitHub](https://github.com/lingpy/lingpy), and (as a plus) the [python-igraph](http://igraph.org) package ([Csárdi and Nepusz 2006](:bib:Csardi2006)). Furthermore, in order to follow all examples given in this tutorial, it is useful to work with the [ipython](http://ipython.org) suite, which is very convenient for testing code pieces directly against the Python interpreter.\n",
    "\n",
    "The tutorial is divided into different blocks, during which different aspects of sequence comparison will be illustrated from the concrete perspective of LingPy. In order to understand fully all that is going on, however, this tutorial won't be sufficient, and it is recommended that those who are interested in the algorithmic and conceptual details of LingPy's major algorithms for sequence comparison have a closer look at the book [Sequence Comparison in Historical Linguistics](https://sequencecomparison.github.io) ([List 2014](:ref:List2014d) in which the most comprehensive state of the art is reflected. More recent papers might occasionally be mentioned in order to account for those aspects of sequence comparison which have been changed since then, but the book on sequence comparison (which is also freely available for download) is still the best starting point.\n",
    "\n",
    "The tutorial is divided into the following parts:\n",
    "\n",
    "1. Hands on the Data: Preparing, Loading, and Testing Word List Data\n",
    "2. Phonetic Alignment\n",
    "3. Automatic Cognate Detection\n",
    "4. Evaluation\n",
    "5. Exporting the Data"
   ]
  },
  {
   "cell_type": "markdown",
   "metadata": {
    "deletable": true,
    "editable": true
   },
   "source": [
    "## 1 Installation Instructions"
   ]
  },
  {
   "cell_type": "markdown",
   "metadata": {
    "deletable": true,
    "editable": true
   },
   "source": [
    "### 1.1 Confirming that Python and LingPy are not installed\n",
    "\n",
    "In order to proceed with LingPy installation, make sure you have at least a standard Python interpreter installed. Open a command prompt and run the command below, which, if Python is installed, should return a message informing the version of Python that is installed (something similar to `\"Python 2.7.12\"`).\n",
    "\n",
    "```shell\n",
    "$ python --version\n",
    "```\n",
    "\n",
    "In case you are using or planning to use Python 3, the command below should return somethin like `\"Python 3.5.2\"`.\n",
    "\n",
    "```shell\n",
    "$ python3 --version\n",
    "```\n",
    "\n",
    "To verify if LingPy is installed you can either run your Python interpreter and try to load the library with `import lingpy` (which will return an `ImportError` if the library is missing) or copy and paste the command below to your command prompt (changing `python` to `python3` if needed).\n",
    "\n",
    "```shell\n",
    "$ python -c \"import pkgutil; print('LingPy is installed' \n",
    "    if pkgutil.find_loader('lingpy') else 'LingPy is not installed')\"\n",
    "```\n",
    "\n"
   ]
  },
  {
   "cell_type": "markdown",
   "metadata": {
    "deletable": true,
    "editable": true
   },
   "source": [
    "### 1.2 Updating and preparing the system\n",
    "\n",
    "Before proceeding with LingPy installation, make sure your system is up to date. Debian systems (including all Ubuntu flavors) are updated with the `sudo apt update && sudo apt upgrade` command, RedHat systems (such as Fedora) with the `yum update` command, and Arch systems with the `pacman -Syu` command. Most distributions have similar and equivalent commands.\n",
    "\n",
    "Following the best practices of Python development, we recommend you install LingPy and all its dependencies with the `pip` package manager. `pip` is included in all recent version of Python, but your distribution might have removed it. You can check if `pip` is installed by running the command below, which should return a message like `pip 9.0.1 from /usr/local/lib/python3.5/dist-packages (python 3.5)` (depending on your setup, the command might be `pip3` for Python 3).\n",
    "\n",
    "```shell\n",
    "$ pip --version\n",
    "```\n",
    "\n",
    "If `pip` is not installed, we recommended that you [properly install `pip` according to its instructions](https://pip.pypa.io/en/stable/installing/) instead of relying on your distribution repositories, which might be outdated and can lead to errors and conflicts."
   ]
  },
  {
   "cell_type": "markdown",
   "metadata": {
    "deletable": true,
    "editable": true
   },
   "source": [
    "### 1.3 Installing LingPy\n",
    "\n",
    "The LingPy library can be installed either by using the packaged version on the Python Package Index (PyPI) or by making a full local copy of the development file on GitHub. The first alternative is recommended if you are new to Python and to LingPy, while the second is the best choice if you plan to contribute to LingPy development or alter it (in which case, however, you should be proficient enough with `git` to fork or branch the repository and should probably use a virtual environment). In any case, both alternatives work in the same way for the purposes of this tutorial.\n"
   ]
  },
  {
   "cell_type": "markdown",
   "metadata": {
    "deletable": true,
    "editable": true
   },
   "source": [
    "#### 1.3.1 Installing from PyPi\n",
    "\n",
    "+++ add information on basic commands here +++"
   ]
  },
  {
   "cell_type": "markdown",
   "metadata": {
    "deletable": true,
    "editable": true
   },
   "source": [
    "#### 1.3.2 Installing from git\n",
    "\n",
    "When installing the development version you will locally clone the `git` repositories and instruct `pip` to use the local copy as source, so that any changes to the code can immediately be used without having to package lingpy or submit a pull request to the authors. You must make sure you have `git` properly installed by running the `git --version` command and installing `git` if needed (on Debian/Ubuntu systems, with `sudo apt install git`).\n",
    "\n",
    "Remember that for a full installation you must be able to compile some C modules (with `gcc` as the standard compiler) and must have the the Python development libraries installed (on Debian/Ubuntu systems, with `sudo apt install build-essential python-dev python3-dev`).\n",
    "\n",
    "This will install dependencies such as numpy, appdirs, etc. (those are listed in the `requirements.txt` file).\n",
    "\n",
    "+++ add information on the commands here +++"
   ]
  },
  {
   "cell_type": "markdown",
   "metadata": {
    "deletable": true,
    "editable": true
   },
   "source": [
    "### 1.4 Configuring LingPy\n",
    "\n",
    "If LingPy was not installed, it is recommended you import it one first time from the command line, so that it can configure itself and preprocess some data, such as sound profiles, graphemes, etc. Just enter the command below in your command line, which can result on a long list of information on the configuration phase; once it is finished, you should be ready to proceed with the tutorial:\n",
    "\n",
    "```shell\n",
    "$ python -c \"import lingpy\"\n",
    "```"
   ]
  },
  {
   "cell_type": "markdown",
   "metadata": {
    "deletable": true,
    "editable": true
   },
   "source": [
    "### 1.5 Installing additional software required for this tutorial\n",
    "\n",
    "+++ elaborate on this +++\n",
    "\n",
    "We will need a couple of additional packages to run this tutorial. The following packages can be installed both via GitHub or via PyPi\n",
    "\n",
    "\n",
    "* https://bambooforest/segments/ (will be published on Pypi as segments)\n",
    "* python-igraph\n",
    "* python-newick \n",
    "* pycldf\n"
   ]
  },
  {
   "cell_type": "markdown",
   "metadata": {
    "deletable": true,
    "editable": true
   },
   "source": [
    "### Additional software, not required, but recommended\n",
    "\n",
    "While not required, this step should improve your experience when following this tutorial and with LingPy in general.\n",
    "\n",
    "```shell\n",
    "$ pip install --user ipython\n",
    "```"
   ]
  },
  {
   "cell_type": "markdown",
   "metadata": {
    "deletable": true,
    "editable": true
   },
   "source": [
    "## 2 Hands on the Data\n",
    "\n"
   ]
  },
  {
   "cell_type": "markdown",
   "metadata": {
    "deletable": true,
    "editable": true
   },
   "source": [
    "### 2.1 The Testset\n",
    "\n",
    "Linguists are often skeptical when they hear that LingPy requires explicit phonetic transcriptions, and often, they are even reluctant to interpret their data along the lines of the International Phonetic Alphabet. But in order to give the algorithms a fair chance to interpret the data in the same way in which they would be interpreted by linguists, a general practice for phonetic transcriptions is indispensable. \n",
    "\n",
    "For our test, we will use a dataset consisting of 30 Polynesian languages taken from the [ABVD](http://language.psy.auckland.ac.nz/austronesian/) ([Greenhill et al. 2008](:bib:Greenhill2008)). This dataset was intensively verified and revised according to primary source data from widely accepted published works (dictionaries and online databases) and first-hand knowledge of a Polynesian linguist. Revisions included: correcting invalid entries, reordering misplaced segments, adding missing segments, modifying ambiguous transcription conventions, and deleting semantically distant forms for concepts with multiple entries. The dataset was additionally cleaned by converting the various original transcriptions into a valid version of IPA accepted by LingPy (for details, see 2.4 below). The testset is located in the same folder in which you also find this interactive tutorial, which we provide in various formats. In the following, we will assume that you opened the terminal in this folder (or ``cd``ed into this folder after opening your terminal). \n"
   ]
  },
  {
   "cell_type": "markdown",
   "metadata": {
    "deletable": true,
    "editable": true
   },
   "source": [
    "### 2.2 The Input Format\n",
    "\n",
    "Let us start by quickly examining the file `polynesian.tsv` which we prepared for this occasion. This file is a tab-separated text file with the first row indicating the header, and the very first column is reserved for numeric identifiers. If you open this file in a spreadsheet editor (and make sure to select \"tab\" as a delimiter, and NO characters to delimit a cell), will see that it is a very straightforward spreadsheet, in which the first row is a header indicating the names of the columns, and the first cell is reserved for an identifier, which should be numeric (but order does not matter).\n",
    "\n",
    "|   ID | DOCULECT        | CONCEPT   | GLOTTOCODE   |   CONCEPTICON_ID | VALUE   | FORM   | TOKENS   | VARIANTS   | SOURCE                 |   COGID |\n",
    "|-----:|:----------------|:----------|:-------------|-----------------:|:--------|:-------|:---------|:-----------|:-----------------------|--------:|\n",
    "| 7435 | Anuta           | Eight     | anut1237     |             1705 | varu    | varu   | v a r u  |            | POLLEX                 |     663 |\n",
    "| 3591 | East_Futunan    | Eight     | east2447     |             1705 | valu    | valu   | v a l u  | valu       | POLLEX                 |     663 |\n",
    "| 1401 | Emae            | Eight     | emae1237     |             1705 | βaru    | βaru   | β a r u  |            | 52375                  |     663 |\n",
    "| 5359 | Futuna_Aniwa    | Eight     | futu1245     |             1705 | varu    | varu   | v a r u  |            | POLLEX                 |     663 |\n",
    "| 5614 | Hawaiian        | Eight     | hawa1245     |             1705 | walu    | walu   | w a l u  |            | 71458                  |     663 |\n",
    "|  949 | Kapingamarangi  | Eight     | kapi1249     |             1705 | walu    | walu   | w a l u  | waru       | POLLEX                 |     663 |\n",
    "| 2114 | Luangiua        | Eight     | onto1237     |             1705 | valu    | valu   | v a l u  |            | POLLEX                 |     663 |\n",
    "| 1853 | Mangareva       | Eight     | mang1401     |             1705 | varu    | varu   | v a r u  |            | POLLEX                 |     663 |\n",
    "|  725 | Maori           | Eight     | maor1246     |             1705 | waru    | waru   | w a r u  |            | Biggs-85-2005          |     663 |\n",
    "| 4201 | Mele_Fila       | Eight     | mele1250     |             1705 | eβaru   | eβaru  | β a r u  |            | 52375                  |     663 |\n",
    "| 4855 | Niuean          | Eight     | niue1239     |             1705 | valu    | valu   | v a l u  |            | POLLEX                 |     663 |\n",
    "| 3297 | North_Marquesan | Eight     | nort2845     |             1705 | va'u    | va'u   | v a ʔ u  |            | POLLEX                 |     663 |\n",
    "| 6362 | Nukuria         | Eight     | nuku1259     |             1705 | varu    | varu   | v a r u  |            | Davletshin-1212-2015   |     663 |\n",
    "| 6152 | Penryhn         | Eight     | penr1237     |             1705 | varu    | varu   | v a r u  |            | POLLEX                 |     663 |\n",
    "| 3897 | Pukapuka        | Eight     | puka1242     |             1705 | valu    | valu   | v a l u  |            | Salisbury-152-2005     |     663 |\n",
    "| 1595 | Rapanui         | Eight     | rapa1244     |             1705 | va'u    | va'u   | v a ʔ u  |            | POLLEX                 |     663 |\n",
    "| 5850 | Rarotongan      | Eight     | raro1241     |             1705 | varu    | varu   | v a r u  |            | POLLEX                 |     663 |\n",
    "| 4395 | Ra’ivavae       | Eight     | aust1304     |             1705 | vaGu    | vaGu   | v a ɢ u  |            | Tamaititahio-1213-2015 |     663 |\n",
    "| 6914 | Rennell_Bellona | Eight     | renn1242     |             1705 | baŋgu   | baŋgu  | b a ŋg u |            | POLLEX                 |     663 |\n",
    "| 5101 | Rurutuan        | Eight     | aust1304     |             1705 | vaʔu    | vaʔu   | v a ʔ u  |            | Meyer-128-2005         |     663 |\n",
    "| 6623 | Samoan          | Eight     | samo1305     |             1705 | valu    | valu   | v a l u  |            | Blust-118-2005         |     663 |\n",
    "| 3076 | Sikaiana        | Eight     | sika1261     |             1705 | valu    | valu   | v a l u  |            | POLLEX                 |     663 |\n",
    "| 1169 | Tahitian        | Eight     | tahi1242     |             1705 | va'u    | va'u   | v a ʔ u  | varu       | Clark-173-2005         |     663 |\n",
    "| 2823 | Tikopia         | Eight     | tiko1237     |             1705 | varu    | varu   | v a r u  |            | POLLEX                 |     663 |\n",
    "| 2336 | Tongan          | Eight     | tong1325     |             1705 | valu    | valu   | v a l u  |            | 117207                 |     663 |\n",
    "| 4592 | Tuamotuan       | Eight     | tuam1242     |             1705 | varu    | varu   | v a r u  |            | POLLEX                 |     663 |\n",
    "| 7179 | Tuvalu          | Eight     | tuva1244     |             1705 | valu    | valu   | v a l u  |            | 29903                  |     663 |\n",
    "|    8 | Vaeakau_Taumako | Eight     | pile1238     |             1705 | valu    | valu   | v a l u  |            | Hovdhaugen-375-2009    |     663 |\n",
    "|  251 | Wallisian       | Eight     | wall1257     |             1705 | valu    | valu   | v a l u  |            | POLLEX                 |     663 |\n",
    "\n",
    "\n",
    "You may even prepare your data in a spreadsheet to then analyze it in LingPy. You just need to make sure to export it properly to the TSV format (which you can easily do by just copy-pasting it into an empty text-file). What you need to know about the format, however, is the following:\n",
    "\n",
    "1. contrary to most linguists' intuition, the columns do **not** indicate languages: each row indicates one word and, as a result, language names need to be redundantly repeated\n",
    "2. certain columns are **required** by LingPy, and their number can vary, depending on the task you want to carry out: for the purpose of cognate detection, you need at least the columns `doculect`, `concept`, and either a plain transcription (the default column name is `ipa`) or a more advanced and less ambiguous transcription in segmented form (the default column name is `tokens`).\n",
    "3. in order to increase readability, column headers are upper-case when LingPy writes them to file, but this is not required (internally all columns are represented as lowercase when loaded into LingPy's objects)\n",
    "4. depending on the names of the columns, values will be interpreted by default: if you have a column called `cogid`, this will be converted to an integer, and `tokens` usually assumes that you have a string separated by spaces. As a result, LingPy may throw an error if your columns do not follow these required formats. To check how columns are interpreted, you can check the file [wordlist.rc](https://github.com/lingpy/lingpy/blob/master/lingpy/data/conf/wordlist.rc) where you will find a full account of currently supported values.\n",
    "\n",
    "Not all of the columns in the table above are fully \"standardized\". The `DOCULECT` one, for example, so far only requires that distinct languages are given distinct names, no matter what those names contain (as long it has no tabulation stops). But for the purpose of exporting the data to other formats afterward, it is useful to restrict to alphanumeric names here, and to exclude all brackets or spaces from the language names, as we have been doing in this test set. This becomes especially important when inferring trees or using trees in further LingPy analyses: as trees are represented in the [Newick](https://en.wikipedia.org/wiki/Newick_format) format, where brackets play an important role, brackets in the names for the doculects will confuse the algorithm and raise an error.\n",
    "\n",
    "As the last point, note that we list `GLOTTOCODE` and `CONCEPTICON_ID`, which follows two major requirements for word list data we try to establish for the [Cross-Linguistic Data Formats (CLDF)](http://cldf.clld.org) initiative. As the linguistic sign has three major dimensions, the *language*, the *meaning*, and the *word form*, `GLOTTOCODE`, the language identifier provided by the [Glottolog project](http://glottolog.org) ([Hammarström, Forkel and Haspelmath 2017](:ref:Hammarstroem2017)) and `CONCEPTICON_ID`, the meaning identifier provided by the [Concepticon project](http://concepticon.clld.org) ([List, Cysouw, and Forkel 2016](:ref:List2016a) cover two of these aspects, while the third aspect, the consistency of the form, is currently covered by LingPy (more on this below)."
   ]
  },
  {
   "cell_type": "markdown",
   "metadata": {
    "deletable": true,
    "editable": true
   },
   "source": [
    "### 2.3 Loading the Data into a `Wordlist` Object\n",
    "\n",
    "Loading the data into LingPy is straightforward. LingPy has a couple of classes which are specifically designed to handle word list data, and these classes provide all similar basic functions, plus additional ones for specific purposes:\n",
    "\n",
    "* `Wordlist`: Basic class with core functionality, allows to read, modify, and write word list data, also allows  calculating distance matrices from cognate sets as well as rudimentary tree reconstruction functions (UPGMA, [Sokal and Michener 1958](:ref:Sokal1958), Neighbor-joining, [Saitou and Nei 1987](:ref:Saitou1987)).\n",
    "* `Alignments`: Class allows to align all cognate sets in a word list. Requires one column which stores the cognate sets as well as a column for `doculect`, `concept`, and transcription (default: `ipa`) or user-defined *segmented transcription* (default: `tokens`). Alignments can be carried out in different ways, the algorithms follow the ones first described in [List (2012a)](:ref:List2012b).\n",
    "* `LexStat`: Core class for automatic cognate detection, following the algorithm first described in [List (2012b)](:ref:List2012a) and later expanded in [List (2014)](:ref:List2014d), and [List, Greenhill, and Gray (2017)](List2017c). \n",
    "* `Partial`: Recent algorithm proposed in [List, Lopez, and Bapteste (2016)](:ref:List2016g), allows -- provided data is morpheme-segmented -- to search for partial cognates in the data.\n",
    "\n",
    "We will start with the basic `Wordlist` object to illustrate some core facilities below. Let us thus quickly load some data into the Wordlist. We start with our file ```polynesian.tsv```:"
   ]
  },
  {
   "cell_type": "code",
   "execution_count": 1,
   "metadata": {
    "collapsed": false,
    "deletable": true,
    "editable": true
   },
   "outputs": [
    {
     "name": "stdout",
     "output_type": "stream",
     "text": [
      "Wordlist has 30 languages and 210 concepts across 7316 rows.\n"
     ]
    }
   ],
   "source": [
    "from __future__ import unicode_literals, print_function, division\n",
    "from lingpy import *\n",
    "\n",
    "# load the wordlist\n",
    "wl = Wordlist('polynesian.tsv')\n",
    "\n",
    "# count number of languages, number of rows, number of concepts\n",
    "print(\n",
    "    \"Wordlist has {0} languages and {1} concepts across {2} rows.\".format(\n",
    "        wl.width, wl.height, len(wl)))"
   ]
  },
  {
   "cell_type": "markdown",
   "metadata": {
    "deletable": true,
    "editable": true
   },
   "source": [
    "By accessing the attributes `width` we retrieve the number of languages and with `height` we retrieve the number of concepts. This follows the logic inherent in the traditional format in which linguists prepare their spreadsheets, namely by placing concepts in the first column and languages in the rest of the columns. Traditional linguistic databases would thus represent the data from the table above as follows:\n",
    "\n",
    "CONCEPT | Emae | Rennell_Bellona | Tuvalu | Sikaiana | Penrhyn | Kapingamarangi\n",
    "--- | --- | --- | --- | --- | --- | ---\n",
    "one | tasi| tahi | tahi | tasi | tahi | dahi\n",
    "five | rima | gima | lima | lima | rima | lima\n",
    "eight | βaru | baŋu | valu | valu | varu | waru\n",
    "... | ... | ... | ... | ... | ... | ...\n",
    "\n",
    "The disadvantage of this annotation is, however, that we can only store one value in each cell, and we will create inconsistencies if we try to mix information per cell. For that reason, we maintain the strict tabular representation where each word is placed in one row, but internally, LingPy represents the data in multidimensional tables in which languages are thought to be placed in the columns and concepts in the rows. \n",
    "\n",
    "There are multiple ways in LingPy to inspect and manipulate data using the `Wordlist` class, but it would go too far to mention them all here, so we will restrict it to one example, by which we retrieve the values from the six languages above for the entry \"Eight\", using the `wordlist.get_dict()` function, and refer the users to a longer tutorial which is [online](http://lingpy.org/tutorial/lingpy.basic.wordlist.html).\n"
   ]
  },
  {
   "cell_type": "code",
   "execution_count": 2,
   "metadata": {
    "collapsed": false,
    "deletable": true,
    "editable": true
   },
   "outputs": [
    {
     "name": "stdout",
     "output_type": "stream",
     "text": [
      "Emae                   \t βaru\n",
      "Rennell_Bellona        \t baŋgu\n",
      "Tuvalu                 \t valu\n",
      "Sikaiana               \t valu\n",
      "Penryhn                \t varu\n",
      "Kapingamarangi         \t walu\n"
     ]
    }
   ],
   "source": [
    "# get all indices for concept \"eight\", `row` refers to the concepts here, while `col` refers to languages\n",
    "eight = wl.get_dict(row='Eight', entry='value')\n",
    "for taxon in ['Emae', 'Rennell_Bellona', \n",
    "              'Tuvalu', 'Sikaiana', 'Penryhn',  'Kapingamarangi']:\n",
    "    print(\n",
    "        '{0:20}'.format(taxon), '  \\t', ', '.join(eight[taxon]))"
   ]
  },
  {
   "cell_type": "markdown",
   "metadata": {
    "deletable": true,
    "editable": true
   },
   "source": [
    "### 2.4 Segmentation of Phonetic Entries\n",
    "\n",
    "Converting transcription conventions into IPA is critical for ensuring that the dataset can be properly analysed. In the original Polynesian dataset, for example, multiple inconsistent conventions were discovered. These included outdated, pre-IPA, conventions; regional orthographic conventions; and individual linguist inventions. These resulted in highly ambiguous representations that could easily lead to incorrect interpretations of the data: characters associated with a given sound used to represent an entirely different sound (*h* used for glottal stop; *y* used for *θʸ*); one character used to represent various sound segments (*g* used for velar nasal, voiced velar stop, and voiced uvular stop); one set of characters used to represent multiple series of sound segments (two adjacent vowels used for adjacent like vowels, vowel-glottal stop-vowel, and long vowels); double characters used to indicate one segment (*ng* used for velar nasal; *nC* used for prenasalised consonants; *hC* or *Ch* used for aspirated consonants); diacritical marking on vowels used to indicate length (*v̄* used for long vowels); and diacritical marking on or between vowels to indicate glottal stops (*v̀* used for glottal stop-vowel; *v'v* used for vowel-glottal stop-vowel). Linguists applying methods for automatic cognate detection should always keep in mind that our data is usually rather sparse and therefore not robust enough to cope with these problems alone. As a result from our experience in working with the Polynesian data sample, we therefore advise all users of LingPy to make sure that their data is properly segmented. In the following we will provide some basic information, how this can be done.\n",
    "\n",
    "In addition to the \"normal\" requirement of the data to be written in IPA, LingPy can use the explicit segmentation of the data into sound segments as it was provided by the user. Segmentation is represented as a space-separated string in the input data, as you can see when looking at the table above, right in the cells of the `TOKENS` column. While segmentation looks unspectacular in these cases where each sound is represented by only one symbol, it may become problematic when dealing with affricates, pre-aspirated sounds, and complex vowels. The problem is usually that IPA transcriptions are inherently ambiguous, and this ambiguity is then passed on to the algorithms which cannot handle it. For example, a word like German `[`apfəl`]` \"apple\" could be either segmented as `[` a p f ə l `]`, or, and historically more consistently, as `[` a pf ə l `]`. But if the latter reading is intended (and this is usually language-family-specific), the only way to handle this consistently in IPA would be to put the bar over it: `[`ap͡fəl`]`. This practice, however, would still render the detection of pre-aspiration and other cases impossible. Although LingPy deals rather well with explicit IPA, we recommend all users to segment the data themselves and indicate this by placing one column in their input word list, in which the phonetic entries are explicitly segmented by a space (with the underscore being used to mark original spaces, i.e., word breaks).\n",
    "\n",
    "LingPy's `sequence`-package offers many functions to handle phonetic sequences and to segment them automatically. As an example, consider the following code-pieces and try to find out what they are actually doing:"
   ]
  },
  {
   "cell_type": "code",
   "execution_count": 3,
   "metadata": {
    "collapsed": false,
    "deletable": true,
    "editable": true
   },
   "outputs": [
    {
     "name": "stdout",
     "output_type": "stream",
     "text": [
      "th o x t a \t->\t th\to\tx\tt\ta\n",
      "thoxta   \t->\t t\th\to\tx\tt\ta\n",
      "thoxta   \t->\t th\to\tx\tt\ta\n",
      "apfəl   \t->\t a\tp\tf\tə\tl\n",
      "apfəl   \t->\t a\tpf\tə\tl\n",
      "tʰoxtɐ   \t->\t tʰ\to\tx\tt\tɐ\n",
      "dɔːtər   \t->\t d\tɔː\tt\tə\tr\n"
     ]
    }
   ],
   "source": [
    "from lingpy.sequence.sound_classes import ipa2tokens\n",
    "\n",
    "seq1, seq2, seq3, seq4, seq5 = (\n",
    "    \"th o x t a\", \"thoxta\", \"apfəl\", \"tʰoxtɐ\", \"dɔːtər\")\n",
    "\n",
    "print(seq1, \"\\t->\\t\", '\\t'.join(ipa2tokens(seq1)))\n",
    "print(seq2, \"  \\t->\\t\", '\\t'.join(ipa2tokens(seq2)))\n",
    "print(seq2, \"  \\t->\\t\", '\\t'.join(ipa2tokens(seq2, semi_diacritics=\"h\")))\n",
    "print(seq3, \"  \\t->\\t\", '\\t'.join(ipa2tokens(seq3)))\n",
    "print(seq3, \"  \\t->\\t\", '\\t'.join(ipa2tokens(seq3, semi_diacritics=\"f\")))\n",
    "print(seq4, \"  \\t->\\t\", '\\t'.join(ipa2tokens(seq4)))\n",
    "print(seq5, \"  \\t->\\t\", '\\t'.join(ipa2tokens(seq5)))"
   ]
  },
  {
   "cell_type": "markdown",
   "metadata": {
    "deletable": true,
    "editable": true
   },
   "source": [
    "You can see from these examples that LingPy's `ipa2tokens` function automatically identifies diacritics and the like, but that you can also tweak it to some extent. If the sequence contains white spaces, as in the first example, `ipa2tokens` will split by white space and assume that the data is *already* segmented. We won't go into the details of this and other functions here, but you should consider giving the documentation a proper read before you start spending time on segmenting your data manually. At the same time, when trusting LingPy's default algorithm for segmentation, you should always make sure after using it that the segmentations make sense. If they are largely wrong or problematic, you should refine them before running any automatic cognate detection method.\n",
    "\n",
    "An alternative is to use the `segments` package by Steven Moran, whose main idea is more comprehensively described in [Moran and Cysouw (2017)](:ref:Moran2017). We have in fact been using it for our working example in order to segment the ABVD data on Polynesian languages properly and afterwards checked them manually. Our orthography profile for the Polynesian languages looks like this (we only show the first couple of lines):\n",
    "\n",
    "Grapheme\t| IPA |\tNOTE\n",
    "--- | --- | ---\n",
    "q\t| ʔ\t| \n",
    "ŋg |\tⁿg\t| account for pre-nasalization\n",
    "0\t| NULL\t|\n",
    "ng | ŋ\t|\n",
    "t |\tt\t|\n",
    "\n",
    "So what you can essentially see here is that we have an initial column in which we list the graphemes that we find in the data, and we add a second column that says how we would like to render it in IPA. If we write \"NULL\", this means we want to discard it. With the [segments](https://github.com/bambooforest/segments) package, this can be applied to our data in a very straightforward way:"
   ]
  },
  {
   "cell_type": "code",
   "execution_count": 4,
   "metadata": {
    "collapsed": false,
    "deletable": true,
    "editable": true
   },
   "outputs": [
    {
     "name": "stdout",
     "output_type": "stream",
     "text": [
      "v a ' u\n",
      "v a ʔ u\n"
     ]
    }
   ],
   "source": [
    "from segments.tokenizer import Tokenizer\n",
    "from lingpy.basic.wordlist import Wordlist\n",
    "tk = Tokenizer('orthography.tsv')\n",
    "print(tk(\"va'u\"))\n",
    "print(tk(\"va'u\", column=\"IPA\"))\n"
   ]
  },
  {
   "cell_type": "markdown",
   "metadata": {
    "deletable": true,
    "editable": true
   },
   "source": [
    "As you see, the data has been segmented and converted to IPA at the same time, which is very convenient, if the original data is not very well-represented in form of phonetic transcriptions. If you want to convert all segments in your data at once, thus modifying your Wordlist, you can do this in a very convenient way, using the ```wordlist.add_entries``` function: "
   ]
  },
  {
   "cell_type": "code",
   "execution_count": 5,
   "metadata": {
    "collapsed": false,
    "deletable": true,
    "editable": true
   },
   "outputs": [
    {
     "name": "stderr",
     "output_type": "stream",
     "text": [
      "2017-11-11 09:22:28,992 [INFO] Data has been written to file <polynesian-new-segments.tsv>.\n"
     ]
    }
   ],
   "source": [
    "wl.add_entries('new_segments', 'form', tk, column=\"IPA\")\n",
    "wl.output('tsv', filename='polynesian-new-segments', ignore='all')"
   ]
  },
  {
   "cell_type": "markdown",
   "metadata": {
    "deletable": true,
    "editable": true
   },
   "source": [
    "In order to check how well the data has been converted, you could either open the output file ```polynesian-new-segments.tsv``` in a text editor or your favorite spreadsheet editor. You could also open the EDICTOR tool in your browser at [http://edictor.digling.org](http://edictor.digling.org) and drag the file into the BROWSE window, where you have many enhanced options on comparing and checking the data (for a recent EDICTOR tutorial, see [List 2017](:ref:List2017LECTUREc)).\n",
    "\n",
    "If you want to check, how well the data has been converted so that LingPy can link the sounds to its internal representation, you can also do this with help of the ```check_tokens``` method:"
   ]
  },
  {
   "cell_type": "code",
   "execution_count": 6,
   "metadata": {
    "collapsed": false,
    "deletable": true,
    "editable": true
   },
   "outputs": [
    {
     "name": "stdout",
     "output_type": "stream",
     "text": [
      "Error in position 2: «'»\n"
     ]
    }
   ],
   "source": [
    "from lingpy.sequence.sound_classes import check_tokens\n",
    "tokens = \"v a ' h u\".split(' ')\n",
    "errors = check_tokens(tokens)\n",
    "for error in errors:\n",
    "    print('Error in position {0[0]}: «{0[1]}»'.format(error))"
   ]
  },
  {
   "cell_type": "markdown",
   "metadata": {
    "deletable": true,
    "editable": true
   },
   "source": [
    "If you want to do this for all entries in your list, just iterate over all tokens, and store the errors in a dictionary, where you can also count them:"
   ]
  },
  {
   "cell_type": "code",
   "execution_count": 7,
   "metadata": {
    "collapsed": false,
    "deletable": true,
    "editable": true
   },
   "outputs": [
    {
     "name": "stdout",
     "output_type": "stream",
     "text": [
      "0\n"
     ]
    }
   ],
   "source": [
    "from collections import defaultdict\n",
    "errors = defaultdict(int)\n",
    "for idx, tks in wl.iter_rows('tokens'):\n",
    "    for error in check_tokens(tks):\n",
    "        errors[error[1]] += 1\n",
    "print(len(errors))"
   ]
  },
  {
   "cell_type": "markdown",
   "metadata": {
    "deletable": true,
    "editable": true
   },
   "source": [
    "Luckily, we do not have any errors in our data."
   ]
  },
  {
   "cell_type": "markdown",
   "metadata": {
    "deletable": true,
    "editable": true
   },
   "source": [
    "### 2.5 Checking Coverage\n",
    "\n",
    "For cognate detection, it is not only important to have good phonetic transcriptions (ideally segmented in such a form that they were checked by an experienced linguist), but also to make sure that there are **enough words** in your data. If the data is too sparse, even human linguists would not be able to find any signal based on regular sound correspondences, provided they see the languages the first time and don't know their history (which is the situation for every algorithm). Following an earlier study by [List (2014b)](:ref:List2014c), we know now that at least 100 word pairs for languages as disparate as English and French are needed to provide a solid basis for automatic cognate detection. But when dealing with a large dataset of different languages, which necessarily contains a number of gaps (not all concepts can be elicited in the sources, field work has not provided enough details, etc.), it can be deleterious if the *mutual coverage* between the languages is low. \n",
    "\n",
    "By mutual coverage, I mean the number of comparable word pairs (with the same concept) for each language pair in a given dataset. We can compare different aspects of mutual coverage, such as the *average mutual coverage*, where we average the number of available word pairs, or the *minimal mutual coverage*, which provides the smallest mutual coverage of any pair of languages. In addition, one can also ask for the subset fulfilling a minimal mutual coverage for all language pairs, and this task would return the subset of languages in a `Wordlist` which all have at least the mutual coverage specified by the user. LingPy offers now (in version 2.5.1) solutions for all these problems, but since the last problem is considerably hard and computationally intensive, we won't discuss it here, but will instead simply check the minimal mutual coverage which holds for all languages in our sample. So we try to find the lower bound of concept pairs which all languages have in common (type ```$ python3 autocogs.py coverage1``` in command line)."
   ]
  },
  {
   "cell_type": "code",
   "execution_count": 8,
   "metadata": {
    "collapsed": false,
    "deletable": true,
    "editable": true
   },
   "outputs": [
    {
     "name": "stdout",
     "output_type": "stream",
     "text": [
      "Minimal mutual coverage is at 162 concept pairs.\n"
     ]
    }
   ],
   "source": [
    "from lingpy.compare.util import (\n",
    "    mutual_coverage_check, mutual_coverage_subset)\n",
    "for i in range(210, 0, -1):\n",
    "    if mutual_coverage_check(wl, i):\n",
    "        print(\n",
    "            \"Minimal mutual coverage is at {0} concept pairs.\".format(i))\n",
    "        break"
   ]
  },
  {
   "cell_type": "markdown",
   "metadata": {
    "deletable": true,
    "editable": true
   },
   "source": [
    "This value is definitely good enough for our purpose, given the rule of thumb which says that below a minimal mutual coverage of 100 one should not do language-specific cognate detection analyses. If the coverage is lower, this does not mean you need to give up automatic cognate detection, but it means you should not use the language-specific `LexStat` method but rather a language-independent method, which does not require the information on potential sound correspondences (but will also tend to identify more false positives).\n",
    "\n",
    "Although, as I just said, the value is good enough, we should further reduce the data a bit to make sure we can inspect them better later on (otherwise, the analyses may also take a lot of time if you run them on computers with insufficient power). So what we will do right now is testing the `mutual_coverage_subset` method which returns a subset of languages for which a given minimal mutual coverage holds. We will then export our `Wordlist` object to file by specifying these languages as our subset (type ```$ python3 autocogs.py coverage2``` in command line):"
   ]
  },
  {
   "cell_type": "code",
   "execution_count": 9,
   "metadata": {
    "collapsed": false,
    "deletable": true,
    "editable": true
   },
   "outputs": [
    {
     "name": "stdout",
     "output_type": "stream",
     "text": [
      "Found 13 languages with an average mutual coverage of 207.\n"
     ]
    },
    {
     "name": "stderr",
     "output_type": "stream",
     "text": [
      "2017-11-11 09:22:30,326 [INFO] Data has been written to file <polynesian-small.tsv>.\n"
     ]
    },
    {
     "name": "stdout",
     "output_type": "stream",
     "text": [
      "Wordlist has 13 languages and 210 concepts in 3400 words.\n"
     ]
    }
   ],
   "source": [
    "count, results = mutual_coverage_subset(wl, 200)\n",
    "coverage, languages = results[0]\n",
    "print(\n",
    "    'Found {0} languages with an average mutual coverage of {1}.'.format(\n",
    "        count, coverage))\n",
    "\n",
    "# write word list to file\n",
    "wl.output(\"tsv\", filename=\"polynesian-small\",\n",
    "          subset=True, rows=dict(doculect = \"in \"+str(languages)))\n",
    "\n",
    "# load the smaller word list\n",
    "wl = Wordlist('polynesian-small.tsv')\n",
    "\n",
    "# print basic characteristics\n",
    "print(\n",
    "    \"Wordlist has {0} languages and {1} concepts in {2} words.\".format(\n",
    "        wl.width, wl.height, len(wl)))"
   ]
  },
  {
   "cell_type": "markdown",
   "metadata": {
    "deletable": true,
    "editable": true
   },
   "source": [
    "We could not further work with this selection of languages with a very high coverage, and it is always recommended to do so when working on diverse languages samples. For our further tests, however, we will restrict our selection of languages to another subset, namely the East Polynesian languages. Let us now extract those languages from the data (based on their language names) and then see how good the coverage is for this subset."
   ]
  },
  {
   "cell_type": "code",
   "execution_count": 10,
   "metadata": {
    "collapsed": false,
    "deletable": true,
    "editable": true
   },
   "outputs": [
    {
     "name": "stderr",
     "output_type": "stream",
     "text": [
      "2017-11-11 09:22:30,932 [INFO] Data has been written to file <east-polynesian.tsv>.\n"
     ]
    },
    {
     "name": "stdout",
     "output_type": "stream",
     "text": [
      "East Polynesian data has 210 concepts and 10 languages.\n"
     ]
    }
   ],
   "source": [
    "eastern = ['North_Marquesan', 'Ra’ivavae', 'Rurutuan', \n",
    "            'Tahitian', 'Sikaiana', 'Maori', 'Hawaiian',\n",
    "            'Mangareva', 'Tuamotuan', 'Rapanui'] \n",
    "wl = Wordlist('polynesian.tsv')\n",
    "wl.output('tsv', filename='east-polynesian', subset=True,\n",
    "            rows=dict(doculect = 'in '+str(eastern)))\n",
    "\n",
    "wl = Wordlist('east-polynesian.tsv')\n",
    "print(\n",
    "    \"East Polynesian data has {0} concepts and {1} languages.\".format(\n",
    "        wl.height, wl.width))"
   ]
  },
  {
   "cell_type": "markdown",
   "metadata": {
    "deletable": true,
    "editable": true
   },
   "source": [
    "Let us now repeat the coverage experiment from above, but this time with the Eastern Polynesian language data."
   ]
  },
  {
   "cell_type": "code",
   "execution_count": 11,
   "metadata": {
    "collapsed": false,
    "deletable": true,
    "editable": true
   },
   "outputs": [
    {
     "name": "stdout",
     "output_type": "stream",
     "text": [
      "Minimal mutual coverage is at 179 concept pairs.\n"
     ]
    }
   ],
   "source": [
    "for i in range(210, 0, -1):\n",
    "    if mutual_coverage_check(wl, i):\n",
    "        print(\"Minimal mutual coverage is at {0} concept pairs.\".format(i))\n",
    "        break"
   ]
  },
  {
   "cell_type": "markdown",
   "metadata": {
    "deletable": true,
    "editable": true
   },
   "source": [
    "Note that this coverage is much less than the coverage we encountered above. Nevertheless, for our purpose it will be good enough, and the rule of thumb for closely related languages, which says, that we need more than 150 concepts mutually shared between each language pair holds.\n"
   ]
  },
  {
   "cell_type": "markdown",
   "metadata": {
    "deletable": true,
    "editable": true
   },
   "source": [
    "### 2.6 Checking for Synonyms\n",
    "\n",
    "Extreme number of synonyms per concepts may drastically confuse the algorithms, so we should check and make sure that we do not have too many of them in our data. This can be conveniently done in Python:"
   ]
  },
  {
   "cell_type": "code",
   "execution_count": 12,
   "metadata": {
    "collapsed": false,
    "deletable": true,
    "editable": true
   },
   "outputs": [
    {
     "name": "stdout",
     "output_type": "stream",
     "text": [
      "North_Marquesan  to fall       6\n",
      "Rapanui          and           4\n",
      "Tuamotuan        belly         4\n",
      "North_Marquesan  man/male      4\n",
      "North_Marquesan  small         4\n",
      "Tuamotuan        to blow       4\n",
      "Rapanui          to cut, hack  4\n",
      "Tuamotuan        to fall       4\n",
      "North_Marquesan  to hit        4\n",
      "Tuamotuan        to hit        4\n",
      "Maori            we            4\n",
      "Tahitian         we            4\n",
      "Sikaiana         we            4\n",
      "North_Marquesan  we            4\n",
      "Ra’ivavae        we            4\n",
      "Rurutuan         we            4\n",
      "Hawaiian         we            4\n"
     ]
    }
   ],
   "source": [
    "from collections import defaultdict\n",
    "synonyms = defaultdict(int)\n",
    "for idx, language, concept in wl.iter_rows('doculect', 'concept'):\n",
    "    synonyms[language, concept] += 1\n",
    "for (language, concept), count in sorted(\n",
    "    synonyms.items(), key=lambda x: x[1], reverse=True):\n",
    "    if count > 3:\n",
    "        print('{0:15}  {1:12}  {2}'.format(language, concept, count))\n"
   ]
  },
  {
   "cell_type": "markdown",
   "metadata": {
    "deletable": true,
    "editable": true
   },
   "source": [
    "You can see that we have some cases which we should be careful about. There are many ways to fall, but six words for \"to fall\" in North Marquesan are surely not satisfying."
   ]
  },
  {
   "cell_type": "markdown",
   "metadata": {
    "deletable": true,
    "editable": true
   },
   "source": [
    "## 3 Phonetic Alignment\n",
    "\n",
    "In the main tutorial text, we explain the major aspects of alignment analyses. We won't repeat them here and recommend you to read them carefully in the main document instead. What we want to do here is quickly run you through the major aspects of alignments in LingPy. We will start with pairwise alignments and then introduce multiple alignments. Since multiple alignments are based on pairwise alignments, the major aspects, such as the scoring function, the gap function, and the representation of sound classes, are something you should always keep in mind, especially when you find that automatic alignments do not conform to your expectations.\n"
   ]
  },
  {
   "cell_type": "markdown",
   "metadata": {
    "deletable": true,
    "editable": true
   },
   "source": [
    "### 3.1 Pairwise Alignment\n",
    "\n"
   ]
  },
  {
   "cell_type": "markdown",
   "metadata": {
    "deletable": true,
    "editable": true
   },
   "source": [
    "#### 3.1.1 Scoring Function\n",
    "\n",
    "The scoring function in pairwise alignments determines how segments are compared with each other. If the score is high, this means that the sounds are judged to be likely to be related, if it is below 0 (that is, if it has a negative score) this means that it is assumed that a relationship is unlikely. Scoring functions in LingPy are usually stored in so-called sound-class models. We will introduce sound classes in detail in the next section, so here it should be enough to mention that our scorers are not defined for pure IPA segments, but rather for subsets,  which make it more convenient to define scores for dissimilarities. Instead of comparing `[`tʰ`]` with `[`tʃ`]`, we internally compare ```T``` with ```C```, which is faster to compute, but also easier to define. In the following, we will work with the SCA-scorer, a scorer for the scoring function underlying the SCA algorithm ([List 2014](:ref:List2014d)). We can easily load the scorer in the following way:"
   ]
  },
  {
   "cell_type": "code",
   "execution_count": 13,
   "metadata": {
    "collapsed": true,
    "deletable": true,
    "editable": true
   },
   "outputs": [],
   "source": [
    "scorer = rc('sca')"
   ]
  },
  {
   "cell_type": "markdown",
   "metadata": {
    "deletable": true,
    "editable": true
   },
   "source": [
    "In order to test, how a given sound class compares to another one, we can conveniently call the scorer:"
   ]
  },
  {
   "cell_type": "code",
   "execution_count": 14,
   "metadata": {
    "collapsed": false,
    "deletable": true,
    "editable": true
   },
   "outputs": [
    {
     "name": "stdout",
     "output_type": "stream",
     "text": [
      "P T 0.0\n",
      "P C 0.0\n",
      "P I -10.0\n",
      "T T 10.0\n",
      "T C 6.0\n",
      "T I -10.0\n",
      "A T -10.0\n",
      "A C -10.0\n",
      "A I 4.0\n",
      "E T -10.0\n",
      "E C -10.0\n",
      "E I 4.0\n"
     ]
    }
   ],
   "source": [
    "for symA in 'PTAE':\n",
    "    for symB in 'TCI':\n",
    "        print(symA, symB, scorer(symA, symB))"
   ]
  },
  {
   "cell_type": "markdown",
   "metadata": {
    "deletable": true,
    "editable": true
   },
   "source": [
    "You can see, that, as a rule, vowels (```AEI```) and consonants (```PTC```) always get -10 as score. If consonants are not judged to be similar, they get a zero, but if we assume that there is a certain likelihood that sound change will create sound correspondences across classes, the scorer gives more detailed scores."
   ]
  },
  {
   "cell_type": "markdown",
   "metadata": {
    "deletable": true,
    "editable": true
   },
   "source": [
    "#### 3.1.2 Sound Classes \n",
    "\n",
    "Above, I wrote that LingPy takes care of the *word form* as one of the units of the linguistic sign in the classical \"Saussurean\" model. But how can we know whether LingPy recognizes a symbol or not? For this, we need to understand what LingPy does internally with word forms. Here, LingPy follows [Dolgopolsky's (1964)](:ref:Dolgopolsky1964) idea of \"sound classes\", namely the idea that we can break down the complexity inherent in phonetic transcription to some major classes of sounds so that those sounds represent some kind of a coherent unit. Dolgopolsky was thinking of sounds which often occur in correspondence relation to each other, assuming that there is a certain sound-correspondence probability inherent in all sounds (see also [Brown, Holman, and Wichmann 2013](:ref:Brown2013)). In my experience so far, this is definitely one important aspect, but even more important is the role of reducing variation which is unnecessary for historical comparison while at the same time maintaining a sufficient degree of distinctiveness. For this reason, I expanded Dolgopolsky's original system of only 10 sound classes to as many as 25 sound classes, and LingPy further offers the alphabet which was used for the [ASJP project](http://asjp.org) ([Wichmann, Holman, and Brown 2014](Wichmann2014)), which consists of 40 symbols in a slightly modified version. The following image illustrates the differences between these sound class alphabets and also shows how they represent the Greek word for \"daughter\".\n",
    "\n",
    "![image](soundclasses.jpg)\n",
    "\n",
    "How can we represent sound classes in LingPy? There is one main function that converts a segmented sound sequence into sound classes. This function `tokens2class` takes as input a list or a tuple of segments, that is, the output which you would also get when calling `ipa2tokens`, and a valid sound class model. You can theoretically create models yourself, and pass them as an instance of a specific `Model` class in LingPy, but for the moment, we will only use the ones which are there and denote them with strings, i.e., `dolgo` for Dolgopolsky's model, `sca` for my expanded model of Dolgopolsky, and `asjp` for the ASJP model). Let's just take these three and another specific model, called `art` (for \"articulation\") which gives numbers to indicate the prosody of sounds, and convert the word Greek `[`θiɣatɛra`]` into the different sound class systems (you can also trigger this by typing ```$ python3 autocogs.py classes``` in the command line).\n",
    "\n"
   ]
  },
  {
   "cell_type": "code",
   "execution_count": 15,
   "metadata": {
    "collapsed": false,
    "deletable": true,
    "editable": true
   },
   "outputs": [
    {
     "name": "stdout",
     "output_type": "stream",
     "text": [
      "θiɣatɛra  ->  TVKVTVRV (dolgo)\n",
      "θiɣatɛra  ->  DIGATERA (sca)\n",
      "θiɣatɛra  ->  8ixatEra (asjp)\n",
      "θiɣatɛra  ->  37371757 (art)\n"
     ]
    }
   ],
   "source": [
    "word = \"θiɣatɛra\"\n",
    "segs = ipa2tokens(word)\n",
    "\n",
    "# iterate over sound class models and write them in converted version \n",
    "for model in ['dolgo', 'sca', 'asjp', 'art']:\n",
    "    print(word, ' -> ', ''.join(tokens2class(segs, model)), '({0})'.format(model))"
   ]
  },
  {
   "cell_type": "markdown",
   "metadata": {
    "deletable": true,
    "editable": true
   },
   "source": [
    "#### 3.1.3 Gap Function\n",
    "\n",
    "So far, we have not even aligned a sequence pair, but introduced sound classes and the scoring function. Let us now, in order to illustrate the gap function, and why it may be important, make our first pairwise alignment in LingPY. The gap penalty is the so-called gap-open-penalty, and it is triggered by changing the ```gop``` keyword when aligning two words in the ```Pairwise``` class:\n",
    "\n"
   ]
  },
  {
   "cell_type": "code",
   "execution_count": 16,
   "metadata": {
    "collapsed": false,
    "deletable": true,
    "editable": true
   },
   "outputs": [
    {
     "name": "stdout",
     "output_type": "stream",
     "text": [
      "ʔ\toː\tɢ\tu\ta\n",
      "k\toː\tr\tu\ta\n",
      "19.5\n"
     ]
    }
   ],
   "source": [
    "pair = Pairwise('ʔ oː ɢ u a', 'k oː r u a')\n",
    "pair.align(gop=-1)\n",
    "print(pair)"
   ]
  },
  {
   "cell_type": "markdown",
   "metadata": {
    "deletable": true,
    "editable": true
   },
   "source": [
    "The sequences align as expected (the score in the last row indicates the overall similarity), but we know that the default scorer of LingPy does not approve of the similarity between `[`ɢ`]` and `[`r`]`. Instead it would favor linking the former with `[`k`]`. If we trigger the gap opening penalty, this thus may change the alignment:"
   ]
  },
  {
   "cell_type": "code",
   "execution_count": 17,
   "metadata": {
    "collapsed": false,
    "deletable": true,
    "editable": true
   },
   "outputs": [
    {
     "name": "stdout",
     "output_type": "stream",
     "text": [
      "ʔ\toː\tɢ\t-\t-\tu\ta\n",
      "-\t-\tk\toː\tr\tu\ta\n",
      "23.0\n"
     ]
    }
   ],
   "source": [
    "pair = Pairwise('ʔ oː ɢ u a', 'k oː r u a')\n",
    "pair.align(gop=-0.5)\n",
    "print(pair)"
   ]
  },
  {
   "cell_type": "markdown",
   "metadata": {
    "deletable": true,
    "editable": true
   },
   "source": [
    "#### 3.1.4 Alignment mode\n",
    "\n",
    "In the main text introducing the tutorial, we give examples in Figure 3D for different output produced from the alignment mode. Let us replicate this here (note that \"overlap\" is the keyword you need to use if you want to make \"semi-global\" alignments):"
   ]
  },
  {
   "cell_type": "code",
   "execution_count": 18,
   "metadata": {
    "collapsed": false,
    "deletable": true,
    "editable": true
   },
   "outputs": [
    {
     "name": "stdout",
     "output_type": "stream",
     "text": [
      "ʔ\toː\tɢ\tu\ta\n",
      "k\toː\tr\tu\ta\n",
      "19.5\n",
      "---\n",
      "ɢ\t-\t-\tu\ta\n",
      "k\toː\tr\tu\ta\n",
      "20.850000381469727\n",
      "---\n",
      "ʔ\toː\tɢ\t-\t-\tu\ta\n",
      "-\t-\tk\toː\tr\tu\ta\n",
      "20.850000381469727\n",
      "---\n"
     ]
    }
   ],
   "source": [
    "pair = Pairwise('ʔ oː ɢ u a', 'k oː r u a')\n",
    "for mode in ['global', 'local', 'overlap']:\n",
    "    pair.align(mode=mode)\n",
    "    print(pair)\n",
    "    print('---')"
   ]
  },
  {
   "cell_type": "markdown",
   "metadata": {
    "deletable": true,
    "editable": true
   },
   "source": [
    "### 3.2 Multiple Alignment\n",
    "\n",
    "Phonetic alignment is *per se* independent of the existence of any word list data. Instead, it is a way to align phonetic sequences (words in phonetic transcription) in various ways. Phonetic alignment is an important pre-requisite in order to identify regular sound correspondences. Regular sound correspondences again are important to identify cognates (at least in the classical framework of the comparative method). In addition, alignment analyses are useful in presenting one's analyses in a transparent way, since, unfortunately, scholar often think that their cognate judgments are self-evident, ignoring that a linguist with another language family as their specialty will barely be able to follow the idiosyncratic discourse on language-family-specific sound change patterns and the like. \n",
    "\n",
    "In order to carry out alignment analyses in LingPy, you have a range of different possibilities, and there won't be the time to cover all of them here. Instead, I will illustrate how you can make a quick multiple alignment using the ```Multiple``` class of LingPy. This class is automatically imported when importing LingPy, and it requires a list of sequences as input. Here again, LingPy will automatically try to split your input sequences if they are not already segmentized, but we advise you to segmentize them properly before. We use four words for \"dog\" in Polynesian languages (Samoan, Hawaiian, North Marquesan, and Anuta). We do not type them in by pre-segmenting them, but rather tell LingPy to treat vowels not as dipthongs. We start with the simplest method, the *progressive alignment*, which first makes a little tree of the input sequences and then aligns them by going the tree from the leaves to the root, every time aligning two more until all are aligned:"
   ]
  },
  {
   "cell_type": "code",
   "execution_count": 19,
   "metadata": {
    "collapsed": false,
    "deletable": true,
    "editable": true
   },
   "outputs": [
    {
     "name": "stdout",
     "output_type": "stream",
     "text": [
      "ʔ\tu\tl\ti\t-\n",
      "ʔ\ti\tl\ti\to\n",
      "k\tu\tʔ\ti\t-\n",
      "k\to\tr\ti\t-\n"
     ]
    }
   ],
   "source": [
    "msa = Multiple(['ʔuli', 'ʔilio', 'kuʔi', 'kori'], merge_vowels=False)\n",
    "print(msa.align('progressive'))"
   ]
  },
  {
   "cell_type": "markdown",
   "metadata": {
    "deletable": true,
    "editable": true
   },
   "source": [
    "There are more complicated algorithms available, for example, library-based alignment, following the T-Coffee algorithm ([Notredame et al. 2000](:ref:Notredame2000), based on a so-called \"library\" which is created before the tree is built. "
   ]
  },
  {
   "cell_type": "code",
   "execution_count": 20,
   "metadata": {
    "collapsed": false,
    "deletable": true,
    "editable": true
   },
   "outputs": [
    {
     "name": "stdout",
     "output_type": "stream",
     "text": [
      "ʔ\tu\tl\ti\t-\n",
      "ʔ\ti\tl\ti\to\n",
      "k\tu\tʔ\ti\t-\n",
      "k\to\tr\ti\t-\n"
     ]
    }
   ],
   "source": [
    "print(msa.align('library'))"
   ]
  },
  {
   "cell_type": "markdown",
   "metadata": {
    "deletable": true,
    "editable": true
   },
   "source": [
    "The results are still the same, which is not really surprising, given that this alignment is not very challenging, but it was shown in [List (2014)](:ref:List2014d) that this algorithm largely enhances more complex alignments.\n",
    "\n",
    "As mentioned before, the algorithms make use of a specific guide tree along with the sequences are consecutively aligned. In order to check how this guide tree looks like, you can do the following:"
   ]
  },
  {
   "cell_type": "code",
   "execution_count": 21,
   "metadata": {
    "collapsed": false,
    "deletable": true,
    "editable": true
   },
   "outputs": [
    {
     "name": "stdout",
     "output_type": "stream",
     "text": [
      "                              /-HYLI\n",
      "                    /edge.0--|\n",
      "          /edge.1--|          \\-HILIU\n",
      "         |         |\n",
      "-root----|          \\-KYHI\n",
      "         |\n",
      "          \\-KURI\n"
     ]
    }
   ],
   "source": [
    "print(msa.tree.asciiArt())"
   ]
  },
  {
   "cell_type": "markdown",
   "metadata": {
    "deletable": true,
    "editable": true
   },
   "source": [
    "As you can see, the algorithm guide tree shows the sound-class reresentation of the words as the leaves of the tree. From there, it is probably also quite easy to see how the algorithm arrives at the cluster decision."
   ]
  },
  {
   "cell_type": "markdown",
   "metadata": {
    "deletable": true,
    "editable": true
   },
   "source": [
    "## 4 Cognate Detection\n",
    "\n",
    "### 4.1 Checking the Data\n",
    "\n",
    "I assume that you have thoroughly checked your data manually before running cognate detection analyses. I also assume that you do not have any of the following problems in your data:\n",
    "\n",
    "* an extensive number of synonyms in one language\n",
    "* multiple variant forms for the same word form\n",
    "* data merged from different sources without adjusting the phonetic transcription\n",
    "* mutual coverage below 100 words per language pair\n",
    "\n",
    "Before running the cognate detection analysis, you may, however, still want to check whether LingPy recognizes all your data correctly. Here, a very simple way to achieve this is to load the `LexStat` class with the specific keyword `check` set to `True`:"
   ]
  },
  {
   "cell_type": "code",
   "execution_count": 22,
   "metadata": {
    "collapsed": false,
    "deletable": true,
    "editable": true
   },
   "outputs": [
    {
     "name": "stderr",
     "output_type": "stream",
     "text": [
      "2017-11-11 09:22:32,394 [INFO] No obvious errors found in the data.\n"
     ]
    }
   ],
   "source": [
    "lex = LexStat('east-polynesian.tsv', check=True, segments='tokens')"
   ]
  },
  {
   "cell_type": "markdown",
   "metadata": {
    "collapsed": true,
    "deletable": true,
    "editable": true
   },
   "source": [
    "If you have problems in your data encoding, you will be asked if you want to exclude the sequences automatically. As a result, a logfile, called `errors.log` will be created and point you to all erroneous sequences which contain segments which LingPy does not recognize. Let us quickly introduce some bad sequences by just converting randomly all `[`e`]` sounds to the letter A (capitals are never accepted in the normal sound class models of LingPy) and see what we get then. For this, we even do not need to re-write the data, we just add another row where we change the content, give it a random name (we call it \"tokens\", as this also signals LingPy that the input should be treated as a sequence and not as a string), and specify this for the `LexStat` instance method as the column in the file where the `segments` are. We first load the data as `Wordlist` and then pass that data directly to `LexStat` (```$ python3 autocogs.py trigger-errors``` in command line):"
   ]
  },
  {
   "cell_type": "code",
   "execution_count": 23,
   "metadata": {
    "collapsed": false,
    "deletable": true,
    "editable": true
   },
   "outputs": [
    {
     "name": "stderr",
     "output_type": "stream",
     "text": [
      "2017-11-11 09:22:32,897 [INFO] Data has been written to file <errors.log>.\n"
     ]
    },
    {
     "name": "stdout",
     "output_type": "stream",
     "text": [
      "There were errors in the input data - exclude them? [y/N] y\n"
     ]
    },
    {
     "name": "stderr",
     "output_type": "stream",
     "text": [
      "2017-11-11 09:22:42,980 [INFO] Data has been written to file <lingpy-2017-11-11_cleaned.tsv>.\n",
      "2017-11-11 09:22:43,057 [INFO] No obvious errors found in the data.\n"
     ]
    }
   ],
   "source": [
    "wl = Wordlist('east-polynesian.tsv')\n",
    "\n",
    "# add new column \"segments\" and replace data from column \"tokens\"\n",
    "wl.add_entries('segments', 'tokens', lambda x: ['A' if y == 'e' else y for y in x])\n",
    "\n",
    "lex = LexStat(wl, segments='segments', check=True)"
   ]
  },
  {
   "cell_type": "markdown",
   "metadata": {
    "deletable": true,
    "editable": true
   },
   "source": [
    "If you now check the file `errors.log`, you will find a long file with the following first ten lines:\n",
    "\n",
    "```text\n",
    "ID\tTokens\tError-Type\n",
    "1572\t<bad character in tokens at «A»>\tg a t o a A l i m a\n",
    "3320\t<bad character in tokens at «A»>\tp a A _ ʔ a ʔ u r u\n",
    "5145\t<bad character in tokens at «A»>\tl i m a s A f u l u\n",
    "5696\t<bad character in tokens at «A»>\tr i m a _ t A k a u\n",
    "12\t<bad character in tokens at «A»>\tp a A\n",
    "3327\t<bad character in tokens at «A»>\tp a A\n",
    "5153\t<bad character in tokens at «A»>\tA _ f aː\n",
    "```\n",
    "\n",
    "Each row starts with the ID of the word which is contaminated (and this links to the row-ID of your input file), it is followed by a description of the error-type, and then by a segmented form of the word form. LingPy then also creates a file called `lingpy-DATE-cleaned.tsv` (`DATE` meaning the date of the day you run LingPy), in which all contaminated words have been excluded, and this file is read in again, if you pressed \"y\", and will be the one to run the analysis. \n",
    "\n",
    "LingPy thus tries to make the enterprise of cognate detection quite convenient for you as a user, but you should be warned not to use files containing errors for publications, but only for personal test purposes, in order to improve your data. If LingPy does not recognize characters, you should not globally exclude them as a reaction, but should instead try to improve your data until it is publication-ready. Otherwise, the results will much likely be disappointing anyway."
   ]
  },
  {
   "cell_type": "markdown",
   "metadata": {
    "deletable": true,
    "editable": true
   },
   "source": [
    "In LingPy, the methods which you can use to carry out these analyses have specific names, as well as the default output, a cluster decision represented as an integer identifier that assigns words to clusters. They are given in the table below:\n",
    "\n",
    "Class | Alignments? | Sound Classes? | Sound Correspondences? | Threshold?| LingPy-Name | LingPy-Output | Note\n",
    "--- | --- | --- | --- | --- | ---\n",
    "CCM | no | yes | no | no | \"turchin\" | \"turchinid\" | Consonant-class matching method close to the description in [Turchin et al. (2010)](:ref:Turchin2010))\n",
    "PSSP | yes | no | no | yes | \"edit-dist\" | \"editid\" | Vanilla edit-distance ([Levenshtein 1965](:ref:Levenshtein1965)), normalized by dividing with the longer string.\n",
    "PSSP | yes | yes | no | yes | \"sca\" | \"scaid\" | Distance score derived from SCA alignments ([List 2012a](:ref:List2012b)) by applying [Downey et al.'s (2008)](:ref:Downey2008) formula\n",
    "LSSP | yes | yes | yes | yes | \"lexstat\" | \"lexstatid\" | The core \"LexStat\" algorithm described in List ([2012b](:ref:List2012a) and [2014](:ref:List2014d))\n",
    "\n",
    "As a general rule, you should keep the following in mind (see also our experience with these methods in [List, Greenhill, and Gray (2017)](:ref:List2017c):\n",
    "\n",
    "1. if you want a fast first analysis and speed counts, take \"turchin\" (Dolgopolsky method), since it has a low amount of false positives, but it will also miss many cognates\n",
    "2. if speed does not matter and you have enough concepts (> 100) in your data, and you want to have the most reliable analysis, take \"lexstat\"\n",
    "3. if you have less than 100 concepts, and speed does not really matter, take \"sca\", as it yields consistently better results as the \"turchin\" method\n",
    "\n",
    "### 4.3 Running the Analysis\n",
    "\n",
    "Let us now, before we sink too much into the details, just start and do all four analyses on our `mikronesian.tsv` test data. Note that due to the permutation approach used by the \"lexstat\" method, we will need to write two commands here, while we need only one command for the other three methods. We start by loading the data into the `LexStat` class and will then run the \"turchin\" analyses for the start, and we then print out the results for the item \"Eight\" (```$ python3 autocogs.py cognates-turchin``` in command line):"
   ]
  },
  {
   "cell_type": "markdown",
   "metadata": {
    "deletable": true,
    "editable": true
   },
   "source": [
    "\n",
    "### 4.2 Overview on Algorithms\n",
    "\n",
    "LingPy comes along with four pre-defined cognate detection algorithms. These algorithms are all contained in the `LexStat` class which often confuses users, as one of the algorithms provided by `LexStat` is also called `lexstat`. Internally, however, it makes sense, as all algorithms were created at the same time, when I published the LexStat algorithm ([List 2012b](:ref:List2012a)), so I would write it into one class which I called \"LexStat\" and for the paper, I then also decided to call the algorithm \"LexStat\" since I could not think of a better name.\n",
    "\n",
    "*Tiago - I must admit that the fact the both the class and the algorithm are called `lexstat` confused me once, too. There is a lot of compatibility in place, but maybe there should be a wrapper or an alias to one of them? Your surname might not be the best alternative (`list`), but an alias as `jmlist` should be enough. You could also base the name in a description of its difference, such as in the pairwise comparisons, permutations, or in the difference between attested and expected frequencies.*\n",
    "\n",
    "Anyway, when carrying out cognate detection algorithms, it is important to keep in mind what these algorithms are based on. We can distinguish the following three major types:\n",
    "\n",
    "1. consonant-class-matching (CCM), following Dolgopolky's (1964) early idea to assume that words with two matching consonant classes would likely be cognate,\n",
    "2. phenotypic sequence similarity partitioning (PSSP), follows the general idea also applied in homology detection in biology, by which sequences are clustered into sets of homologs based on a partitioning algorithm which is applied to a distance or a similarity matrix representing the overall sequence similarity,\n",
    "3. language-specific sequence similarity partitioning (LSSP), follows the core idea of the LexStat algorithm by which sequence similarity is calculated on a language-specific basis for each language pair in the data, based on permutation statistics which give hints regarding the most likely candidates for regular sound correspondences.\n"
   ]
  },
  {
   "cell_type": "code",
   "execution_count": 24,
   "metadata": {
    "collapsed": false,
    "deletable": true,
    "editable": true
   },
   "outputs": [
    {
     "name": "stderr",
     "output_type": "stream",
     "text": [
      "2017-11-11 09:22:43,402 [INFO] No obvious errors found in the data.\n",
      "SEQUENCE CLUSTERING:   0%|          | 0/210 [00:00<?, ?it/s]2017-11-11 09:22:43,786 [INFO] Analyzing words for concept <Eight>.\n",
      "2017-11-11 09:22:43,788 [INFO] Analyzing words for concept <Fifty>.\n",
      "2017-11-11 09:22:43,790 [INFO] Analyzing words for concept <Five>.\n",
      "2017-11-11 09:22:43,792 [INFO] Analyzing words for concept <Four>.\n",
      "2017-11-11 09:22:43,795 [INFO] Analyzing words for concept <I>.\n",
      "2017-11-11 09:22:43,799 [INFO] Analyzing words for concept <Nine>.\n",
      "2017-11-11 09:22:43,801 [INFO] Analyzing words for concept <One>.\n",
      "2017-11-11 09:22:43,804 [INFO] Analyzing words for concept <One Hundred>.\n",
      "2017-11-11 09:22:43,807 [INFO] Analyzing words for concept <One Thousand>.\n",
      "2017-11-11 09:22:43,810 [INFO] Analyzing words for concept <Seven>.\n",
      "2017-11-11 09:22:43,812 [INFO] Analyzing words for concept <Six>.\n",
      "2017-11-11 09:22:43,815 [INFO] Analyzing words for concept <Ten>.\n",
      "2017-11-11 09:22:43,819 [INFO] Analyzing words for concept <Three>.\n",
      "2017-11-11 09:22:43,822 [INFO] Analyzing words for concept <Twenty>.\n",
      "2017-11-11 09:22:43,824 [INFO] Analyzing words for concept <Two>.\n",
      "2017-11-11 09:22:43,827 [INFO] Analyzing words for concept <above>.\n",
      "2017-11-11 09:22:43,829 [INFO] Analyzing words for concept <all>.\n",
      "2017-11-11 09:22:43,832 [INFO] Analyzing words for concept <and>.\n",
      "2017-11-11 09:22:43,836 [INFO] Analyzing words for concept <ash>.\n",
      "2017-11-11 09:22:43,838 [INFO] Analyzing words for concept <at>.\n",
      "2017-11-11 09:22:43,842 [INFO] Analyzing words for concept <back>.\n",
      "2017-11-11 09:22:43,844 [INFO] Analyzing words for concept <bad, evil>.\n",
      "2017-11-11 09:22:43,847 [INFO] Analyzing words for concept <belly>.\n",
      "2017-11-11 09:22:43,853 [INFO] Analyzing words for concept <below>.\n",
      "2017-11-11 09:22:43,855 [INFO] Analyzing words for concept <big>.\n",
      "2017-11-11 09:22:43,859 [INFO] Analyzing words for concept <bird>.\n",
      "2017-11-11 09:22:43,861 [INFO] Analyzing words for concept <black>.\n",
      "2017-11-11 09:22:43,868 [INFO] Analyzing words for concept <blood>.\n",
      "2017-11-11 09:22:43,870 [INFO] Analyzing words for concept <bone>.\n",
      "2017-11-11 09:22:43,872 [INFO] Analyzing words for concept <branch>.\n",
      "2017-11-11 09:22:43,875 [INFO] Analyzing words for concept <breast>.\n",
      "2017-11-11 09:22:43,878 [INFO] Analyzing words for concept <child>.\n",
      "2017-11-11 09:22:43,882 [INFO] Analyzing words for concept <cloud>.\n",
      "SEQUENCE CLUSTERING:  16%|█▌        | 33/210 [00:00<00:00, 326.19it/s]2017-11-11 09:22:43,888 [INFO] Analyzing words for concept <cold>.\n",
      "2017-11-11 09:22:43,893 [INFO] Analyzing words for concept <correct, true>.\n",
      "2017-11-11 09:22:43,898 [INFO] Analyzing words for concept <day>.\n",
      "2017-11-11 09:22:43,902 [INFO] Analyzing words for concept <dirty>.\n",
      "2017-11-11 09:22:43,905 [INFO] Analyzing words for concept <dog>.\n",
      "2017-11-11 09:22:43,909 [INFO] Analyzing words for concept <dry>.\n",
      "2017-11-11 09:22:43,912 [INFO] Analyzing words for concept <dull, blunt>.\n",
      "2017-11-11 09:22:43,915 [INFO] Analyzing words for concept <dust>.\n",
      "2017-11-11 09:22:43,919 [INFO] Analyzing words for concept <ear>.\n",
      "2017-11-11 09:22:43,921 [INFO] Analyzing words for concept <earth/soil>.\n",
      "2017-11-11 09:22:43,925 [INFO] Analyzing words for concept <egg>.\n",
      "2017-11-11 09:22:43,929 [INFO] Analyzing words for concept <eye>.\n",
      "2017-11-11 09:22:43,932 [INFO] Analyzing words for concept <far>.\n",
      "2017-11-11 09:22:43,934 [INFO] Analyzing words for concept <fat/grease>.\n",
      "2017-11-11 09:22:43,937 [INFO] Analyzing words for concept <father>.\n",
      "2017-11-11 09:22:43,941 [INFO] Analyzing words for concept <feather>.\n",
      "2017-11-11 09:22:43,944 [INFO] Analyzing words for concept <fire>.\n",
      "2017-11-11 09:22:43,946 [INFO] Analyzing words for concept <fish>.\n",
      "2017-11-11 09:22:43,949 [INFO] Analyzing words for concept <flower>.\n",
      "2017-11-11 09:22:43,952 [INFO] Analyzing words for concept <fog>.\n",
      "2017-11-11 09:22:43,955 [INFO] Analyzing words for concept <fruit>.\n",
      "2017-11-11 09:22:43,957 [INFO] Analyzing words for concept <good>.\n",
      "2017-11-11 09:22:43,962 [INFO] Analyzing words for concept <grass>.\n",
      "2017-11-11 09:22:43,965 [INFO] Analyzing words for concept <green>.\n",
      "2017-11-11 09:22:43,967 [INFO] Analyzing words for concept <hair>.\n",
      "2017-11-11 09:22:43,971 [INFO] Analyzing words for concept <hand>.\n",
      "2017-11-11 09:22:43,974 [INFO] Analyzing words for concept <he/she>.\n",
      "2017-11-11 09:22:43,977 [INFO] Analyzing words for concept <head>.\n",
      "2017-11-11 09:22:43,981 [INFO] Analyzing words for concept <heavy>.\n",
      "2017-11-11 09:22:43,984 [INFO] Analyzing words for concept <house>.\n",
      "2017-11-11 09:22:43,987 [INFO] Analyzing words for concept <how?>.\n",
      "SEQUENCE CLUSTERING:  30%|███       | 64/210 [00:00<00:00, 318.97it/s]2017-11-11 09:22:43,990 [INFO] Analyzing words for concept <husband>.\n",
      "2017-11-11 09:22:43,992 [INFO] Analyzing words for concept <if>.\n",
      "2017-11-11 09:22:43,994 [INFO] Analyzing words for concept <in, inside>.\n",
      "2017-11-11 09:22:43,997 [INFO] Analyzing words for concept <intestines>.\n",
      "2017-11-11 09:22:43,999 [INFO] Analyzing words for concept <lake>.\n",
      "2017-11-11 09:22:44,001 [INFO] Analyzing words for concept <leaf>.\n",
      "2017-11-11 09:22:44,004 [INFO] Analyzing words for concept <left>.\n",
      "2017-11-11 09:22:44,006 [INFO] Analyzing words for concept <leg/foot>.\n",
      "2017-11-11 09:22:44,009 [INFO] Analyzing words for concept <lightning>.\n",
      "2017-11-11 09:22:44,012 [INFO] Analyzing words for concept <liver>.\n",
      "2017-11-11 09:22:44,016 [INFO] Analyzing words for concept <long>.\n",
      "2017-11-11 09:22:44,018 [INFO] Analyzing words for concept <louse>.\n",
      "2017-11-11 09:22:44,021 [INFO] Analyzing words for concept <man/male>.\n",
      "2017-11-11 09:22:44,026 [INFO] Analyzing words for concept <meat/flesh>.\n",
      "2017-11-11 09:22:44,029 [INFO] Analyzing words for concept <moon>.\n",
      "2017-11-11 09:22:44,032 [INFO] Analyzing words for concept <mosquito>.\n",
      "2017-11-11 09:22:44,035 [INFO] Analyzing words for concept <mother>.\n",
      "2017-11-11 09:22:44,039 [INFO] Analyzing words for concept <mouth>.\n",
      "2017-11-11 09:22:44,043 [INFO] Analyzing words for concept <name>.\n",
      "2017-11-11 09:22:44,046 [INFO] Analyzing words for concept <narrow>.\n",
      "2017-11-11 09:22:44,049 [INFO] Analyzing words for concept <near>.\n",
      "2017-11-11 09:22:44,052 [INFO] Analyzing words for concept <neck>.\n",
      "2017-11-11 09:22:44,054 [INFO] Analyzing words for concept <needle>.\n",
      "2017-11-11 09:22:44,057 [INFO] Analyzing words for concept <new>.\n",
      "2017-11-11 09:22:44,060 [INFO] Analyzing words for concept <night>.\n",
      "2017-11-11 09:22:44,063 [INFO] Analyzing words for concept <no, not>.\n",
      "2017-11-11 09:22:44,066 [INFO] Analyzing words for concept <nose>.\n",
      "2017-11-11 09:22:44,068 [INFO] Analyzing words for concept <old>.\n",
      "2017-11-11 09:22:44,072 [INFO] Analyzing words for concept <other>.\n",
      "2017-11-11 09:22:44,074 [INFO] Analyzing words for concept <painful, sick>.\n",
      "2017-11-11 09:22:44,078 [INFO] Analyzing words for concept <person/human being>.\n",
      "2017-11-11 09:22:44,082 [INFO] Analyzing words for concept <rain>.\n",
      "2017-11-11 09:22:44,084 [INFO] Analyzing words for concept <rat>.\n",
      "2017-11-11 09:22:44,087 [INFO] Analyzing words for concept <red>.\n",
      "SEQUENCE CLUSTERING:  47%|████▋     | 98/210 [00:00<00:00, 324.83it/s]2017-11-11 09:22:44,091 [INFO] Analyzing words for concept <right>.\n",
      "2017-11-11 09:22:44,094 [INFO] Analyzing words for concept <road/path>.\n",
      "2017-11-11 09:22:44,098 [INFO] Analyzing words for concept <root>.\n",
      "2017-11-11 09:22:44,101 [INFO] Analyzing words for concept <rope>.\n",
      "2017-11-11 09:22:44,104 [INFO] Analyzing words for concept <rotten>.\n",
      "2017-11-11 09:22:44,108 [INFO] Analyzing words for concept <salt>.\n",
      "2017-11-11 09:22:44,111 [INFO] Analyzing words for concept <sand>.\n",
      "2017-11-11 09:22:44,114 [INFO] Analyzing words for concept <sea>.\n",
      "2017-11-11 09:22:44,121 [INFO] Analyzing words for concept <sharp>.\n",
      "2017-11-11 09:22:44,124 [INFO] Analyzing words for concept <short>.\n",
      "2017-11-11 09:22:44,128 [INFO] Analyzing words for concept <shoulder>.\n",
      "2017-11-11 09:22:44,131 [INFO] Analyzing words for concept <shy, ashamed>.\n",
      "2017-11-11 09:22:44,132 [INFO] Analyzing words for concept <skin>.\n",
      "2017-11-11 09:22:44,135 [INFO] Analyzing words for concept <sky>.\n",
      "2017-11-11 09:22:44,137 [INFO] Analyzing words for concept <small>.\n",
      "2017-11-11 09:22:44,142 [INFO] Analyzing words for concept <smoke>.\n",
      "2017-11-11 09:22:44,144 [INFO] Analyzing words for concept <snake>.\n",
      "2017-11-11 09:22:44,145 [INFO] Analyzing words for concept <spider>.\n",
      "2017-11-11 09:22:44,148 [INFO] Analyzing words for concept <star>.\n",
      "2017-11-11 09:22:44,150 [INFO] Analyzing words for concept <stick/wood>.\n",
      "2017-11-11 09:22:44,153 [INFO] Analyzing words for concept <stone>.\n",
      "2017-11-11 09:22:44,157 [INFO] Analyzing words for concept <tail>.\n",
      "2017-11-11 09:22:44,162 [INFO] Analyzing words for concept <that>.\n",
      "2017-11-11 09:22:44,165 [INFO] Analyzing words for concept <thatch/roof>.\n",
      "2017-11-11 09:22:44,168 [INFO] Analyzing words for concept <they>.\n",
      "2017-11-11 09:22:44,174 [INFO] Analyzing words for concept <thick>.\n",
      "2017-11-11 09:22:44,177 [INFO] Analyzing words for concept <thin>.\n",
      "2017-11-11 09:22:44,180 [INFO] Analyzing words for concept <this>.\n",
      "2017-11-11 09:22:44,183 [INFO] Analyzing words for concept <thou>.\n",
      "2017-11-11 09:22:44,185 [INFO] Analyzing words for concept <thunder>.\n",
      "2017-11-11 09:22:44,187 [INFO] Analyzing words for concept <to bite>.\n",
      "2017-11-11 09:22:44,190 [INFO] Analyzing words for concept <to blow>.\n",
      "SEQUENCE CLUSTERING:  62%|██████▏   | 130/210 [00:00<00:00, 317.71it/s]2017-11-11 09:22:44,197 [INFO] Analyzing words for concept <to breathe>.\n",
      "2017-11-11 09:22:44,201 [INFO] Analyzing words for concept <to burn>.\n",
      "2017-11-11 09:22:44,207 [INFO] Analyzing words for concept <to buy>.\n",
      "2017-11-11 09:22:44,210 [INFO] Analyzing words for concept <to chew>.\n",
      "2017-11-11 09:22:44,212 [INFO] Analyzing words for concept <to choose>.\n",
      "2017-11-11 09:22:44,215 [INFO] Analyzing words for concept <to climb>.\n",
      "2017-11-11 09:22:44,218 [INFO] Analyzing words for concept <to come>.\n",
      "2017-11-11 09:22:44,221 [INFO] Analyzing words for concept <to cook>.\n",
      "2017-11-11 09:22:44,225 [INFO] Analyzing words for concept <to count>.\n",
      "2017-11-11 09:22:44,227 [INFO] Analyzing words for concept <to cry>.\n",
      "2017-11-11 09:22:44,231 [INFO] Analyzing words for concept <to cut, hack>.\n",
      "2017-11-11 09:22:44,237 [INFO] Analyzing words for concept <to die, be dead>.\n",
      "2017-11-11 09:22:44,241 [INFO] Analyzing words for concept <to dig>.\n",
      "2017-11-11 09:22:44,244 [INFO] Analyzing words for concept <to dream>.\n",
      "2017-11-11 09:22:44,248 [INFO] Analyzing words for concept <to drink>.\n",
      "2017-11-11 09:22:44,250 [INFO] Analyzing words for concept <to eat>.\n",
      "2017-11-11 09:22:44,252 [INFO] Analyzing words for concept <to fall>.\n",
      "2017-11-11 09:22:44,262 [INFO] Analyzing words for concept <to fear>.\n",
      "2017-11-11 09:22:44,266 [INFO] Analyzing words for concept <to flow>.\n",
      "2017-11-11 09:22:44,269 [INFO] Analyzing words for concept <to fly>.\n",
      "2017-11-11 09:22:44,272 [INFO] Analyzing words for concept <to grow>.\n",
      "2017-11-11 09:22:44,276 [INFO] Analyzing words for concept <to hear>.\n",
      "2017-11-11 09:22:44,278 [INFO] Analyzing words for concept <to hide>.\n",
      "2017-11-11 09:22:44,281 [INFO] Analyzing words for concept <to hit>.\n",
      "2017-11-11 09:22:44,287 [INFO] Analyzing words for concept <to hold>.\n",
      "2017-11-11 09:22:44,291 [INFO] Analyzing words for concept <to hunt>.\n",
      "2017-11-11 09:22:44,293 [INFO] Analyzing words for concept <to kill>.\n",
      "SEQUENCE CLUSTERING:  75%|███████▍  | 157/210 [00:00<00:00, 300.55it/s]2017-11-11 09:22:44,298 [INFO] Analyzing words for concept <to know, be knowledgeable>.\n",
      "2017-11-11 09:22:44,301 [INFO] Analyzing words for concept <to laugh>.\n",
      "2017-11-11 09:22:44,303 [INFO] Analyzing words for concept <to lie down>.\n",
      "2017-11-11 09:22:44,306 [INFO] Analyzing words for concept <to live, be alive>.\n",
      "2017-11-11 09:22:44,308 [INFO] Analyzing words for concept <to open, uncover>.\n",
      "2017-11-11 09:22:44,312 [INFO] Analyzing words for concept <to plant>.\n",
      "2017-11-11 09:22:44,315 [INFO] Analyzing words for concept <to pound, beat>.\n",
      "2017-11-11 09:22:44,317 [INFO] Analyzing words for concept <to say>.\n",
      "2017-11-11 09:22:44,320 [INFO] Analyzing words for concept <to scratch>.\n",
      "2017-11-11 09:22:44,323 [INFO] Analyzing words for concept <to see>.\n",
      "2017-11-11 09:22:44,327 [INFO] Analyzing words for concept <to sew>.\n",
      "2017-11-11 09:22:44,334 [INFO] Analyzing words for concept <to shoot>.\n",
      "2017-11-11 09:22:44,336 [INFO] Analyzing words for concept <to sit>.\n",
      "2017-11-11 09:22:44,339 [INFO] Analyzing words for concept <to sleep>.\n",
      "2017-11-11 09:22:44,342 [INFO] Analyzing words for concept <to sniff, smell>.\n",
      "2017-11-11 09:22:44,345 [INFO] Analyzing words for concept <to spit>.\n",
      "2017-11-11 09:22:44,350 [INFO] Analyzing words for concept <to split>.\n",
      "2017-11-11 09:22:44,354 [INFO] Analyzing words for concept <to squeeze>.\n",
      "2017-11-11 09:22:44,358 [INFO] Analyzing words for concept <to stab, pierce>.\n",
      "2017-11-11 09:22:44,364 [INFO] Analyzing words for concept <to stand>.\n",
      "2017-11-11 09:22:44,367 [INFO] Analyzing words for concept <to steal>.\n",
      "2017-11-11 09:22:44,370 [INFO] Analyzing words for concept <to suck>.\n",
      "2017-11-11 09:22:44,375 [INFO] Analyzing words for concept <to swell>.\n",
      "2017-11-11 09:22:44,377 [INFO] Analyzing words for concept <to swim>.\n",
      "2017-11-11 09:22:44,380 [INFO] Analyzing words for concept <to think>.\n",
      "2017-11-11 09:22:44,382 [INFO] Analyzing words for concept <to throw>.\n",
      "2017-11-11 09:22:44,386 [INFO] Analyzing words for concept <to tie up, fasten>.\n",
      "2017-11-11 09:22:44,391 [INFO] Analyzing words for concept <to turn>.\n",
      "2017-11-11 09:22:44,394 [INFO] Analyzing words for concept <to vomit>.\n",
      "SEQUENCE CLUSTERING:  89%|████████▊ | 186/210 [00:00<00:00, 297.10it/s]2017-11-11 09:22:44,398 [INFO] Analyzing words for concept <to walk>.\n",
      "2017-11-11 09:22:44,401 [INFO] Analyzing words for concept <to work>.\n",
      "2017-11-11 09:22:44,404 [INFO] Analyzing words for concept <to yawn>.\n",
      "2017-11-11 09:22:44,408 [INFO] Analyzing words for concept <tongue>.\n",
      "2017-11-11 09:22:44,411 [INFO] Analyzing words for concept <tooth>.\n",
      "2017-11-11 09:22:44,413 [INFO] Analyzing words for concept <warm>.\n",
      "2017-11-11 09:22:44,417 [INFO] Analyzing words for concept <water>.\n",
      "2017-11-11 09:22:44,419 [INFO] Analyzing words for concept <we>.\n",
      "2017-11-11 09:22:44,443 [INFO] Analyzing words for concept <wet>.\n",
      "2017-11-11 09:22:44,448 [INFO] Analyzing words for concept <what?>.\n",
      "2017-11-11 09:22:44,450 [INFO] Analyzing words for concept <when?>.\n",
      "2017-11-11 09:22:44,454 [INFO] Analyzing words for concept <where?>.\n",
      "2017-11-11 09:22:44,457 [INFO] Analyzing words for concept <white>.\n",
      "2017-11-11 09:22:44,460 [INFO] Analyzing words for concept <who?>.\n",
      "2017-11-11 09:22:44,465 [INFO] Analyzing words for concept <wide>.\n",
      "2017-11-11 09:22:44,467 [INFO] Analyzing words for concept <wife>.\n",
      "2017-11-11 09:22:44,470 [INFO] Analyzing words for concept <wind>.\n",
      "2017-11-11 09:22:44,474 [INFO] Analyzing words for concept <wing>.\n",
      "2017-11-11 09:22:44,478 [INFO] Analyzing words for concept <woman/female>.\n",
      "2017-11-11 09:22:44,485 [INFO] Analyzing words for concept <woods/forest>.\n",
      "2017-11-11 09:22:44,487 [INFO] Analyzing words for concept <worm (earthworm)>.\n",
      "2017-11-11 09:22:44,489 [INFO] Analyzing words for concept <year>.\n",
      "2017-11-11 09:22:44,493 [INFO] Analyzing words for concept <yellow>.\n",
      "2017-11-11 09:22:44,495 [INFO] Analyzing words for concept <you>.\n",
      "                                                                       \r"
     ]
    },
    {
     "name": "stdout",
     "output_type": "stream",
     "text": [
      "Maori                \t waru \t1\n",
      "Tahitian             \t va'u \t4\n",
      "Rapanui              \t va'u \t4\n",
      "Mangareva            \t varu \t1\n",
      "Sikaiana             \t valu \t1\n",
      "North_Marquesan      \t va'u \t4\n",
      "Ra’ivavae            \t vaGu \t6\n",
      "Tuamotuan            \t varu \t1\n",
      "Rurutuan             \t vaʔu \t4\n",
      "Hawaiian             \t walu \t1\n"
     ]
    }
   ],
   "source": [
    "lex = LexStat('east-polynesian.tsv', segments='tokens', check=True)\n",
    "\n",
    "# run the dolgopolsky (turchin) analysis, which is threshold-free\n",
    "lex.cluster(method='turchin')\n",
    "\n",
    "# show the cognate sets, stored in \"turchinid\" for the words for \"Eight\"\n",
    "eight = lex.get_dict(row='Eight') # get a dictionary with language as key for concept \"eight\"\n",
    "for k, v in eight.items():\n",
    "    idx = v[0] # index of the word, it gives us access to all data\n",
    "    print(\"{0:20} \\t {1} \\t{2}\".format(lex[idx, 'doculect'], lex[idx, 'value'], lex[idx, 'turchinid']))"
   ]
  },
  {
   "cell_type": "markdown",
   "metadata": {
    "deletable": true,
    "editable": true
   },
   "source": [
    "We now do the same for the \"sca\" method, but since this method is not threshold free, we will need to define a threshold. We follow the default value we know from experience, which is 0.45. We then print out the same data, but this time including the cognate judgments by all three methods (```$ python3 autocogs.py cognates-sca``` in command line):"
   ]
  },
  {
   "cell_type": "code",
   "execution_count": 25,
   "metadata": {
    "collapsed": false,
    "deletable": true,
    "editable": true
   },
   "outputs": [
    {
     "name": "stderr",
     "output_type": "stream",
     "text": [
      "SEQUENCE CLUSTERING:   0%|          | 0/210 [00:00<?, ?it/s]2017-11-11 09:22:44,516 [INFO] Analyzing words for concept <Eight>.\n",
      "2017-11-11 09:22:44,520 [INFO] Analyzing words for concept <Fifty>.\n",
      "2017-11-11 09:22:44,522 [INFO] Analyzing words for concept <Five>.\n",
      "2017-11-11 09:22:44,527 [INFO] Analyzing words for concept <Four>.\n",
      "2017-11-11 09:22:44,530 [INFO] Analyzing words for concept <I>.\n",
      "2017-11-11 09:22:44,535 [INFO] Analyzing words for concept <Nine>.\n",
      "2017-11-11 09:22:44,540 [INFO] Analyzing words for concept <One>.\n",
      "2017-11-11 09:22:44,545 [INFO] Analyzing words for concept <One Hundred>.\n",
      "2017-11-11 09:22:44,553 [INFO] Analyzing words for concept <One Thousand>.\n",
      "2017-11-11 09:22:44,560 [INFO] Analyzing words for concept <Seven>.\n",
      "2017-11-11 09:22:44,565 [INFO] Analyzing words for concept <Six>.\n",
      "2017-11-11 09:22:44,569 [INFO] Analyzing words for concept <Ten>.\n",
      "2017-11-11 09:22:44,580 [INFO] Analyzing words for concept <Three>.\n",
      "2017-11-11 09:22:44,585 [INFO] Analyzing words for concept <Twenty>.\n",
      "2017-11-11 09:22:44,589 [INFO] Analyzing words for concept <Two>.\n",
      "2017-11-11 09:22:44,594 [INFO] Analyzing words for concept <above>.\n",
      "2017-11-11 09:22:44,597 [INFO] Analyzing words for concept <all>.\n",
      "2017-11-11 09:22:44,602 [INFO] Analyzing words for concept <and>.\n",
      "2017-11-11 09:22:44,607 [INFO] Analyzing words for concept <ash>.\n",
      "2017-11-11 09:22:44,613 [INFO] Analyzing words for concept <at>.\n",
      "SEQUENCE CLUSTERING:  10%|▉         | 20/210 [00:00<00:00, 193.81it/s]2017-11-11 09:22:44,620 [INFO] Analyzing words for concept <back>.\n",
      "2017-11-11 09:22:44,624 [INFO] Analyzing words for concept <bad, evil>.\n",
      "2017-11-11 09:22:44,631 [INFO] Analyzing words for concept <belly>.\n",
      "2017-11-11 09:22:44,641 [INFO] Analyzing words for concept <below>.\n",
      "2017-11-11 09:22:44,645 [INFO] Analyzing words for concept <big>.\n",
      "2017-11-11 09:22:44,652 [INFO] Analyzing words for concept <bird>.\n",
      "2017-11-11 09:22:44,656 [INFO] Analyzing words for concept <black>.\n",
      "2017-11-11 09:22:44,665 [INFO] Analyzing words for concept <blood>.\n",
      "2017-11-11 09:22:44,669 [INFO] Analyzing words for concept <bone>.\n",
      "2017-11-11 09:22:44,672 [INFO] Analyzing words for concept <branch>.\n",
      "2017-11-11 09:22:44,677 [INFO] Analyzing words for concept <breast>.\n",
      "2017-11-11 09:22:44,683 [INFO] Analyzing words for concept <child>.\n",
      "2017-11-11 09:22:44,691 [INFO] Analyzing words for concept <cloud>.\n",
      "2017-11-11 09:22:44,696 [INFO] Analyzing words for concept <cold>.\n",
      "2017-11-11 09:22:44,710 [INFO] Analyzing words for concept <correct, true>.\n",
      "2017-11-11 09:22:44,719 [INFO] Analyzing words for concept <day>.\n",
      "SEQUENCE CLUSTERING:  17%|█▋        | 36/210 [00:00<00:00, 178.63it/s]2017-11-11 09:22:44,726 [INFO] Analyzing words for concept <dirty>.\n",
      "2017-11-11 09:22:44,734 [INFO] Analyzing words for concept <dog>.\n",
      "2017-11-11 09:22:44,740 [INFO] Analyzing words for concept <dry>.\n",
      "2017-11-11 09:22:44,747 [INFO] Analyzing words for concept <dull, blunt>.\n",
      "2017-11-11 09:22:44,754 [INFO] Analyzing words for concept <dust>.\n",
      "2017-11-11 09:22:44,763 [INFO] Analyzing words for concept <ear>.\n",
      "2017-11-11 09:22:44,769 [INFO] Analyzing words for concept <earth/soil>.\n",
      "2017-11-11 09:22:44,776 [INFO] Analyzing words for concept <egg>.\n",
      "2017-11-11 09:22:44,783 [INFO] Analyzing words for concept <eye>.\n",
      "2017-11-11 09:22:44,788 [INFO] Analyzing words for concept <far>.\n",
      "2017-11-11 09:22:44,793 [INFO] Analyzing words for concept <fat/grease>.\n",
      "2017-11-11 09:22:44,800 [INFO] Analyzing words for concept <father>.\n",
      "2017-11-11 09:22:44,810 [INFO] Analyzing words for concept <feather>.\n",
      "2017-11-11 09:22:44,816 [INFO] Analyzing words for concept <fire>.\n",
      "2017-11-11 09:22:44,820 [INFO] Analyzing words for concept <fish>.\n",
      "SEQUENCE CLUSTERING:  24%|██▍       | 51/210 [00:00<00:00, 168.72it/s]2017-11-11 09:22:44,826 [INFO] Analyzing words for concept <flower>.\n",
      "2017-11-11 09:22:44,832 [INFO] Analyzing words for concept <fog>.\n",
      "2017-11-11 09:22:44,837 [INFO] Analyzing words for concept <fruit>.\n",
      "2017-11-11 09:22:44,840 [INFO] Analyzing words for concept <good>.\n",
      "2017-11-11 09:22:44,851 [INFO] Analyzing words for concept <grass>.\n",
      "2017-11-11 09:22:44,855 [INFO] Analyzing words for concept <green>.\n",
      "2017-11-11 09:22:44,862 [INFO] Analyzing words for concept <hair>.\n",
      "2017-11-11 09:22:44,870 [INFO] Analyzing words for concept <hand>.\n",
      "2017-11-11 09:22:44,875 [INFO] Analyzing words for concept <he/she>.\n",
      "2017-11-11 09:22:44,880 [INFO] Analyzing words for concept <head>.\n",
      "2017-11-11 09:22:44,887 [INFO] Analyzing words for concept <heavy>.\n",
      "2017-11-11 09:22:44,895 [INFO] Analyzing words for concept <house>.\n",
      "2017-11-11 09:22:44,900 [INFO] Analyzing words for concept <how?>.\n",
      "2017-11-11 09:22:44,904 [INFO] Analyzing words for concept <husband>.\n",
      "2017-11-11 09:22:44,907 [INFO] Analyzing words for concept <if>.\n",
      "2017-11-11 09:22:44,911 [INFO] Analyzing words for concept <in, inside>.\n",
      "2017-11-11 09:22:44,915 [INFO] Analyzing words for concept <intestines>.\n",
      "2017-11-11 09:22:44,920 [INFO] Analyzing words for concept <lake>.\n",
      "2017-11-11 09:22:44,923 [INFO] Analyzing words for concept <leaf>.\n",
      "SEQUENCE CLUSTERING:  33%|███▎      | 70/210 [00:00<00:00, 173.46it/s]2017-11-11 09:22:44,929 [INFO] Analyzing words for concept <left>.\n",
      "2017-11-11 09:22:44,934 [INFO] Analyzing words for concept <leg/foot>.\n",
      "2017-11-11 09:22:44,938 [INFO] Analyzing words for concept <lightning>.\n",
      "2017-11-11 09:22:44,944 [INFO] Analyzing words for concept <liver>.\n",
      "2017-11-11 09:22:44,950 [INFO] Analyzing words for concept <long>.\n",
      "2017-11-11 09:22:44,954 [INFO] Analyzing words for concept <louse>.\n",
      "2017-11-11 09:22:44,959 [INFO] Analyzing words for concept <man/male>.\n",
      "2017-11-11 09:22:44,969 [INFO] Analyzing words for concept <meat/flesh>.\n",
      "2017-11-11 09:22:44,974 [INFO] Analyzing words for concept <moon>.\n",
      "2017-11-11 09:22:44,980 [INFO] Analyzing words for concept <mosquito>.\n",
      "2017-11-11 09:22:44,986 [INFO] Analyzing words for concept <mother>.\n",
      "2017-11-11 09:22:44,996 [INFO] Analyzing words for concept <mouth>.\n",
      "2017-11-11 09:22:45,004 [INFO] Analyzing words for concept <name>.\n",
      "2017-11-11 09:22:45,008 [INFO] Analyzing words for concept <narrow>.\n",
      "2017-11-11 09:22:45,015 [INFO] Analyzing words for concept <near>.\n",
      "2017-11-11 09:22:45,019 [INFO] Analyzing words for concept <neck>.\n",
      "2017-11-11 09:22:45,024 [INFO] Analyzing words for concept <needle>.\n",
      "SEQUENCE CLUSTERING:  41%|████▏     | 87/210 [00:00<00:00, 171.94it/s]2017-11-11 09:22:45,030 [INFO] Analyzing words for concept <new>.\n",
      "2017-11-11 09:22:45,033 [INFO] Analyzing words for concept <night>.\n",
      "2017-11-11 09:22:45,037 [INFO] Analyzing words for concept <no, not>.\n",
      "2017-11-11 09:22:45,043 [INFO] Analyzing words for concept <nose>.\n",
      "2017-11-11 09:22:45,047 [INFO] Analyzing words for concept <old>.\n",
      "2017-11-11 09:22:45,056 [INFO] Analyzing words for concept <other>.\n",
      "2017-11-11 09:22:45,059 [INFO] Analyzing words for concept <painful, sick>.\n",
      "2017-11-11 09:22:45,067 [INFO] Analyzing words for concept <person/human being>.\n",
      "2017-11-11 09:22:45,075 [INFO] Analyzing words for concept <rain>.\n",
      "2017-11-11 09:22:45,078 [INFO] Analyzing words for concept <rat>.\n",
      "2017-11-11 09:22:45,084 [INFO] Analyzing words for concept <red>.\n",
      "2017-11-11 09:22:45,091 [INFO] Analyzing words for concept <right>.\n",
      "2017-11-11 09:22:45,097 [INFO] Analyzing words for concept <road/path>.\n",
      "2017-11-11 09:22:45,104 [INFO] Analyzing words for concept <root>.\n",
      "2017-11-11 09:22:45,108 [INFO] Analyzing words for concept <rope>.\n",
      "2017-11-11 09:22:45,115 [INFO] Analyzing words for concept <rotten>.\n",
      "2017-11-11 09:22:45,122 [INFO] Analyzing words for concept <salt>.\n",
      "2017-11-11 09:22:45,128 [INFO] Analyzing words for concept <sand>.\n",
      "SEQUENCE CLUSTERING:  50%|█████     | 105/210 [00:00<00:00, 172.42it/s]2017-11-11 09:22:45,133 [INFO] Analyzing words for concept <sea>.\n",
      "2017-11-11 09:22:45,145 [INFO] Analyzing words for concept <sharp>.\n",
      "2017-11-11 09:22:45,150 [INFO] Analyzing words for concept <short>.\n",
      "2017-11-11 09:22:45,158 [INFO] Analyzing words for concept <shoulder>.\n",
      "2017-11-11 09:22:45,164 [INFO] Analyzing words for concept <shy, ashamed>.\n",
      "2017-11-11 09:22:45,168 [INFO] Analyzing words for concept <skin>.\n",
      "2017-11-11 09:22:45,172 [INFO] Analyzing words for concept <sky>.\n",
      "2017-11-11 09:22:45,176 [INFO] Analyzing words for concept <small>.\n",
      "2017-11-11 09:22:45,185 [INFO] Analyzing words for concept <smoke>.\n",
      "2017-11-11 09:22:45,189 [INFO] Analyzing words for concept <snake>.\n",
      "2017-11-11 09:22:45,191 [INFO] Analyzing words for concept <spider>.\n",
      "2017-11-11 09:22:45,200 [INFO] Analyzing words for concept <star>.\n",
      "2017-11-11 09:22:45,205 [INFO] Analyzing words for concept <stick/wood>.\n",
      "2017-11-11 09:22:45,210 [INFO] Analyzing words for concept <stone>.\n",
      "2017-11-11 09:22:45,220 [INFO] Analyzing words for concept <tail>.\n",
      "2017-11-11 09:22:45,230 [INFO] Analyzing words for concept <that>.\n",
      "SEQUENCE CLUSTERING:  58%|█████▊    | 121/210 [00:00<00:00, 167.99it/s]2017-11-11 09:22:45,234 [INFO] Analyzing words for concept <thatch/roof>.\n",
      "2017-11-11 09:22:45,240 [INFO] Analyzing words for concept <they>.\n",
      "2017-11-11 09:22:45,250 [INFO] Analyzing words for concept <thick>.\n",
      "2017-11-11 09:22:45,256 [INFO] Analyzing words for concept <thin>.\n",
      "2017-11-11 09:22:45,264 [INFO] Analyzing words for concept <this>.\n",
      "2017-11-11 09:22:45,268 [INFO] Analyzing words for concept <thou>.\n",
      "2017-11-11 09:22:45,272 [INFO] Analyzing words for concept <thunder>.\n",
      "2017-11-11 09:22:45,279 [INFO] Analyzing words for concept <to bite>.\n",
      "2017-11-11 09:22:45,284 [INFO] Analyzing words for concept <to blow>.\n",
      "2017-11-11 09:22:45,296 [INFO] Analyzing words for concept <to breathe>.\n",
      "2017-11-11 09:22:45,303 [INFO] Analyzing words for concept <to burn>.\n",
      "2017-11-11 09:22:45,315 [INFO] Analyzing words for concept <to buy>.\n",
      "2017-11-11 09:22:45,320 [INFO] Analyzing words for concept <to chew>.\n",
      "2017-11-11 09:22:45,324 [INFO] Analyzing words for concept <to choose>.\n",
      "2017-11-11 09:22:45,329 [INFO] Analyzing words for concept <to climb>.\n",
      "2017-11-11 09:22:45,334 [INFO] Analyzing words for concept <to come>.\n",
      "SEQUENCE CLUSTERING:  65%|██████▌   | 137/210 [00:00<00:00, 161.37it/s]2017-11-11 09:22:45,342 [INFO] Analyzing words for concept <to cook>.\n",
      "2017-11-11 09:22:45,348 [INFO] Analyzing words for concept <to count>.\n",
      "2017-11-11 09:22:45,352 [INFO] Analyzing words for concept <to cry>.\n",
      "2017-11-11 09:22:45,357 [INFO] Analyzing words for concept <to cut, hack>.\n",
      "2017-11-11 09:22:45,372 [INFO] Analyzing words for concept <to die, be dead>.\n",
      "2017-11-11 09:22:45,377 [INFO] Analyzing words for concept <to dig>.\n",
      "2017-11-11 09:22:45,384 [INFO] Analyzing words for concept <to dream>.\n",
      "2017-11-11 09:22:45,395 [INFO] Analyzing words for concept <to drink>.\n",
      "2017-11-11 09:22:45,398 [INFO] Analyzing words for concept <to eat>.\n",
      "2017-11-11 09:22:45,402 [INFO] Analyzing words for concept <to fall>.\n",
      "2017-11-11 09:22:45,423 [INFO] Analyzing words for concept <to fear>.\n",
      "2017-11-11 09:22:45,433 [INFO] Analyzing words for concept <to flow>.\n",
      "2017-11-11 09:22:45,437 [INFO] Analyzing words for concept <to fly>.\n",
      "2017-11-11 09:22:45,446 [INFO] Analyzing words for concept <to grow>.\n",
      "2017-11-11 09:22:45,453 [INFO] Analyzing words for concept <to hear>.\n",
      "2017-11-11 09:22:45,459 [INFO] Analyzing words for concept <to hide>.\n",
      "SEQUENCE CLUSTERING:  73%|███████▎  | 153/210 [00:00<00:00, 151.00it/s]2017-11-11 09:22:45,464 [INFO] Analyzing words for concept <to hit>.\n",
      "2017-11-11 09:22:45,482 [INFO] Analyzing words for concept <to hold>.\n",
      "2017-11-11 09:22:45,488 [INFO] Analyzing words for concept <to hunt>.\n",
      "2017-11-11 09:22:45,493 [INFO] Analyzing words for concept <to kill>.\n",
      "2017-11-11 09:22:45,501 [INFO] Analyzing words for concept <to know, be knowledgeable>.\n",
      "2017-11-11 09:22:45,509 [INFO] Analyzing words for concept <to laugh>.\n",
      "2017-11-11 09:22:45,513 [INFO] Analyzing words for concept <to lie down>.\n",
      "2017-11-11 09:22:45,522 [INFO] Analyzing words for concept <to live, be alive>.\n",
      "2017-11-11 09:22:45,527 [INFO] Analyzing words for concept <to open, uncover>.\n",
      "2017-11-11 09:22:45,534 [INFO] Analyzing words for concept <to plant>.\n",
      "2017-11-11 09:22:45,539 [INFO] Analyzing words for concept <to pound, beat>.\n",
      "2017-11-11 09:22:45,543 [INFO] Analyzing words for concept <to say>.\n",
      "2017-11-11 09:22:45,549 [INFO] Analyzing words for concept <to scratch>.\n",
      "2017-11-11 09:22:45,555 [INFO] Analyzing words for concept <to see>.\n",
      "2017-11-11 09:22:45,560 [INFO] Analyzing words for concept <to sew>.\n",
      "SEQUENCE CLUSTERING:  80%|████████  | 168/210 [00:01<00:00, 149.80it/s]2017-11-11 09:22:45,567 [INFO] Analyzing words for concept <to shoot>.\n",
      "2017-11-11 09:22:45,570 [INFO] Analyzing words for concept <to sit>.\n",
      "2017-11-11 09:22:45,575 [INFO] Analyzing words for concept <to sleep>.\n",
      "2017-11-11 09:22:45,579 [INFO] Analyzing words for concept <to sniff, smell>.\n",
      "2017-11-11 09:22:45,586 [INFO] Analyzing words for concept <to spit>.\n",
      "2017-11-11 09:22:45,594 [INFO] Analyzing words for concept <to split>.\n",
      "2017-11-11 09:22:45,604 [INFO] Analyzing words for concept <to squeeze>.\n",
      "2017-11-11 09:22:45,612 [INFO] Analyzing words for concept <to stab, pierce>.\n",
      "2017-11-11 09:22:45,619 [INFO] Analyzing words for concept <to stand>.\n",
      "2017-11-11 09:22:45,623 [INFO] Analyzing words for concept <to steal>.\n",
      "2017-11-11 09:22:45,628 [INFO] Analyzing words for concept <to suck>.\n",
      "2017-11-11 09:22:45,635 [INFO] Analyzing words for concept <to swell>.\n",
      "2017-11-11 09:22:45,641 [INFO] Analyzing words for concept <to swim>.\n",
      "2017-11-11 09:22:45,646 [INFO] Analyzing words for concept <to think>.\n",
      "2017-11-11 09:22:45,653 [INFO] Analyzing words for concept <to throw>.\n",
      "2017-11-11 09:22:45,662 [INFO] Analyzing words for concept <to tie up, fasten>.\n",
      "SEQUENCE CLUSTERING:  88%|████████▊ | 184/210 [00:01<00:00, 148.31it/s]2017-11-11 09:22:45,677 [INFO] Analyzing words for concept <to turn>.\n",
      "2017-11-11 09:22:45,687 [INFO] Analyzing words for concept <to vomit>.\n",
      "2017-11-11 09:22:45,692 [INFO] Analyzing words for concept <to walk>.\n",
      "2017-11-11 09:22:45,700 [INFO] Analyzing words for concept <to work>.\n",
      "2017-11-11 09:22:45,705 [INFO] Analyzing words for concept <to yawn>.\n",
      "2017-11-11 09:22:45,711 [INFO] Analyzing words for concept <tongue>.\n",
      "2017-11-11 09:22:45,716 [INFO] Analyzing words for concept <tooth>.\n",
      "2017-11-11 09:22:45,721 [INFO] Analyzing words for concept <warm>.\n",
      "2017-11-11 09:22:45,731 [INFO] Analyzing words for concept <water>.\n",
      "2017-11-11 09:22:45,735 [INFO] Analyzing words for concept <we>.\n",
      "2017-11-11 09:22:45,777 [INFO] Analyzing words for concept <wet>.\n",
      "2017-11-11 09:22:45,785 [INFO] Analyzing words for concept <what?>.\n",
      "2017-11-11 09:22:45,788 [INFO] Analyzing words for concept <when?>.\n",
      "2017-11-11 09:22:45,792 [INFO] Analyzing words for concept <where?>.\n",
      "2017-11-11 09:22:45,796 [INFO] Analyzing words for concept <white>.\n",
      "SEQUENCE CLUSTERING:  95%|█████████▍| 199/210 [00:01<00:00, 137.88it/s]2017-11-11 09:22:45,803 [INFO] Analyzing words for concept <who?>.\n",
      "2017-11-11 09:22:45,807 [INFO] Analyzing words for concept <wide>.\n",
      "2017-11-11 09:22:45,811 [INFO] Analyzing words for concept <wife>.\n",
      "2017-11-11 09:22:45,817 [INFO] Analyzing words for concept <wind>.\n",
      "2017-11-11 09:22:45,825 [INFO] Analyzing words for concept <wing>.\n",
      "                                                                       \r"
     ]
    },
    {
     "ename": "KeyboardInterrupt",
     "evalue": "",
     "output_type": "error",
     "traceback": [
      "\u001b[0;31m---------------------------------------------------------------------------\u001b[0m",
      "\u001b[0;31mKeyboardInterrupt\u001b[0m                         Traceback (most recent call last)",
      "\u001b[0;32m<ipython-input-25-d013bd56d843>\u001b[0m in \u001b[0;36m<module>\u001b[0;34m()\u001b[0m\n\u001b[0;32m----> 1\u001b[0;31m \u001b[0mlex\u001b[0m\u001b[0;34m.\u001b[0m\u001b[0mcluster\u001b[0m\u001b[0;34m(\u001b[0m\u001b[0mmethod\u001b[0m\u001b[0;34m=\u001b[0m\u001b[0;34m\"sca\"\u001b[0m\u001b[0;34m,\u001b[0m \u001b[0mthreshold\u001b[0m\u001b[0;34m=\u001b[0m\u001b[0;36m0.45\u001b[0m\u001b[0;34m)\u001b[0m\u001b[0;34m\u001b[0m\u001b[0m\n\u001b[0m\u001b[1;32m      2\u001b[0m \u001b[0;34m\u001b[0m\u001b[0m\n\u001b[1;32m      3\u001b[0m \u001b[0;32mfor\u001b[0m \u001b[0mk\u001b[0m\u001b[0;34m,\u001b[0m \u001b[0mv\u001b[0m \u001b[0;32min\u001b[0m \u001b[0meight\u001b[0m\u001b[0;34m.\u001b[0m\u001b[0mitems\u001b[0m\u001b[0;34m(\u001b[0m\u001b[0;34m)\u001b[0m\u001b[0;34m:\u001b[0m\u001b[0;34m\u001b[0m\u001b[0m\n\u001b[1;32m      4\u001b[0m     \u001b[0midx\u001b[0m \u001b[0;34m=\u001b[0m \u001b[0mv\u001b[0m\u001b[0;34m[\u001b[0m\u001b[0;36m0\u001b[0m\u001b[0;34m]\u001b[0m\u001b[0;34m\u001b[0m\u001b[0m\n\u001b[1;32m      5\u001b[0m     print(\"{0:20} \\t {1} \\t{2} \\t {3} \".format(\n",
      "\u001b[0;32m/home/mattis/projects/scripts/LingPy/dev/lingpy/lingpy/compare/lexstat.py\u001b[0m in \u001b[0;36mcluster\u001b[0;34m(self, method, cluster_method, threshold, scale, factor, restricted_chars, mode, gop, restriction, ref, external_function, **keywords)\u001b[0m\n\u001b[1;32m   1421\u001b[0m                 \u001b[0mdesc\u001b[0m\u001b[0;34m=\u001b[0m\u001b[0;34m'SEQUENCE CLUSTERING'\u001b[0m\u001b[0;34m,\u001b[0m\u001b[0;34m\u001b[0m\u001b[0m\n\u001b[1;32m   1422\u001b[0m                 total=len(self.rows)) as progress:\n\u001b[0;32m-> 1423\u001b[0;31m             \u001b[0;32mfor\u001b[0m \u001b[0mconcept\u001b[0m\u001b[0;34m,\u001b[0m \u001b[0mindices\u001b[0m\u001b[0;34m,\u001b[0m \u001b[0mmatrix\u001b[0m \u001b[0;32min\u001b[0m \u001b[0mmatrices\u001b[0m\u001b[0;34m:\u001b[0m\u001b[0;34m\u001b[0m\u001b[0m\n\u001b[0m\u001b[1;32m   1424\u001b[0m                 \u001b[0mprogress\u001b[0m\u001b[0;34m.\u001b[0m\u001b[0mupdate\u001b[0m\u001b[0;34m(\u001b[0m\u001b[0;36m1\u001b[0m\u001b[0;34m)\u001b[0m\u001b[0;34m\u001b[0m\u001b[0m\n\u001b[1;32m   1425\u001b[0m \u001b[0;34m\u001b[0m\u001b[0m\n",
      "\u001b[0;32m/home/mattis/projects/scripts/LingPy/dev/lingpy/lingpy/compare/lexstat.py\u001b[0m in \u001b[0;36m_get_matrices\u001b[0;34m(self, concept, method, scale, factor, restricted_chars, mode, gop, restriction, **keywords)\u001b[0m\n\u001b[1;32m   1257\u001b[0m         \u001b[0;32mfor\u001b[0m \u001b[0mc\u001b[0m \u001b[0;32min\u001b[0m \u001b[0mconcepts\u001b[0m\u001b[0;34m:\u001b[0m\u001b[0;34m\u001b[0m\u001b[0m\n\u001b[1;32m   1258\u001b[0m             \u001b[0mlog\u001b[0m\u001b[0;34m.\u001b[0m\u001b[0minfo\u001b[0m\u001b[0;34m(\u001b[0m\u001b[0;34m\"Analyzing words for concept <{0}>.\"\u001b[0m\u001b[0;34m.\u001b[0m\u001b[0mformat\u001b[0m\u001b[0;34m(\u001b[0m\u001b[0mc\u001b[0m\u001b[0;34m)\u001b[0m\u001b[0;34m)\u001b[0m\u001b[0;34m\u001b[0m\u001b[0m\n\u001b[0;32m-> 1259\u001b[0;31m             \u001b[0mindices\u001b[0m \u001b[0;34m=\u001b[0m \u001b[0mself\u001b[0m\u001b[0;34m.\u001b[0m\u001b[0mget_list\u001b[0m\u001b[0;34m(\u001b[0m\u001b[0mrow\u001b[0m\u001b[0;34m=\u001b[0m\u001b[0mc\u001b[0m\u001b[0;34m,\u001b[0m \u001b[0mflat\u001b[0m\u001b[0;34m=\u001b[0m\u001b[0;32mTrue\u001b[0m\u001b[0;34m)\u001b[0m\u001b[0;34m\u001b[0m\u001b[0m\n\u001b[0m\u001b[1;32m   1260\u001b[0m             \u001b[0mmatrix\u001b[0m \u001b[0;34m=\u001b[0m \u001b[0;34m[\u001b[0m\u001b[0;34m]\u001b[0m\u001b[0;34m\u001b[0m\u001b[0m\n\u001b[1;32m   1261\u001b[0m             \u001b[0;32mfor\u001b[0m \u001b[0midxA\u001b[0m\u001b[0;34m,\u001b[0m \u001b[0midxB\u001b[0m \u001b[0;32min\u001b[0m \u001b[0mutil\u001b[0m\u001b[0;34m.\u001b[0m\u001b[0mcombinations2\u001b[0m\u001b[0;34m(\u001b[0m\u001b[0mindices\u001b[0m\u001b[0;34m)\u001b[0m\u001b[0;34m:\u001b[0m\u001b[0;34m\u001b[0m\u001b[0m\n",
      "\u001b[0;32m/home/mattis/projects/scripts/LingPy/dev/lingpy/lingpy/basic/wordlist.py\u001b[0m in \u001b[0;36mget_list\u001b[0;34m(self, row, col, entry, flat, **keywords)\u001b[0m\n\u001b[1;32m    329\u001b[0m             \u001b[0;32melse\u001b[0m\u001b[0;34m:\u001b[0m\u001b[0;34m\u001b[0m\u001b[0m\n\u001b[1;32m    330\u001b[0m                 \u001b[0;31m# first, get the row ids\u001b[0m\u001b[0;34m\u001b[0m\u001b[0;34m\u001b[0m\u001b[0m\n\u001b[0;32m--> 331\u001b[0;31m                 \u001b[0mdata\u001b[0m \u001b[0;34m=\u001b[0m \u001b[0mself\u001b[0m\u001b[0;34m.\u001b[0m\u001b[0m_array\u001b[0m\u001b[0;34m[\u001b[0m\u001b[0mself\u001b[0m\u001b[0;34m.\u001b[0m\u001b[0m_idx\u001b[0m\u001b[0;34m[\u001b[0m\u001b[0mrow\u001b[0m\u001b[0;34m]\u001b[0m\u001b[0;34m]\u001b[0m\u001b[0;34m\u001b[0m\u001b[0m\n\u001b[0m\u001b[1;32m    332\u001b[0m \u001b[0;34m\u001b[0m\u001b[0m\n\u001b[1;32m    333\u001b[0m                 \u001b[0;31m# if only row is chosen, return the ids\u001b[0m\u001b[0;34m\u001b[0m\u001b[0;34m\u001b[0m\u001b[0m\n",
      "\u001b[0;31mKeyboardInterrupt\u001b[0m: "
     ]
    }
   ],
   "source": [
    "lex.cluster(method=\"sca\", threshold=0.45)\n",
    "\n",
    "for k, v in eight.items():\n",
    "    idx = v[0] \n",
    "    print(\"{0:20} \\t {1} \\t{2} \\t {3} \".format(\n",
    "        lex[idx, 'doculect'], \n",
    "        lex[idx, 'value'], \n",
    "        lex[idx, 'turchinid'], \n",
    "        lex[idx, 'scaid']))"
   ]
  },
  {
   "cell_type": "markdown",
   "metadata": {
    "deletable": true,
    "editable": true
   },
   "source": [
    "We are now ready to do the same analysis with the \"lexstat\" method. This will take some time due to the permutation test. In order to make sure we do not need to run this all the time, we will save the data immediately after running the permutation to a file which we give the extension \"bin.tsv\", and which we can load in case we want to carry out further tests, or which we can otherwise also share when publishing results, as it contains all the data needed to rerun the analyses on a different machine. LingPy creates a lot of data when analyzing wordlists, but by default, only a minimal amount of the data is written to file. In this case, if we want to store the results of the permutation test, we need to store the whole file with all the data that lingpy produces, especially the language-specific scoring function. In order to force LingPy to do so, we have to add the keyword ```ignore=[]``` to the output-function. This will prevent that any data which should be written to file is ignored (```$ python3 autocogs.py cognates-lexstat``` in commandline):"
   ]
  },
  {
   "cell_type": "code",
   "execution_count": null,
   "metadata": {
    "collapsed": true,
    "deletable": true,
    "editable": true
   },
   "outputs": [],
   "source": [
    "lex.get_scorer(runs=10000)\n",
    "lex.output('tsv', filename='east-polynesian.bin', ignore=[])\n",
    "lex.cluster(method='lexstat', threshold=0.60)\n",
    "\n",
    "for k, v in eight.items():\n",
    "    idx = v[0] \n",
    "    print(\"{0:20} \\t {1} \\t{2} \\t {3} \\t {4}\".format(\n",
    "        lex[idx, 'doculect'], \n",
    "        lex[idx, 'value'], \n",
    "        lex[idx, 'turchinid'], \n",
    "        lex[idx, 'scaid'],\n",
    "        lex[idx, 'lexstatid']\n",
    "    ))"
   ]
  },
  {
   "cell_type": "markdown",
   "metadata": {
    "deletable": true,
    "editable": true
   },
   "source": [
    "You can see that there is not much difference in the results for this very item, but you should not underestimate the different power of the methods, as we will see later on when running an evaluation analysis. For now, trust me that in general the results are quite different.\n",
    "\n",
    "Let us now run (for those who managed to install the python-igraph package) an additional analysis which was shown to yield even better results. Here, we do still use the \"lexstat\" approach, but we use \"infomap\" ([Rosvall and Bergstroem 2008](:ref:Rosvall2008)) as our cluster method. This method is network-based rather than agglomerative (as is LingPy's default), and was shown to yield consistently better results in combination with \"lexstat\" ([List, Greenhill, and Gray 2017](:ref:List2017c)). In order to avoid that we override the content of the column \"lexstatid\", we now pass a specific keyword, called `ref` (the \"reference\" of the output) and set its value to \"infomap\". We also choose a different threshold, the one we empirically determined from tests on different language families (see ibd. for details, (```$ python3 autocogs.py cognates-infomap``` in command line):"
   ]
  },
  {
   "cell_type": "code",
   "execution_count": null,
   "metadata": {
    "collapsed": true,
    "deletable": true,
    "editable": true
   },
   "outputs": [],
   "source": [
    "lex.cluster(method=\"lexstat\", threshold=0.55, ref=\"infomap\", cluster_method='infomap')\n",
    "for k, v in eight.items():\n",
    "    idx = v[0] \n",
    "    print(\"{0:20} \\t {1} \\t{2} \\t {3} \\t {4} \\t {5}\".format(\n",
    "        lex[idx, 'doculect'], \n",
    "        lex[idx, 'value'], \n",
    "        lex[idx, 'turchinid'], \n",
    "        lex[idx, 'scaid'],\n",
    "        lex[idx, 'lexstatid'],\n",
    "        lex[idx, 'infomap']\n",
    "    ))"
   ]
  },
  {
   "cell_type": "markdown",
   "metadata": {
    "deletable": true,
    "editable": true
   },
   "source": [
    "Well, no improvement for \"eight\", but we will see later in detail, and for now, we just write the data to file, this time in plain text, without the additional information, but with the additional columns with our analyses."
   ]
  },
  {
   "cell_type": "code",
   "execution_count": null,
   "metadata": {
    "collapsed": true,
    "deletable": true,
    "editable": true
   },
   "outputs": [],
   "source": [
    "lex.output('tsv', filename='east-polynesian-lexstat')"
   ]
  },
  {
   "cell_type": "markdown",
   "metadata": {
    "deletable": true,
    "editable": true
   },
   "source": [
    "### 4.4 Aligning the Results\n",
    "\n",
    "One great advantage of LingPy is that alignments can also be directly computed from automatically inferred cognate sets. This is useful, first also for manually annotated cognate sets, as it saves a lot of work, since alignment algorithms come very close to human judgments, and it requires only minimal post-annotation by humans to correct the errors. Second, it is useful to check the data, as it makes transparent where the algorithm found the similarity that triggered a respective cognate decision.\n",
    "\n",
    "When carrying out alignment analyses, we use the `Alignments` class in LingPy which requires a word list as input as well as the column which contains the cognate sets which shall be aligned. We will use the \"infomap\" analysis for our automatic alignments, since this usually performs better than the other methods. This is done by specifying the keyword `ref` as \"infomap\" when calling the `Alignments` class. As a further important tweak, we first load the data into the `LexStat` class so that we have the inferred sound correspondences which will then be used to compute our alignments. For this purpose, we load the file `mikronesian.bin.tsv` which stores the results of our permutation analysis and provides language-specific scores for all segments in the data (high scores indicating likely sound correspondences, low scores < 0 indicating non-corresponding sounds). We align using the normal progressive alignment, which is usually sufficient for smaller alignments and is slightly faster. When calling the alignment algorithm, we define the specific keyword `scoredict` and pass it the `lex.cscorer`, which stores the language-specific scoring functions for our data (```$ python autocogs.py alignments4``` in command line):"
   ]
  },
  {
   "cell_type": "code",
   "execution_count": null,
   "metadata": {
    "collapsed": true,
    "deletable": true,
    "editable": true
   },
   "outputs": [],
   "source": [
    "lex = LexStat('east-polynesian.bin.tsv')\n",
    "alm = Alignments('east-polynesian-lexstat.tsv', ref='infomap', segments='tokens') # `ref` indicates the column with the cognate sets\n",
    "alm.align(method='progressive', scoredict=lex.cscorer)"
   ]
  },
  {
   "cell_type": "markdown",
   "metadata": {
    "deletable": true,
    "editable": true
   },
   "source": [
    "This was not very spectacular, as we have not yet seen what happened. We can visualize the alignments from the command line by picking a particular cognate set and printing the alignments on screen. The alignments are added in a specific column called `alignments` as a default (but which can be modified by specifying another value with the keyword `alignments` passed to the initialization method for the `Alignments` class). Additionally, they can be retrieved using the `Alignments.get_msa` method - since multiple different alignment analyses can be stored in the object, the reference to a particular analysis must be passed. The following code illustrates how we can print a particular aligned cognate set (```python3 autocogs.py alignments5``` in command line):"
   ]
  },
  {
   "cell_type": "code",
   "execution_count": null,
   "metadata": {
    "collapsed": true,
    "deletable": true,
    "editable": true
   },
   "outputs": [],
   "source": [
    "msa = alm.get_msa('infomap')['1']\n",
    "for i, idx in enumerate(msa['ID']):\n",
    "    print(\n",
    "        '{0:20}'.format(msa['taxa'][i]),  \n",
    "        '\\t',\n",
    "        alm[idx, 'concept'],\n",
    "        '\\t',\n",
    "        '\\t'.join(msa['alignment'][i])\n",
    "    )"
   ]
  },
  {
   "cell_type": "markdown",
   "metadata": {
    "deletable": true,
    "editable": true
   },
   "source": [
    "Again the eight, although this was not planned. But now let's quickly save the data to file, so that we can go on and inspect the findings further (command line covers this command via ```python3 autocogs.py alignments4```):"
   ]
  },
  {
   "cell_type": "code",
   "execution_count": null,
   "metadata": {
    "collapsed": true,
    "deletable": true,
    "editable": true
   },
   "outputs": [],
   "source": [
    "alm.output('tsv', filename='east-polynesian-aligned', ignore='all', prettify=False)"
   ]
  },
  {
   "cell_type": "markdown",
   "metadata": {
    "deletable": true,
    "editable": true
   },
   "source": [
    "### 4.5 Inspecting Alignments with the EDICTOR\n",
    "\n",
    "+++ add a short notices +++"
   ]
  },
  {
   "cell_type": "markdown",
   "metadata": {
    "deletable": true,
    "editable": true
   },
   "source": [
    "### 4.6 Sound Correspondences\n",
    "\n",
    "+++ maybe explain simply in edictor?+++"
   ]
  },
  {
   "cell_type": "markdown",
   "metadata": {
    "deletable": true,
    "editable": true
   },
   "source": [
    "### 5 Evaluation with LingPy\n",
    "\n",
    "#### 5.1 Manual Inspection of Differences\n",
    "\n",
    "+++ diff file +++\n",
    "\n",
    "#### 5.2 Computing B-Cubed Scores\n",
    "\n",
    "LingPy has a couple of evaluation methods implemented, and since we have original expert cognate judgments from ABVD, we can compare our findings against theirs. Comparing cognate set accuracy is not necessarily a trivial problem, as we deal with cluster comparisons, which is a topic that was debated a lot in circles outside of linguistics, and it would lead us too far away if we discussed it in detail here now. For a linguistic viewpoint with a brief working example of our preferred method, the B-Cubed scores (see [Hauer and Kondrak 2011](:ref:Hauer2011), [Bagga and Baldwin 1998](:ref:Bagga1998), and [Amigo et al. 2009](:ref:Amigo2009)), see List, Greenhill, and Gray (2017). What you need to know, however, is that evaluation in NLP circles usually comes along with the concepts of *precision*, *recall*, and *f-score*. Initially, I found them rather difficult to grasp, as historical linguists usually think in terms of false positives and false negatives. In order to understand the idea, one should think that an algorithm for cognate detection can basically do two things either right or wrong: it could cluster words which are not cognate, or it could fail to cluster words as cognate. In the first case, we would measure this in terms of precision, by counting, how often the algorithm proposes correct or incorrect answers, and in the latter case, we measure the proportion of cognate sets which are missed. In the B-Cubed measure we use, this translates roughly to a measure of false/true positives vs. false/true negatives, but it is not entirely the same. The f-score computes the harmonic mean, which summarizes both values, and we usually want to improve the f-score and we use it to compare different algorithms with each other. \n",
    "\n",
    "Let's start and do this comparison now, by loading the respective functions from the LingPy evaluation module, and computing precision, recall, and f-scores for all our different automatically inferred cognate sets with respect to the gold standard. The gold standard is located in the column `COGID` of the input file, so we need to name this when comparing with any of the other columns (like `LEXSTATID`, etc., ```$ python3 autocogs.py evaluate``` in terminal)."
   ]
  },
  {
   "cell_type": "code",
   "execution_count": null,
   "metadata": {
    "collapsed": true,
    "deletable": true,
    "editable": true
   },
   "outputs": [],
   "source": [
    "from lingpy.evaluate.acd import bcubes, diff\n",
    "wl = Wordlist('east-polynesian-lexstat.tsv')\n",
    "\n",
    "for res in ['turchinid', 'scaid', 'lexstatid', 'infomap']:\n",
    "    print('{0:10}\\t{1[0]:.2f}\\t{1[1]:.2f}\\t{1[2]:.2f}'.format(\n",
    "        res,\n",
    "        bcubes(wl, 'cogid', res, pprint=False)\n",
    "    ))"
   ]
  },
  {
   "cell_type": "markdown",
   "metadata": {
    "deletable": true,
    "editable": true
   },
   "source": [
    "You can see, that the \"infomap\" method is, in fact, working one point better than the normal \"lexstat\" method, and you can also see how deep the difference between the correspondence-informed methods and the other methods is. As a last way to inspect the data, we will now use the `diff` function to create a file that contrasts the expert cognate sets with the ones inferred by Infomap (```$ python3 autocogs.py diff``` in terminal)."
   ]
  },
  {
   "cell_type": "code",
   "execution_count": null,
   "metadata": {
    "collapsed": true,
    "deletable": true,
    "editable": true
   },
   "outputs": [],
   "source": [
    "bc, pair, log = diff(wl, 'cogid', 'infomap', tofile=False, pprint=True)\n",
    "print('\\n'.join(log[:15]))"
   ]
  },
  {
   "cell_type": "markdown",
   "metadata": {
    "deletable": true,
    "editable": true
   },
   "source": [
    "You see in the output that it contrasts the \"cogid\" with the \"infomap\" numbers by putting them with words and languages in two columns.\n",
    "\n",
    "I assume that the format is more or less self-explaining. Note only one thing: the cognate-ids are always re-computed for each concept set, so you cannot compare them with the ones you find in the text. This is, however, justified, as it helps to compare, since LingPy's `diff` method re-numbers the cognate identifiers for each concept in order to maximally contrast findings by the algorithm and the ones proposed by the experts."
   ]
  },
  {
   "cell_type": "markdown",
   "metadata": {
    "deletable": true,
    "editable": true
   },
   "source": [
    "### 5.3 Benefits of Segmentation\n",
    "\n",
    "+++ add report on segmentation vs. unsegmented analysis +++"
   ]
  },
  {
   "cell_type": "markdown",
   "metadata": {
    "deletable": true,
    "editable": true
   },
   "source": [
    "## 6 Exporting Data\n",
    "\n",
    "It is clear that for many of those who consult automatic cognate detection, they use the methods in order to be able to do more with the data afterwards. LingPy so far supports quite a few different ways to write your data to file for further use in other software packages. A complete integration of `Nexus` files which transport all information which might be relevant for BEAST, however, does not exist yet (but will be added at some point sooner than later)."
   ]
  },
  {
   "cell_type": "markdown",
   "metadata": {
    "deletable": true,
    "editable": true
   },
   "source": [
    "### 6.1 Nexus-Export"
   ]
  },
  {
   "cell_type": "markdown",
   "metadata": {
    "deletable": true,
    "editable": true
   },
   "source": [
    "### 6.2 Distances and Trees"
   ]
  },
  {
   "cell_type": "markdown",
   "metadata": {
    "deletable": true,
    "editable": true
   },
   "source": [
    "You can also calculate distances which would be interesting for packages like SplitsTree (Huson 1998), or also Phylip ([Felsenstein 2005](:ref:Felsenstein2005). For this, you need to be careful, however, since distances can be computed in different ways, and you can choose from a multitude of different distances, and they are not (yet) all documented. The distance calculation as a default counts, how many cognates there are for all concepts between each language pair, so in some way, this tries to mimick Swadesh's original idea of distances or similarities between languages (```$ python3 autocog.py distances``` in commandline):"
   ]
  },
  {
   "cell_type": "code",
   "execution_count": null,
   "metadata": {
    "collapsed": true,
    "deletable": true,
    "editable": true
   },
   "outputs": [],
   "source": [
    "import io\n",
    "from lingpy.convert.strings import pap2nex\n",
    "\n",
    "wl = Wordlist('east-polynesian-lexstat.tsv')\n",
    "paps = wl.get_paps(ref='infomap', missing='?')\n",
    "nexus = pap2nex(wl.cols, paps, missing='?')\n",
    "with io.open('east-polynesian.paps.nex', 'w', encoding='utf8') as fp:\n",
    "    fp.write(nexus)\n",
    "print(nexus[:1500])"
   ]
  },
  {
   "cell_type": "code",
   "execution_count": null,
   "metadata": {
    "collapsed": true,
    "deletable": true,
    "editable": true
   },
   "outputs": [],
   "source": [
    "from lingpy.convert.strings import matrix2dst\n",
    "\n",
    "dst = matrix2dst(wl.get_distances(ref='infomap', mode='swadesh'), wl.taxa)\n",
    "with io.open('east-polynesian.dst', 'w', encoding='utf8') as fp:\n",
    "    fp.write(dst)\n",
    "print(dst)"
   ]
  },
  {
   "cell_type": "markdown",
   "metadata": {
    "deletable": true,
    "editable": true
   },
   "source": [
    "This format follows strictly the Phylip distance format which also cuts off all language names longer than 10 characters (but there are ways to modify this, I can't show them now).\n",
    "\n",
    "\n",
    "As a final experiment, let us create a tree from the distances, using the simple Neighbor-Joining algorithm, and then print this tree to screen (ignore the warning, ```$ python3 autocogs.py tree```)."
   ]
  },
  {
   "cell_type": "code",
   "execution_count": null,
   "metadata": {
    "collapsed": true,
    "deletable": true,
    "editable": true
   },
   "outputs": [],
   "source": [
    "from newick import loads\n",
    "tree = loads(wl.get_tree(ref='infomap', tree_calc='upgma'))[0]\n",
    "\n",
    "for node in tree.walk():\n",
    "    if node.name:\n",
    "        node.name = node.name[1:-1].split('_')[0][:10]\n",
    "print(tree.ascii_art(show_internal=False))"
   ]
  },
  {
   "cell_type": "markdown",
   "metadata": {
    "deletable": true,
    "editable": true
   },
   "source": [
    "It is not up to me to judge how good this tree is, and it may also be wrongly rooted in the display. But you can see that LingPy can also handle classical tree formats. Although we do not plan to make LingPy a concurrence for tree inference packages, we find it useful to offer Neighbor-joining and UPGMA just to make it easier for users to quickly evaluate their analyses.\n",
    "\n",
    "\n",
    "\n",
    "\n"
   ]
  },
  {
   "cell_type": "markdown",
   "metadata": {
    "deletable": true,
    "editable": true
   },
   "source": [
    "### CLDF Export\n",
    "\n",
    "+++ maybe @xrotwang should start here +++"
   ]
  },
  {
   "cell_type": "markdown",
   "metadata": {
    "deletable": true,
    "editable": true
   },
   "source": [
    "## References\n",
    "\n",
    "+++ recreate references afterwards again +++"
   ]
  }
 ],
 "metadata": {
  "kernelspec": {
   "display_name": "Python 3",
   "language": "python",
   "name": "python3"
  },
  "language_info": {
   "codemirror_mode": {
    "name": "ipython",
    "version": 3
   },
   "file_extension": ".py",
   "mimetype": "text/x-python",
   "name": "python",
   "nbconvert_exporter": "python",
   "pygments_lexer": "ipython3",
   "version": "3.5.2"
  }
 },
 "nbformat": 4,
 "nbformat_minor": 1
}
